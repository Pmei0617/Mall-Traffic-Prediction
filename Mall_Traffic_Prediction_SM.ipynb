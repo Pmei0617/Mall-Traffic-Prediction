{
  "cells": [
    {
      "cell_type": "markdown",
      "metadata": {
        "id": "view-in-github",
        "colab_type": "text"
      },
      "source": [
        "<a href=\"https://colab.research.google.com/github/Pmei0617/Mall-Traffic-Prediction/blob/main/Mall_Traffic_Prediction_SM.ipynb\" target=\"_parent\"><img src=\"https://colab.research.google.com/assets/colab-badge.svg\" alt=\"Open In Colab\"/></a>"
      ]
    },
    {
      "cell_type": "markdown",
      "metadata": {
        "id": "zhj2bkv_6J9I"
      },
      "source": [
        "# **Mall Traffic Prediction**\n",
        "\n",
        "Self-guided project using data provided by Digital Marketing Analytics course at Wisconsin School of Business\n",
        "\n",
        "###**Project Background**\n",
        "Customer traffic is the most relevant KPI for mall managers, and we use it as the outcome variable when evaluating the effectiveness of mall campaigns. Malls lease retail spaces to independent stores, including department stores, brand chain stores, and privately-owned small businesses. The rent that malls collect from tenant stores is determined by factors such as square footage of the rental space, locations of the rental space, and customer traffic to the mall. While square footage and location are usually fixed, customer traffic is a variable factor that malls can take measures to improve. Increases in customer traffic strongly correlate with increases in mall revenue, as indicated by industry reports and as we found in an additional analysis. Unlike department stores that use sales as a main KPI, malls focus on bringing in customers, and it is up to each tenant store to convert shoppers visiting the mall into paying customers. Therefore, increasing customer traffic, which in turn drives up mall revenue, is a key objective of mall managers. \n",
        "\n",
        "\n",
        "###**Methodology**\n",
        "Build ML models to predict 7 key metrics of mall related to traffic:\n",
        "1. Daily mall traffic\n",
        "2. Total visit\n",
        "3. Total traffic of stores in **5** different categories\n",
        "\n",
        "\n",
        "###**File Description**\n",
        "**CASE_GROUP_PREDICT_SAMPLE**: Used to build and train ML models. File contains all independent variables and the 7 dependent variables. \n",
        "\n",
        "**CASE_GROUP_PREDICT_HOLD_DATA**: Used to pass into ML models in order to predict the 7 dependent variables. File constains all independent variables and no dependent variables.\n",
        "\n",
        "\n",
        "###**Variable Description**\n",
        "See PDF document *'Variable Description for Mall Traffic Prediction'* for details"
      ]
    },
    {
      "cell_type": "code",
      "execution_count": 1,
      "metadata": {
        "id": "J-hu8DZLJjZo"
      },
      "outputs": [],
      "source": [
        "#Import required libraries\n",
        "import pandas as pd\n",
        "import numpy as np\n",
        "import matplotlib.pyplot as plt\n",
        "import seaborn as sns\n",
        "\n",
        "from datetime import datetime\n",
        "from sklearn.ensemble import RandomForestRegressor\n",
        "from sklearn.model_selection import cross_val_score\n",
        "from sklearn.model_selection import train_test_split\n",
        "from sklearn.metrics import mean_squared_error\n",
        "from sklearn.metrics import r2_score\n",
        "from sklearn.datasets import load_iris\n",
        "from sklearn.metrics import mean_absolute_error\n",
        "from sklearn.model_selection import GridSearchCV\n",
        "from scipy.stats import pearsonr"
      ]
    },
    {
      "cell_type": "code",
      "execution_count": 2,
      "metadata": {
        "colab": {
          "base_uri": "https://localhost:8080/",
          "height": 108
        },
        "id": "inEmHjrp57JQ",
        "outputId": "04ef1b57-40ec-48f2-b430-a3157f20fa0c"
      },
      "outputs": [
        {
          "output_type": "display_data",
          "data": {
            "text/plain": [
              "<IPython.core.display.HTML object>"
            ],
            "text/html": [
              "\n",
              "     <input type=\"file\" id=\"files-12c4c10e-f05f-4c90-a327-d180f6d19841\" name=\"files[]\" multiple disabled\n",
              "        style=\"border:none\" />\n",
              "     <output id=\"result-12c4c10e-f05f-4c90-a327-d180f6d19841\">\n",
              "      Upload widget is only available when the cell has been executed in the\n",
              "      current browser session. Please rerun this cell to enable.\n",
              "      </output>\n",
              "      <script>// Copyright 2017 Google LLC\n",
              "//\n",
              "// Licensed under the Apache License, Version 2.0 (the \"License\");\n",
              "// you may not use this file except in compliance with the License.\n",
              "// You may obtain a copy of the License at\n",
              "//\n",
              "//      http://www.apache.org/licenses/LICENSE-2.0\n",
              "//\n",
              "// Unless required by applicable law or agreed to in writing, software\n",
              "// distributed under the License is distributed on an \"AS IS\" BASIS,\n",
              "// WITHOUT WARRANTIES OR CONDITIONS OF ANY KIND, either express or implied.\n",
              "// See the License for the specific language governing permissions and\n",
              "// limitations under the License.\n",
              "\n",
              "/**\n",
              " * @fileoverview Helpers for google.colab Python module.\n",
              " */\n",
              "(function(scope) {\n",
              "function span(text, styleAttributes = {}) {\n",
              "  const element = document.createElement('span');\n",
              "  element.textContent = text;\n",
              "  for (const key of Object.keys(styleAttributes)) {\n",
              "    element.style[key] = styleAttributes[key];\n",
              "  }\n",
              "  return element;\n",
              "}\n",
              "\n",
              "// Max number of bytes which will be uploaded at a time.\n",
              "const MAX_PAYLOAD_SIZE = 100 * 1024;\n",
              "\n",
              "function _uploadFiles(inputId, outputId) {\n",
              "  const steps = uploadFilesStep(inputId, outputId);\n",
              "  const outputElement = document.getElementById(outputId);\n",
              "  // Cache steps on the outputElement to make it available for the next call\n",
              "  // to uploadFilesContinue from Python.\n",
              "  outputElement.steps = steps;\n",
              "\n",
              "  return _uploadFilesContinue(outputId);\n",
              "}\n",
              "\n",
              "// This is roughly an async generator (not supported in the browser yet),\n",
              "// where there are multiple asynchronous steps and the Python side is going\n",
              "// to poll for completion of each step.\n",
              "// This uses a Promise to block the python side on completion of each step,\n",
              "// then passes the result of the previous step as the input to the next step.\n",
              "function _uploadFilesContinue(outputId) {\n",
              "  const outputElement = document.getElementById(outputId);\n",
              "  const steps = outputElement.steps;\n",
              "\n",
              "  const next = steps.next(outputElement.lastPromiseValue);\n",
              "  return Promise.resolve(next.value.promise).then((value) => {\n",
              "    // Cache the last promise value to make it available to the next\n",
              "    // step of the generator.\n",
              "    outputElement.lastPromiseValue = value;\n",
              "    return next.value.response;\n",
              "  });\n",
              "}\n",
              "\n",
              "/**\n",
              " * Generator function which is called between each async step of the upload\n",
              " * process.\n",
              " * @param {string} inputId Element ID of the input file picker element.\n",
              " * @param {string} outputId Element ID of the output display.\n",
              " * @return {!Iterable<!Object>} Iterable of next steps.\n",
              " */\n",
              "function* uploadFilesStep(inputId, outputId) {\n",
              "  const inputElement = document.getElementById(inputId);\n",
              "  inputElement.disabled = false;\n",
              "\n",
              "  const outputElement = document.getElementById(outputId);\n",
              "  outputElement.innerHTML = '';\n",
              "\n",
              "  const pickedPromise = new Promise((resolve) => {\n",
              "    inputElement.addEventListener('change', (e) => {\n",
              "      resolve(e.target.files);\n",
              "    });\n",
              "  });\n",
              "\n",
              "  const cancel = document.createElement('button');\n",
              "  inputElement.parentElement.appendChild(cancel);\n",
              "  cancel.textContent = 'Cancel upload';\n",
              "  const cancelPromise = new Promise((resolve) => {\n",
              "    cancel.onclick = () => {\n",
              "      resolve(null);\n",
              "    };\n",
              "  });\n",
              "\n",
              "  // Wait for the user to pick the files.\n",
              "  const files = yield {\n",
              "    promise: Promise.race([pickedPromise, cancelPromise]),\n",
              "    response: {\n",
              "      action: 'starting',\n",
              "    }\n",
              "  };\n",
              "\n",
              "  cancel.remove();\n",
              "\n",
              "  // Disable the input element since further picks are not allowed.\n",
              "  inputElement.disabled = true;\n",
              "\n",
              "  if (!files) {\n",
              "    return {\n",
              "      response: {\n",
              "        action: 'complete',\n",
              "      }\n",
              "    };\n",
              "  }\n",
              "\n",
              "  for (const file of files) {\n",
              "    const li = document.createElement('li');\n",
              "    li.append(span(file.name, {fontWeight: 'bold'}));\n",
              "    li.append(span(\n",
              "        `(${file.type || 'n/a'}) - ${file.size} bytes, ` +\n",
              "        `last modified: ${\n",
              "            file.lastModifiedDate ? file.lastModifiedDate.toLocaleDateString() :\n",
              "                                    'n/a'} - `));\n",
              "    const percent = span('0% done');\n",
              "    li.appendChild(percent);\n",
              "\n",
              "    outputElement.appendChild(li);\n",
              "\n",
              "    const fileDataPromise = new Promise((resolve) => {\n",
              "      const reader = new FileReader();\n",
              "      reader.onload = (e) => {\n",
              "        resolve(e.target.result);\n",
              "      };\n",
              "      reader.readAsArrayBuffer(file);\n",
              "    });\n",
              "    // Wait for the data to be ready.\n",
              "    let fileData = yield {\n",
              "      promise: fileDataPromise,\n",
              "      response: {\n",
              "        action: 'continue',\n",
              "      }\n",
              "    };\n",
              "\n",
              "    // Use a chunked sending to avoid message size limits. See b/62115660.\n",
              "    let position = 0;\n",
              "    do {\n",
              "      const length = Math.min(fileData.byteLength - position, MAX_PAYLOAD_SIZE);\n",
              "      const chunk = new Uint8Array(fileData, position, length);\n",
              "      position += length;\n",
              "\n",
              "      const base64 = btoa(String.fromCharCode.apply(null, chunk));\n",
              "      yield {\n",
              "        response: {\n",
              "          action: 'append',\n",
              "          file: file.name,\n",
              "          data: base64,\n",
              "        },\n",
              "      };\n",
              "\n",
              "      let percentDone = fileData.byteLength === 0 ?\n",
              "          100 :\n",
              "          Math.round((position / fileData.byteLength) * 100);\n",
              "      percent.textContent = `${percentDone}% done`;\n",
              "\n",
              "    } while (position < fileData.byteLength);\n",
              "  }\n",
              "\n",
              "  // All done.\n",
              "  yield {\n",
              "    response: {\n",
              "      action: 'complete',\n",
              "    }\n",
              "  };\n",
              "}\n",
              "\n",
              "scope.google = scope.google || {};\n",
              "scope.google.colab = scope.google.colab || {};\n",
              "scope.google.colab._files = {\n",
              "  _uploadFiles,\n",
              "  _uploadFilesContinue,\n",
              "};\n",
              "})(self);\n",
              "</script> "
            ]
          },
          "metadata": {}
        },
        {
          "output_type": "stream",
          "name": "stdout",
          "text": [
            "Saving CASE_GROUP_PREDICT_HOLD_DATA.csv to CASE_GROUP_PREDICT_HOLD_DATA.csv\n",
            "Saving CASE_GROUP_PREDICT_SAMPLE.csv to CASE_GROUP_PREDICT_SAMPLE.csv\n"
          ]
        }
      ],
      "source": [
        "#Import files we need for training models and making predictions\n",
        "from google.colab import files\n",
        "uploaded = files.upload()"
      ]
    },
    {
      "cell_type": "code",
      "execution_count": 3,
      "metadata": {
        "id": "veIz7rfrJu4V"
      },
      "outputs": [],
      "source": [
        "#Read in training and hold datasets\n",
        "trn = pd.read_csv(\"CASE_GROUP_PREDICT_SAMPLE.csv\")\n",
        "hold = pd.read_csv(\"CASE_GROUP_PREDICT_HOLD_DATA.csv\")"
      ]
    },
    {
      "cell_type": "code",
      "execution_count": null,
      "metadata": {
        "colab": {
          "base_uri": "https://localhost:8080/",
          "height": 386
        },
        "id": "HWotacsDKUD9",
        "outputId": "9dc96afd-f437-4483-ffdd-a3555ba3fd70"
      },
      "outputs": [
        {
          "data": {
            "text/html": [
              "\n",
              "  <div id=\"df-3528b5d1-1400-4ee3-a8b0-c0baed93a2f6\">\n",
              "    <div class=\"colab-df-container\">\n",
              "      <div>\n",
              "<style scoped>\n",
              "    .dataframe tbody tr th:only-of-type {\n",
              "        vertical-align: middle;\n",
              "    }\n",
              "\n",
              "    .dataframe tbody tr th {\n",
              "        vertical-align: top;\n",
              "    }\n",
              "\n",
              "    .dataframe thead th {\n",
              "        text-align: right;\n",
              "    }\n",
              "</style>\n",
              "<table border=\"1\" class=\"dataframe\">\n",
              "  <thead>\n",
              "    <tr style=\"text-align: right;\">\n",
              "      <th></th>\n",
              "      <th>plazaid</th>\n",
              "      <th>date</th>\n",
              "      <th>ZoneID</th>\n",
              "      <th>CityID</th>\n",
              "      <th>CityLevel</th>\n",
              "      <th>BusinessStartDate</th>\n",
              "      <th>PlazaLevel2</th>\n",
              "      <th>PlazaType</th>\n",
              "      <th>BusiArea</th>\n",
              "      <th>TotalBuildingArea</th>\n",
              "      <th>...</th>\n",
              "      <th>day_weather2</th>\n",
              "      <th>day_wind</th>\n",
              "      <th>night_wind</th>\n",
              "      <th>total_visit</th>\n",
              "      <th>innum_1</th>\n",
              "      <th>innum_102</th>\n",
              "      <th>innum_103</th>\n",
              "      <th>innum_104</th>\n",
              "      <th>innum_1000290</th>\n",
              "      <th>innum</th>\n",
              "    </tr>\n",
              "  </thead>\n",
              "  <tbody>\n",
              "    <tr>\n",
              "      <th>0</th>\n",
              "      <td>45</td>\n",
              "      <td>2014-01-01</td>\n",
              "      <td>8</td>\n",
              "      <td>179</td>\n",
              "      <td>1498</td>\n",
              "      <td>27AUG11:00:00:00</td>\n",
              "      <td>A?</td>\n",
              "      <td>2</td>\n",
              "      <td>84878.4</td>\n",
              "      <td>135315.2</td>\n",
              "      <td>...</td>\n",
              "      <td>good</td>\n",
              "      <td>1</td>\n",
              "      <td>1</td>\n",
              "      <td>164712.0</td>\n",
              "      <td>37559.0</td>\n",
              "      <td>43028.0</td>\n",
              "      <td>43766.0</td>\n",
              "      <td>26319.0</td>\n",
              "      <td>1371.0</td>\n",
              "      <td>41365</td>\n",
              "    </tr>\n",
              "    <tr>\n",
              "      <th>1</th>\n",
              "      <td>45</td>\n",
              "      <td>2014-01-02</td>\n",
              "      <td>8</td>\n",
              "      <td>179</td>\n",
              "      <td>1498</td>\n",
              "      <td>27AUG11:00:00:00</td>\n",
              "      <td>A?</td>\n",
              "      <td>2</td>\n",
              "      <td>84878.4</td>\n",
              "      <td>135315.2</td>\n",
              "      <td>...</td>\n",
              "      <td>good</td>\n",
              "      <td>1</td>\n",
              "      <td>1</td>\n",
              "      <td>139543.0</td>\n",
              "      <td>13929.0</td>\n",
              "      <td>99360.0</td>\n",
              "      <td>12081.0</td>\n",
              "      <td>9025.0</td>\n",
              "      <td>719.0</td>\n",
              "      <td>29620</td>\n",
              "    </tr>\n",
              "    <tr>\n",
              "      <th>2</th>\n",
              "      <td>45</td>\n",
              "      <td>2014-01-03</td>\n",
              "      <td>8</td>\n",
              "      <td>179</td>\n",
              "      <td>1498</td>\n",
              "      <td>27AUG11:00:00:00</td>\n",
              "      <td>A?</td>\n",
              "      <td>2</td>\n",
              "      <td>84878.4</td>\n",
              "      <td>135315.2</td>\n",
              "      <td>...</td>\n",
              "      <td>good</td>\n",
              "      <td>1</td>\n",
              "      <td>1</td>\n",
              "      <td>162541.0</td>\n",
              "      <td>19748.0</td>\n",
              "      <td>115348.0</td>\n",
              "      <td>13329.0</td>\n",
              "      <td>8029.0</td>\n",
              "      <td>858.0</td>\n",
              "      <td>33238</td>\n",
              "    </tr>\n",
              "    <tr>\n",
              "      <th>3</th>\n",
              "      <td>45</td>\n",
              "      <td>2014-01-04</td>\n",
              "      <td>8</td>\n",
              "      <td>179</td>\n",
              "      <td>1498</td>\n",
              "      <td>27AUG11:00:00:00</td>\n",
              "      <td>A?</td>\n",
              "      <td>2</td>\n",
              "      <td>84878.4</td>\n",
              "      <td>135315.2</td>\n",
              "      <td>...</td>\n",
              "      <td>good</td>\n",
              "      <td>1</td>\n",
              "      <td>1</td>\n",
              "      <td>177054.0</td>\n",
              "      <td>18193.0</td>\n",
              "      <td>121325.0</td>\n",
              "      <td>17298.0</td>\n",
              "      <td>12004.0</td>\n",
              "      <td>1087.0</td>\n",
              "      <td>32870</td>\n",
              "    </tr>\n",
              "    <tr>\n",
              "      <th>4</th>\n",
              "      <td>45</td>\n",
              "      <td>2014-01-05</td>\n",
              "      <td>8</td>\n",
              "      <td>179</td>\n",
              "      <td>1498</td>\n",
              "      <td>27AUG11:00:00:00</td>\n",
              "      <td>A?</td>\n",
              "      <td>2</td>\n",
              "      <td>84878.4</td>\n",
              "      <td>135315.2</td>\n",
              "      <td>...</td>\n",
              "      <td>good</td>\n",
              "      <td>1</td>\n",
              "      <td>1</td>\n",
              "      <td>202265.0</td>\n",
              "      <td>22348.0</td>\n",
              "      <td>133857.0</td>\n",
              "      <td>22607.0</td>\n",
              "      <td>15105.0</td>\n",
              "      <td>1276.0</td>\n",
              "      <td>39040</td>\n",
              "    </tr>\n",
              "  </tbody>\n",
              "</table>\n",
              "<p>5 rows × 41 columns</p>\n",
              "</div>\n",
              "      <button class=\"colab-df-convert\" onclick=\"convertToInteractive('df-3528b5d1-1400-4ee3-a8b0-c0baed93a2f6')\"\n",
              "              title=\"Convert this dataframe to an interactive table.\"\n",
              "              style=\"display:none;\">\n",
              "        \n",
              "  <svg xmlns=\"http://www.w3.org/2000/svg\" height=\"24px\"viewBox=\"0 0 24 24\"\n",
              "       width=\"24px\">\n",
              "    <path d=\"M0 0h24v24H0V0z\" fill=\"none\"/>\n",
              "    <path d=\"M18.56 5.44l.94 2.06.94-2.06 2.06-.94-2.06-.94-.94-2.06-.94 2.06-2.06.94zm-11 1L8.5 8.5l.94-2.06 2.06-.94-2.06-.94L8.5 2.5l-.94 2.06-2.06.94zm10 10l.94 2.06.94-2.06 2.06-.94-2.06-.94-.94-2.06-.94 2.06-2.06.94z\"/><path d=\"M17.41 7.96l-1.37-1.37c-.4-.4-.92-.59-1.43-.59-.52 0-1.04.2-1.43.59L10.3 9.45l-7.72 7.72c-.78.78-.78 2.05 0 2.83L4 21.41c.39.39.9.59 1.41.59.51 0 1.02-.2 1.41-.59l7.78-7.78 2.81-2.81c.8-.78.8-2.07 0-2.86zM5.41 20L4 18.59l7.72-7.72 1.47 1.35L5.41 20z\"/>\n",
              "  </svg>\n",
              "      </button>\n",
              "      \n",
              "  <style>\n",
              "    .colab-df-container {\n",
              "      display:flex;\n",
              "      flex-wrap:wrap;\n",
              "      gap: 12px;\n",
              "    }\n",
              "\n",
              "    .colab-df-convert {\n",
              "      background-color: #E8F0FE;\n",
              "      border: none;\n",
              "      border-radius: 50%;\n",
              "      cursor: pointer;\n",
              "      display: none;\n",
              "      fill: #1967D2;\n",
              "      height: 32px;\n",
              "      padding: 0 0 0 0;\n",
              "      width: 32px;\n",
              "    }\n",
              "\n",
              "    .colab-df-convert:hover {\n",
              "      background-color: #E2EBFA;\n",
              "      box-shadow: 0px 1px 2px rgba(60, 64, 67, 0.3), 0px 1px 3px 1px rgba(60, 64, 67, 0.15);\n",
              "      fill: #174EA6;\n",
              "    }\n",
              "\n",
              "    [theme=dark] .colab-df-convert {\n",
              "      background-color: #3B4455;\n",
              "      fill: #D2E3FC;\n",
              "    }\n",
              "\n",
              "    [theme=dark] .colab-df-convert:hover {\n",
              "      background-color: #434B5C;\n",
              "      box-shadow: 0px 1px 3px 1px rgba(0, 0, 0, 0.15);\n",
              "      filter: drop-shadow(0px 1px 2px rgba(0, 0, 0, 0.3));\n",
              "      fill: #FFFFFF;\n",
              "    }\n",
              "  </style>\n",
              "\n",
              "      <script>\n",
              "        const buttonEl =\n",
              "          document.querySelector('#df-3528b5d1-1400-4ee3-a8b0-c0baed93a2f6 button.colab-df-convert');\n",
              "        buttonEl.style.display =\n",
              "          google.colab.kernel.accessAllowed ? 'block' : 'none';\n",
              "\n",
              "        async function convertToInteractive(key) {\n",
              "          const element = document.querySelector('#df-3528b5d1-1400-4ee3-a8b0-c0baed93a2f6');\n",
              "          const dataTable =\n",
              "            await google.colab.kernel.invokeFunction('convertToInteractive',\n",
              "                                                     [key], {});\n",
              "          if (!dataTable) return;\n",
              "\n",
              "          const docLinkHtml = 'Like what you see? Visit the ' +\n",
              "            '<a target=\"_blank\" href=https://colab.research.google.com/notebooks/data_table.ipynb>data table notebook</a>'\n",
              "            + ' to learn more about interactive tables.';\n",
              "          element.innerHTML = '';\n",
              "          dataTable['output_type'] = 'display_data';\n",
              "          await google.colab.output.renderOutput(dataTable, element);\n",
              "          const docLink = document.createElement('div');\n",
              "          docLink.innerHTML = docLinkHtml;\n",
              "          element.appendChild(docLink);\n",
              "        }\n",
              "      </script>\n",
              "    </div>\n",
              "  </div>\n",
              "  "
            ],
            "text/plain": [
              "  plazaid        date  ZoneID  CityID  CityLevel BusinessStartDate  \\\n",
              "0      45  2014-01-01       8     179       1498  27AUG11:00:00:00   \n",
              "1      45  2014-01-02       8     179       1498  27AUG11:00:00:00   \n",
              "2      45  2014-01-03       8     179       1498  27AUG11:00:00:00   \n",
              "3      45  2014-01-04       8     179       1498  27AUG11:00:00:00   \n",
              "4      45  2014-01-05       8     179       1498  27AUG11:00:00:00   \n",
              "\n",
              "  PlazaLevel2  PlazaType  BusiArea  TotalBuildingArea  ...  day_weather2  \\\n",
              "0          A?          2   84878.4           135315.2  ...          good   \n",
              "1          A?          2   84878.4           135315.2  ...          good   \n",
              "2          A?          2   84878.4           135315.2  ...          good   \n",
              "3          A?          2   84878.4           135315.2  ...          good   \n",
              "4          A?          2   84878.4           135315.2  ...          good   \n",
              "\n",
              "   day_wind  night_wind  total_visit  innum_1  innum_102  innum_103  \\\n",
              "0         1           1     164712.0  37559.0    43028.0    43766.0   \n",
              "1         1           1     139543.0  13929.0    99360.0    12081.0   \n",
              "2         1           1     162541.0  19748.0   115348.0    13329.0   \n",
              "3         1           1     177054.0  18193.0   121325.0    17298.0   \n",
              "4         1           1     202265.0  22348.0   133857.0    22607.0   \n",
              "\n",
              "   innum_104  innum_1000290  innum  \n",
              "0    26319.0         1371.0  41365  \n",
              "1     9025.0          719.0  29620  \n",
              "2     8029.0          858.0  33238  \n",
              "3    12004.0         1087.0  32870  \n",
              "4    15105.0         1276.0  39040  \n",
              "\n",
              "[5 rows x 41 columns]"
            ]
          },
          "execution_count": 83,
          "metadata": {},
          "output_type": "execute_result"
        }
      ],
      "source": [
        "trn.head()"
      ]
    },
    {
      "cell_type": "code",
      "execution_count": null,
      "metadata": {
        "colab": {
          "base_uri": "https://localhost:8080/",
          "height": 300
        },
        "id": "DeMfIUduL361",
        "outputId": "62e0c30e-0449-4c3f-d374-7e778fa8b403"
      },
      "outputs": [
        {
          "data": {
            "text/html": [
              "\n",
              "  <div id=\"df-6fef1def-e5f6-4fd5-8933-d16ba80ae3f2\">\n",
              "    <div class=\"colab-df-container\">\n",
              "      <div>\n",
              "<style scoped>\n",
              "    .dataframe tbody tr th:only-of-type {\n",
              "        vertical-align: middle;\n",
              "    }\n",
              "\n",
              "    .dataframe tbody tr th {\n",
              "        vertical-align: top;\n",
              "    }\n",
              "\n",
              "    .dataframe thead th {\n",
              "        text-align: right;\n",
              "    }\n",
              "</style>\n",
              "<table border=\"1\" class=\"dataframe\">\n",
              "  <thead>\n",
              "    <tr style=\"text-align: right;\">\n",
              "      <th></th>\n",
              "      <th>plazaid</th>\n",
              "      <th>date</th>\n",
              "      <th>ZoneID</th>\n",
              "      <th>CityID</th>\n",
              "      <th>CityLevel</th>\n",
              "      <th>BusinessStartDate</th>\n",
              "      <th>PlazaLevel2</th>\n",
              "      <th>PlazaType</th>\n",
              "      <th>BusiArea</th>\n",
              "      <th>TotalBuildingArea</th>\n",
              "      <th>...</th>\n",
              "      <th>holiday7</th>\n",
              "      <th>new_year_eve</th>\n",
              "      <th>holiday8</th>\n",
              "      <th>workingday_makeup</th>\n",
              "      <th>day_temp</th>\n",
              "      <th>night_temp</th>\n",
              "      <th>day_weather</th>\n",
              "      <th>day_weather2</th>\n",
              "      <th>day_wind</th>\n",
              "      <th>night_wind</th>\n",
              "    </tr>\n",
              "  </thead>\n",
              "  <tbody>\n",
              "    <tr>\n",
              "      <th>0</th>\n",
              "      <td>45</td>\n",
              "      <td>7/1/2016</td>\n",
              "      <td>8</td>\n",
              "      <td>179</td>\n",
              "      <td>1498</td>\n",
              "      <td>27AUG11:00:00:00</td>\n",
              "      <td>A?</td>\n",
              "      <td>2</td>\n",
              "      <td>84878.4</td>\n",
              "      <td>135315.2</td>\n",
              "      <td>...</td>\n",
              "      <td>0</td>\n",
              "      <td>0</td>\n",
              "      <td>0</td>\n",
              "      <td>0</td>\n",
              "      <td>27</td>\n",
              "      <td>23</td>\n",
              "      <td>rain_storm</td>\n",
              "      <td>big_trouble</td>\n",
              "      <td>1</td>\n",
              "      <td>1</td>\n",
              "    </tr>\n",
              "    <tr>\n",
              "      <th>1</th>\n",
              "      <td>45</td>\n",
              "      <td>7/2/2016</td>\n",
              "      <td>8</td>\n",
              "      <td>179</td>\n",
              "      <td>1498</td>\n",
              "      <td>27AUG11:00:00:00</td>\n",
              "      <td>A?</td>\n",
              "      <td>2</td>\n",
              "      <td>84878.4</td>\n",
              "      <td>135315.2</td>\n",
              "      <td>...</td>\n",
              "      <td>0</td>\n",
              "      <td>0</td>\n",
              "      <td>0</td>\n",
              "      <td>0</td>\n",
              "      <td>26</td>\n",
              "      <td>23</td>\n",
              "      <td>heavy_rain</td>\n",
              "      <td>med_trouble</td>\n",
              "      <td>1</td>\n",
              "      <td>1</td>\n",
              "    </tr>\n",
              "    <tr>\n",
              "      <th>2</th>\n",
              "      <td>45</td>\n",
              "      <td>7/3/2016</td>\n",
              "      <td>8</td>\n",
              "      <td>179</td>\n",
              "      <td>1498</td>\n",
              "      <td>27AUG11:00:00:00</td>\n",
              "      <td>A?</td>\n",
              "      <td>2</td>\n",
              "      <td>84878.4</td>\n",
              "      <td>135315.2</td>\n",
              "      <td>...</td>\n",
              "      <td>0</td>\n",
              "      <td>0</td>\n",
              "      <td>0</td>\n",
              "      <td>0</td>\n",
              "      <td>27</td>\n",
              "      <td>24</td>\n",
              "      <td>med_rain</td>\n",
              "      <td>small_trouble</td>\n",
              "      <td>1</td>\n",
              "      <td>1</td>\n",
              "    </tr>\n",
              "    <tr>\n",
              "      <th>3</th>\n",
              "      <td>45</td>\n",
              "      <td>7/4/2016</td>\n",
              "      <td>8</td>\n",
              "      <td>179</td>\n",
              "      <td>1498</td>\n",
              "      <td>27AUG11:00:00:00</td>\n",
              "      <td>A?</td>\n",
              "      <td>2</td>\n",
              "      <td>84878.4</td>\n",
              "      <td>135315.2</td>\n",
              "      <td>...</td>\n",
              "      <td>0</td>\n",
              "      <td>0</td>\n",
              "      <td>0</td>\n",
              "      <td>0</td>\n",
              "      <td>26</td>\n",
              "      <td>22</td>\n",
              "      <td>heavy_rain</td>\n",
              "      <td>med_trouble</td>\n",
              "      <td>1</td>\n",
              "      <td>1</td>\n",
              "    </tr>\n",
              "    <tr>\n",
              "      <th>4</th>\n",
              "      <td>45</td>\n",
              "      <td>7/5/2016</td>\n",
              "      <td>8</td>\n",
              "      <td>179</td>\n",
              "      <td>1498</td>\n",
              "      <td>27AUG11:00:00:00</td>\n",
              "      <td>A?</td>\n",
              "      <td>2</td>\n",
              "      <td>84878.4</td>\n",
              "      <td>135315.2</td>\n",
              "      <td>...</td>\n",
              "      <td>0</td>\n",
              "      <td>0</td>\n",
              "      <td>0</td>\n",
              "      <td>0</td>\n",
              "      <td>27</td>\n",
              "      <td>23</td>\n",
              "      <td>heavy_rain</td>\n",
              "      <td>med_trouble</td>\n",
              "      <td>1</td>\n",
              "      <td>1</td>\n",
              "    </tr>\n",
              "  </tbody>\n",
              "</table>\n",
              "<p>5 rows × 34 columns</p>\n",
              "</div>\n",
              "      <button class=\"colab-df-convert\" onclick=\"convertToInteractive('df-6fef1def-e5f6-4fd5-8933-d16ba80ae3f2')\"\n",
              "              title=\"Convert this dataframe to an interactive table.\"\n",
              "              style=\"display:none;\">\n",
              "        \n",
              "  <svg xmlns=\"http://www.w3.org/2000/svg\" height=\"24px\"viewBox=\"0 0 24 24\"\n",
              "       width=\"24px\">\n",
              "    <path d=\"M0 0h24v24H0V0z\" fill=\"none\"/>\n",
              "    <path d=\"M18.56 5.44l.94 2.06.94-2.06 2.06-.94-2.06-.94-.94-2.06-.94 2.06-2.06.94zm-11 1L8.5 8.5l.94-2.06 2.06-.94-2.06-.94L8.5 2.5l-.94 2.06-2.06.94zm10 10l.94 2.06.94-2.06 2.06-.94-2.06-.94-.94-2.06-.94 2.06-2.06.94z\"/><path d=\"M17.41 7.96l-1.37-1.37c-.4-.4-.92-.59-1.43-.59-.52 0-1.04.2-1.43.59L10.3 9.45l-7.72 7.72c-.78.78-.78 2.05 0 2.83L4 21.41c.39.39.9.59 1.41.59.51 0 1.02-.2 1.41-.59l7.78-7.78 2.81-2.81c.8-.78.8-2.07 0-2.86zM5.41 20L4 18.59l7.72-7.72 1.47 1.35L5.41 20z\"/>\n",
              "  </svg>\n",
              "      </button>\n",
              "      \n",
              "  <style>\n",
              "    .colab-df-container {\n",
              "      display:flex;\n",
              "      flex-wrap:wrap;\n",
              "      gap: 12px;\n",
              "    }\n",
              "\n",
              "    .colab-df-convert {\n",
              "      background-color: #E8F0FE;\n",
              "      border: none;\n",
              "      border-radius: 50%;\n",
              "      cursor: pointer;\n",
              "      display: none;\n",
              "      fill: #1967D2;\n",
              "      height: 32px;\n",
              "      padding: 0 0 0 0;\n",
              "      width: 32px;\n",
              "    }\n",
              "\n",
              "    .colab-df-convert:hover {\n",
              "      background-color: #E2EBFA;\n",
              "      box-shadow: 0px 1px 2px rgba(60, 64, 67, 0.3), 0px 1px 3px 1px rgba(60, 64, 67, 0.15);\n",
              "      fill: #174EA6;\n",
              "    }\n",
              "\n",
              "    [theme=dark] .colab-df-convert {\n",
              "      background-color: #3B4455;\n",
              "      fill: #D2E3FC;\n",
              "    }\n",
              "\n",
              "    [theme=dark] .colab-df-convert:hover {\n",
              "      background-color: #434B5C;\n",
              "      box-shadow: 0px 1px 3px 1px rgba(0, 0, 0, 0.15);\n",
              "      filter: drop-shadow(0px 1px 2px rgba(0, 0, 0, 0.3));\n",
              "      fill: #FFFFFF;\n",
              "    }\n",
              "  </style>\n",
              "\n",
              "      <script>\n",
              "        const buttonEl =\n",
              "          document.querySelector('#df-6fef1def-e5f6-4fd5-8933-d16ba80ae3f2 button.colab-df-convert');\n",
              "        buttonEl.style.display =\n",
              "          google.colab.kernel.accessAllowed ? 'block' : 'none';\n",
              "\n",
              "        async function convertToInteractive(key) {\n",
              "          const element = document.querySelector('#df-6fef1def-e5f6-4fd5-8933-d16ba80ae3f2');\n",
              "          const dataTable =\n",
              "            await google.colab.kernel.invokeFunction('convertToInteractive',\n",
              "                                                     [key], {});\n",
              "          if (!dataTable) return;\n",
              "\n",
              "          const docLinkHtml = 'Like what you see? Visit the ' +\n",
              "            '<a target=\"_blank\" href=https://colab.research.google.com/notebooks/data_table.ipynb>data table notebook</a>'\n",
              "            + ' to learn more about interactive tables.';\n",
              "          element.innerHTML = '';\n",
              "          dataTable['output_type'] = 'display_data';\n",
              "          await google.colab.output.renderOutput(dataTable, element);\n",
              "          const docLink = document.createElement('div');\n",
              "          docLink.innerHTML = docLinkHtml;\n",
              "          element.appendChild(docLink);\n",
              "        }\n",
              "      </script>\n",
              "    </div>\n",
              "  </div>\n",
              "  "
            ],
            "text/plain": [
              "  plazaid      date  ZoneID  CityID  CityLevel BusinessStartDate PlazaLevel2  \\\n",
              "0      45  7/1/2016       8     179       1498  27AUG11:00:00:00          A?   \n",
              "1      45  7/2/2016       8     179       1498  27AUG11:00:00:00          A?   \n",
              "2      45  7/3/2016       8     179       1498  27AUG11:00:00:00          A?   \n",
              "3      45  7/4/2016       8     179       1498  27AUG11:00:00:00          A?   \n",
              "4      45  7/5/2016       8     179       1498  27AUG11:00:00:00          A?   \n",
              "\n",
              "   PlazaType  BusiArea  TotalBuildingArea  ...  holiday7  new_year_eve  \\\n",
              "0          2   84878.4           135315.2  ...         0             0   \n",
              "1          2   84878.4           135315.2  ...         0             0   \n",
              "2          2   84878.4           135315.2  ...         0             0   \n",
              "3          2   84878.4           135315.2  ...         0             0   \n",
              "4          2   84878.4           135315.2  ...         0             0   \n",
              "\n",
              "   holiday8  workingday_makeup  day_temp  night_temp  day_weather  \\\n",
              "0         0                  0        27          23   rain_storm   \n",
              "1         0                  0        26          23   heavy_rain   \n",
              "2         0                  0        27          24     med_rain   \n",
              "3         0                  0        26          22   heavy_rain   \n",
              "4         0                  0        27          23   heavy_rain   \n",
              "\n",
              "    day_weather2  day_wind  night_wind  \n",
              "0    big_trouble         1           1  \n",
              "1    med_trouble         1           1  \n",
              "2  small_trouble         1           1  \n",
              "3    med_trouble         1           1  \n",
              "4    med_trouble         1           1  \n",
              "\n",
              "[5 rows x 34 columns]"
            ]
          },
          "execution_count": 84,
          "metadata": {},
          "output_type": "execute_result"
        }
      ],
      "source": [
        "hold.head()"
      ]
    },
    {
      "cell_type": "code",
      "execution_count": 4,
      "metadata": {
        "colab": {
          "base_uri": "https://localhost:8080/"
        },
        "id": "KNIU49NQ4F9y",
        "outputId": "e79b3af3-f8d4-4164-964e-68fdb9ff9af1"
      },
      "outputs": [
        {
          "output_type": "stream",
          "name": "stdout",
          "text": [
            "(37141, 41)\n",
            "(5, 34)\n"
          ]
        }
      ],
      "source": [
        "print(trn.shape)\n",
        "print(hold.head().shape)"
      ]
    },
    {
      "cell_type": "code",
      "execution_count": 5,
      "metadata": {
        "colab": {
          "base_uri": "https://localhost:8080/",
          "height": 394
        },
        "id": "sWeOICY-E8hF",
        "outputId": "9204541a-cc69-4f0d-820e-1ca01dcaa2be"
      },
      "outputs": [
        {
          "output_type": "execute_result",
          "data": {
            "text/plain": [
              "             ZoneID        CityID     CityLevel     PlazaType       BusiArea  \\\n",
              "count  37141.000000  37141.000000  37141.000000  37141.000000   37141.000000   \n",
              "mean      20.091462    170.791820   1498.175682      1.675668   86788.384158   \n",
              "std       15.470613     93.096432      0.380554      0.969474   11389.264402   \n",
              "min        2.000000     47.000000   1498.000000      1.000000   66895.200000   \n",
              "25%        6.000000     81.000000   1498.000000      1.000000   81070.400000   \n",
              "50%       13.000000    179.000000   1498.000000      1.000000   87414.400000   \n",
              "75%       32.000000    226.000000   1498.000000      3.000000   94279.200000   \n",
              "max       48.000000    373.000000   1499.000000      4.000000  117983.200000   \n",
              "\n",
              "       TotalBuildingArea  BusinessBuildingArea          year         month  \\\n",
              "count       37141.000000          37141.000000  37141.000000  37141.000000   \n",
              "mean       133525.097138          66978.455895   2016.177755      6.339409   \n",
              "std         15295.806774          10161.832627      1.454890      3.507103   \n",
              "min         96421.600000          50815.200000   2014.000000      1.000000   \n",
              "25%        125556.800000          60104.000000   2015.000000      3.000000   \n",
              "50%        135315.200000          67050.400000   2016.000000      6.000000   \n",
              "75%        141040.000000          70707.200000   2017.000000      9.000000   \n",
              "max        168256.000000          95799.200000   2018.000000     12.000000   \n",
              "\n",
              "                day  ...    night_temp      day_wind    night_wind  \\\n",
              "count  37141.000000  ...  37128.000000  37141.000000  37141.000000   \n",
              "mean      15.732587  ...     10.951438      1.087989      1.094397   \n",
              "std        8.795860  ...     12.627355      0.286684      0.423560   \n",
              "min        1.000000  ...    -35.000000      1.000000      1.000000   \n",
              "25%        8.000000  ...      4.000000      1.000000      1.000000   \n",
              "50%       16.000000  ...     14.000000      1.000000      1.000000   \n",
              "75%       23.000000  ...     21.000000      1.000000      1.000000   \n",
              "max       31.000000  ...     31.000000      3.000000      3.000000   \n",
              "\n",
              "         total_visit        innum_1      innum_102      innum_103  \\\n",
              "count   37136.000000   37136.000000   37136.000000   37136.000000   \n",
              "mean    82648.116598   21847.390160   23222.329034   12340.987667   \n",
              "std     42917.782712   15259.449476   14048.354148    8648.616866   \n",
              "min       937.000000       0.000000     110.000000       0.000000   \n",
              "25%     53532.000000   10926.000000   15115.000000    6835.000000   \n",
              "50%     73574.000000   18230.000000   20380.000000   10172.000000   \n",
              "75%    103207.250000   29643.250000   28056.000000   15626.250000   \n",
              "max    616600.000000  186823.000000  298683.000000  204589.000000   \n",
              "\n",
              "           innum_104  innum_1000290          innum  \n",
              "count   37136.000000   37136.000000   37141.000000  \n",
              "mean    14451.935884    1151.492406   39393.040279  \n",
              "std      9804.534291    1348.304248   15960.551839  \n",
              "min        17.000000       0.000000    2788.000000  \n",
              "25%      8705.000000     563.000000   28153.000000  \n",
              "50%     12059.000000     932.000000   36282.000000  \n",
              "75%     17892.000000    1425.250000   47483.000000  \n",
              "max    300349.000000  119094.000000  221590.000000  \n",
              "\n",
              "[8 rows x 35 columns]"
            ],
            "text/html": [
              "\n",
              "  <div id=\"df-0d23dd43-21df-40d8-9b2a-513e734ffb20\">\n",
              "    <div class=\"colab-df-container\">\n",
              "      <div>\n",
              "<style scoped>\n",
              "    .dataframe tbody tr th:only-of-type {\n",
              "        vertical-align: middle;\n",
              "    }\n",
              "\n",
              "    .dataframe tbody tr th {\n",
              "        vertical-align: top;\n",
              "    }\n",
              "\n",
              "    .dataframe thead th {\n",
              "        text-align: right;\n",
              "    }\n",
              "</style>\n",
              "<table border=\"1\" class=\"dataframe\">\n",
              "  <thead>\n",
              "    <tr style=\"text-align: right;\">\n",
              "      <th></th>\n",
              "      <th>ZoneID</th>\n",
              "      <th>CityID</th>\n",
              "      <th>CityLevel</th>\n",
              "      <th>PlazaType</th>\n",
              "      <th>BusiArea</th>\n",
              "      <th>TotalBuildingArea</th>\n",
              "      <th>BusinessBuildingArea</th>\n",
              "      <th>year</th>\n",
              "      <th>month</th>\n",
              "      <th>day</th>\n",
              "      <th>...</th>\n",
              "      <th>night_temp</th>\n",
              "      <th>day_wind</th>\n",
              "      <th>night_wind</th>\n",
              "      <th>total_visit</th>\n",
              "      <th>innum_1</th>\n",
              "      <th>innum_102</th>\n",
              "      <th>innum_103</th>\n",
              "      <th>innum_104</th>\n",
              "      <th>innum_1000290</th>\n",
              "      <th>innum</th>\n",
              "    </tr>\n",
              "  </thead>\n",
              "  <tbody>\n",
              "    <tr>\n",
              "      <th>count</th>\n",
              "      <td>37141.000000</td>\n",
              "      <td>37141.000000</td>\n",
              "      <td>37141.000000</td>\n",
              "      <td>37141.000000</td>\n",
              "      <td>37141.000000</td>\n",
              "      <td>37141.000000</td>\n",
              "      <td>37141.000000</td>\n",
              "      <td>37141.000000</td>\n",
              "      <td>37141.000000</td>\n",
              "      <td>37141.000000</td>\n",
              "      <td>...</td>\n",
              "      <td>37128.000000</td>\n",
              "      <td>37141.000000</td>\n",
              "      <td>37141.000000</td>\n",
              "      <td>37136.000000</td>\n",
              "      <td>37136.000000</td>\n",
              "      <td>37136.000000</td>\n",
              "      <td>37136.000000</td>\n",
              "      <td>37136.000000</td>\n",
              "      <td>37136.000000</td>\n",
              "      <td>37141.000000</td>\n",
              "    </tr>\n",
              "    <tr>\n",
              "      <th>mean</th>\n",
              "      <td>20.091462</td>\n",
              "      <td>170.791820</td>\n",
              "      <td>1498.175682</td>\n",
              "      <td>1.675668</td>\n",
              "      <td>86788.384158</td>\n",
              "      <td>133525.097138</td>\n",
              "      <td>66978.455895</td>\n",
              "      <td>2016.177755</td>\n",
              "      <td>6.339409</td>\n",
              "      <td>15.732587</td>\n",
              "      <td>...</td>\n",
              "      <td>10.951438</td>\n",
              "      <td>1.087989</td>\n",
              "      <td>1.094397</td>\n",
              "      <td>82648.116598</td>\n",
              "      <td>21847.390160</td>\n",
              "      <td>23222.329034</td>\n",
              "      <td>12340.987667</td>\n",
              "      <td>14451.935884</td>\n",
              "      <td>1151.492406</td>\n",
              "      <td>39393.040279</td>\n",
              "    </tr>\n",
              "    <tr>\n",
              "      <th>std</th>\n",
              "      <td>15.470613</td>\n",
              "      <td>93.096432</td>\n",
              "      <td>0.380554</td>\n",
              "      <td>0.969474</td>\n",
              "      <td>11389.264402</td>\n",
              "      <td>15295.806774</td>\n",
              "      <td>10161.832627</td>\n",
              "      <td>1.454890</td>\n",
              "      <td>3.507103</td>\n",
              "      <td>8.795860</td>\n",
              "      <td>...</td>\n",
              "      <td>12.627355</td>\n",
              "      <td>0.286684</td>\n",
              "      <td>0.423560</td>\n",
              "      <td>42917.782712</td>\n",
              "      <td>15259.449476</td>\n",
              "      <td>14048.354148</td>\n",
              "      <td>8648.616866</td>\n",
              "      <td>9804.534291</td>\n",
              "      <td>1348.304248</td>\n",
              "      <td>15960.551839</td>\n",
              "    </tr>\n",
              "    <tr>\n",
              "      <th>min</th>\n",
              "      <td>2.000000</td>\n",
              "      <td>47.000000</td>\n",
              "      <td>1498.000000</td>\n",
              "      <td>1.000000</td>\n",
              "      <td>66895.200000</td>\n",
              "      <td>96421.600000</td>\n",
              "      <td>50815.200000</td>\n",
              "      <td>2014.000000</td>\n",
              "      <td>1.000000</td>\n",
              "      <td>1.000000</td>\n",
              "      <td>...</td>\n",
              "      <td>-35.000000</td>\n",
              "      <td>1.000000</td>\n",
              "      <td>1.000000</td>\n",
              "      <td>937.000000</td>\n",
              "      <td>0.000000</td>\n",
              "      <td>110.000000</td>\n",
              "      <td>0.000000</td>\n",
              "      <td>17.000000</td>\n",
              "      <td>0.000000</td>\n",
              "      <td>2788.000000</td>\n",
              "    </tr>\n",
              "    <tr>\n",
              "      <th>25%</th>\n",
              "      <td>6.000000</td>\n",
              "      <td>81.000000</td>\n",
              "      <td>1498.000000</td>\n",
              "      <td>1.000000</td>\n",
              "      <td>81070.400000</td>\n",
              "      <td>125556.800000</td>\n",
              "      <td>60104.000000</td>\n",
              "      <td>2015.000000</td>\n",
              "      <td>3.000000</td>\n",
              "      <td>8.000000</td>\n",
              "      <td>...</td>\n",
              "      <td>4.000000</td>\n",
              "      <td>1.000000</td>\n",
              "      <td>1.000000</td>\n",
              "      <td>53532.000000</td>\n",
              "      <td>10926.000000</td>\n",
              "      <td>15115.000000</td>\n",
              "      <td>6835.000000</td>\n",
              "      <td>8705.000000</td>\n",
              "      <td>563.000000</td>\n",
              "      <td>28153.000000</td>\n",
              "    </tr>\n",
              "    <tr>\n",
              "      <th>50%</th>\n",
              "      <td>13.000000</td>\n",
              "      <td>179.000000</td>\n",
              "      <td>1498.000000</td>\n",
              "      <td>1.000000</td>\n",
              "      <td>87414.400000</td>\n",
              "      <td>135315.200000</td>\n",
              "      <td>67050.400000</td>\n",
              "      <td>2016.000000</td>\n",
              "      <td>6.000000</td>\n",
              "      <td>16.000000</td>\n",
              "      <td>...</td>\n",
              "      <td>14.000000</td>\n",
              "      <td>1.000000</td>\n",
              "      <td>1.000000</td>\n",
              "      <td>73574.000000</td>\n",
              "      <td>18230.000000</td>\n",
              "      <td>20380.000000</td>\n",
              "      <td>10172.000000</td>\n",
              "      <td>12059.000000</td>\n",
              "      <td>932.000000</td>\n",
              "      <td>36282.000000</td>\n",
              "    </tr>\n",
              "    <tr>\n",
              "      <th>75%</th>\n",
              "      <td>32.000000</td>\n",
              "      <td>226.000000</td>\n",
              "      <td>1498.000000</td>\n",
              "      <td>3.000000</td>\n",
              "      <td>94279.200000</td>\n",
              "      <td>141040.000000</td>\n",
              "      <td>70707.200000</td>\n",
              "      <td>2017.000000</td>\n",
              "      <td>9.000000</td>\n",
              "      <td>23.000000</td>\n",
              "      <td>...</td>\n",
              "      <td>21.000000</td>\n",
              "      <td>1.000000</td>\n",
              "      <td>1.000000</td>\n",
              "      <td>103207.250000</td>\n",
              "      <td>29643.250000</td>\n",
              "      <td>28056.000000</td>\n",
              "      <td>15626.250000</td>\n",
              "      <td>17892.000000</td>\n",
              "      <td>1425.250000</td>\n",
              "      <td>47483.000000</td>\n",
              "    </tr>\n",
              "    <tr>\n",
              "      <th>max</th>\n",
              "      <td>48.000000</td>\n",
              "      <td>373.000000</td>\n",
              "      <td>1499.000000</td>\n",
              "      <td>4.000000</td>\n",
              "      <td>117983.200000</td>\n",
              "      <td>168256.000000</td>\n",
              "      <td>95799.200000</td>\n",
              "      <td>2018.000000</td>\n",
              "      <td>12.000000</td>\n",
              "      <td>31.000000</td>\n",
              "      <td>...</td>\n",
              "      <td>31.000000</td>\n",
              "      <td>3.000000</td>\n",
              "      <td>3.000000</td>\n",
              "      <td>616600.000000</td>\n",
              "      <td>186823.000000</td>\n",
              "      <td>298683.000000</td>\n",
              "      <td>204589.000000</td>\n",
              "      <td>300349.000000</td>\n",
              "      <td>119094.000000</td>\n",
              "      <td>221590.000000</td>\n",
              "    </tr>\n",
              "  </tbody>\n",
              "</table>\n",
              "<p>8 rows × 35 columns</p>\n",
              "</div>\n",
              "      <button class=\"colab-df-convert\" onclick=\"convertToInteractive('df-0d23dd43-21df-40d8-9b2a-513e734ffb20')\"\n",
              "              title=\"Convert this dataframe to an interactive table.\"\n",
              "              style=\"display:none;\">\n",
              "        \n",
              "  <svg xmlns=\"http://www.w3.org/2000/svg\" height=\"24px\"viewBox=\"0 0 24 24\"\n",
              "       width=\"24px\">\n",
              "    <path d=\"M0 0h24v24H0V0z\" fill=\"none\"/>\n",
              "    <path d=\"M18.56 5.44l.94 2.06.94-2.06 2.06-.94-2.06-.94-.94-2.06-.94 2.06-2.06.94zm-11 1L8.5 8.5l.94-2.06 2.06-.94-2.06-.94L8.5 2.5l-.94 2.06-2.06.94zm10 10l.94 2.06.94-2.06 2.06-.94-2.06-.94-.94-2.06-.94 2.06-2.06.94z\"/><path d=\"M17.41 7.96l-1.37-1.37c-.4-.4-.92-.59-1.43-.59-.52 0-1.04.2-1.43.59L10.3 9.45l-7.72 7.72c-.78.78-.78 2.05 0 2.83L4 21.41c.39.39.9.59 1.41.59.51 0 1.02-.2 1.41-.59l7.78-7.78 2.81-2.81c.8-.78.8-2.07 0-2.86zM5.41 20L4 18.59l7.72-7.72 1.47 1.35L5.41 20z\"/>\n",
              "  </svg>\n",
              "      </button>\n",
              "      \n",
              "  <style>\n",
              "    .colab-df-container {\n",
              "      display:flex;\n",
              "      flex-wrap:wrap;\n",
              "      gap: 12px;\n",
              "    }\n",
              "\n",
              "    .colab-df-convert {\n",
              "      background-color: #E8F0FE;\n",
              "      border: none;\n",
              "      border-radius: 50%;\n",
              "      cursor: pointer;\n",
              "      display: none;\n",
              "      fill: #1967D2;\n",
              "      height: 32px;\n",
              "      padding: 0 0 0 0;\n",
              "      width: 32px;\n",
              "    }\n",
              "\n",
              "    .colab-df-convert:hover {\n",
              "      background-color: #E2EBFA;\n",
              "      box-shadow: 0px 1px 2px rgba(60, 64, 67, 0.3), 0px 1px 3px 1px rgba(60, 64, 67, 0.15);\n",
              "      fill: #174EA6;\n",
              "    }\n",
              "\n",
              "    [theme=dark] .colab-df-convert {\n",
              "      background-color: #3B4455;\n",
              "      fill: #D2E3FC;\n",
              "    }\n",
              "\n",
              "    [theme=dark] .colab-df-convert:hover {\n",
              "      background-color: #434B5C;\n",
              "      box-shadow: 0px 1px 3px 1px rgba(0, 0, 0, 0.15);\n",
              "      filter: drop-shadow(0px 1px 2px rgba(0, 0, 0, 0.3));\n",
              "      fill: #FFFFFF;\n",
              "    }\n",
              "  </style>\n",
              "\n",
              "      <script>\n",
              "        const buttonEl =\n",
              "          document.querySelector('#df-0d23dd43-21df-40d8-9b2a-513e734ffb20 button.colab-df-convert');\n",
              "        buttonEl.style.display =\n",
              "          google.colab.kernel.accessAllowed ? 'block' : 'none';\n",
              "\n",
              "        async function convertToInteractive(key) {\n",
              "          const element = document.querySelector('#df-0d23dd43-21df-40d8-9b2a-513e734ffb20');\n",
              "          const dataTable =\n",
              "            await google.colab.kernel.invokeFunction('convertToInteractive',\n",
              "                                                     [key], {});\n",
              "          if (!dataTable) return;\n",
              "\n",
              "          const docLinkHtml = 'Like what you see? Visit the ' +\n",
              "            '<a target=\"_blank\" href=https://colab.research.google.com/notebooks/data_table.ipynb>data table notebook</a>'\n",
              "            + ' to learn more about interactive tables.';\n",
              "          element.innerHTML = '';\n",
              "          dataTable['output_type'] = 'display_data';\n",
              "          await google.colab.output.renderOutput(dataTable, element);\n",
              "          const docLink = document.createElement('div');\n",
              "          docLink.innerHTML = docLinkHtml;\n",
              "          element.appendChild(docLink);\n",
              "        }\n",
              "      </script>\n",
              "    </div>\n",
              "  </div>\n",
              "  "
            ]
          },
          "metadata": {},
          "execution_count": 5
        }
      ],
      "source": [
        "# Preview summary for the entire data\n",
        "trn.describe()"
      ]
    },
    {
      "cell_type": "code",
      "source": [
        "# Let look at the summary for our 7 response variables\n",
        "trn.iloc[:,-7:].describe()"
      ],
      "metadata": {
        "colab": {
          "base_uri": "https://localhost:8080/",
          "height": 300
        },
        "id": "wuANGdfwTQYc",
        "outputId": "f1f1169b-2555-424f-fef8-32461ee59db5"
      },
      "execution_count": 9,
      "outputs": [
        {
          "output_type": "execute_result",
          "data": {
            "text/plain": [
              "         total_visit        innum_1      innum_102      innum_103  \\\n",
              "count   37136.000000   37136.000000   37136.000000   37136.000000   \n",
              "mean    82648.116598   21847.390160   23222.329034   12340.987667   \n",
              "std     42917.782712   15259.449476   14048.354148    8648.616866   \n",
              "min       937.000000       0.000000     110.000000       0.000000   \n",
              "25%     53532.000000   10926.000000   15115.000000    6835.000000   \n",
              "50%     73574.000000   18230.000000   20380.000000   10172.000000   \n",
              "75%    103207.250000   29643.250000   28056.000000   15626.250000   \n",
              "max    616600.000000  186823.000000  298683.000000  204589.000000   \n",
              "\n",
              "           innum_104  innum_1000290          innum  \n",
              "count   37136.000000   37136.000000   37141.000000  \n",
              "mean    14451.935884    1151.492406   39393.040279  \n",
              "std      9804.534291    1348.304248   15960.551839  \n",
              "min        17.000000       0.000000    2788.000000  \n",
              "25%      8705.000000     563.000000   28153.000000  \n",
              "50%     12059.000000     932.000000   36282.000000  \n",
              "75%     17892.000000    1425.250000   47483.000000  \n",
              "max    300349.000000  119094.000000  221590.000000  "
            ],
            "text/html": [
              "\n",
              "  <div id=\"df-745d20d4-c8aa-4e74-86e6-860b210be11c\">\n",
              "    <div class=\"colab-df-container\">\n",
              "      <div>\n",
              "<style scoped>\n",
              "    .dataframe tbody tr th:only-of-type {\n",
              "        vertical-align: middle;\n",
              "    }\n",
              "\n",
              "    .dataframe tbody tr th {\n",
              "        vertical-align: top;\n",
              "    }\n",
              "\n",
              "    .dataframe thead th {\n",
              "        text-align: right;\n",
              "    }\n",
              "</style>\n",
              "<table border=\"1\" class=\"dataframe\">\n",
              "  <thead>\n",
              "    <tr style=\"text-align: right;\">\n",
              "      <th></th>\n",
              "      <th>total_visit</th>\n",
              "      <th>innum_1</th>\n",
              "      <th>innum_102</th>\n",
              "      <th>innum_103</th>\n",
              "      <th>innum_104</th>\n",
              "      <th>innum_1000290</th>\n",
              "      <th>innum</th>\n",
              "    </tr>\n",
              "  </thead>\n",
              "  <tbody>\n",
              "    <tr>\n",
              "      <th>count</th>\n",
              "      <td>37136.000000</td>\n",
              "      <td>37136.000000</td>\n",
              "      <td>37136.000000</td>\n",
              "      <td>37136.000000</td>\n",
              "      <td>37136.000000</td>\n",
              "      <td>37136.000000</td>\n",
              "      <td>37141.000000</td>\n",
              "    </tr>\n",
              "    <tr>\n",
              "      <th>mean</th>\n",
              "      <td>82648.116598</td>\n",
              "      <td>21847.390160</td>\n",
              "      <td>23222.329034</td>\n",
              "      <td>12340.987667</td>\n",
              "      <td>14451.935884</td>\n",
              "      <td>1151.492406</td>\n",
              "      <td>39393.040279</td>\n",
              "    </tr>\n",
              "    <tr>\n",
              "      <th>std</th>\n",
              "      <td>42917.782712</td>\n",
              "      <td>15259.449476</td>\n",
              "      <td>14048.354148</td>\n",
              "      <td>8648.616866</td>\n",
              "      <td>9804.534291</td>\n",
              "      <td>1348.304248</td>\n",
              "      <td>15960.551839</td>\n",
              "    </tr>\n",
              "    <tr>\n",
              "      <th>min</th>\n",
              "      <td>937.000000</td>\n",
              "      <td>0.000000</td>\n",
              "      <td>110.000000</td>\n",
              "      <td>0.000000</td>\n",
              "      <td>17.000000</td>\n",
              "      <td>0.000000</td>\n",
              "      <td>2788.000000</td>\n",
              "    </tr>\n",
              "    <tr>\n",
              "      <th>25%</th>\n",
              "      <td>53532.000000</td>\n",
              "      <td>10926.000000</td>\n",
              "      <td>15115.000000</td>\n",
              "      <td>6835.000000</td>\n",
              "      <td>8705.000000</td>\n",
              "      <td>563.000000</td>\n",
              "      <td>28153.000000</td>\n",
              "    </tr>\n",
              "    <tr>\n",
              "      <th>50%</th>\n",
              "      <td>73574.000000</td>\n",
              "      <td>18230.000000</td>\n",
              "      <td>20380.000000</td>\n",
              "      <td>10172.000000</td>\n",
              "      <td>12059.000000</td>\n",
              "      <td>932.000000</td>\n",
              "      <td>36282.000000</td>\n",
              "    </tr>\n",
              "    <tr>\n",
              "      <th>75%</th>\n",
              "      <td>103207.250000</td>\n",
              "      <td>29643.250000</td>\n",
              "      <td>28056.000000</td>\n",
              "      <td>15626.250000</td>\n",
              "      <td>17892.000000</td>\n",
              "      <td>1425.250000</td>\n",
              "      <td>47483.000000</td>\n",
              "    </tr>\n",
              "    <tr>\n",
              "      <th>max</th>\n",
              "      <td>616600.000000</td>\n",
              "      <td>186823.000000</td>\n",
              "      <td>298683.000000</td>\n",
              "      <td>204589.000000</td>\n",
              "      <td>300349.000000</td>\n",
              "      <td>119094.000000</td>\n",
              "      <td>221590.000000</td>\n",
              "    </tr>\n",
              "  </tbody>\n",
              "</table>\n",
              "</div>\n",
              "      <button class=\"colab-df-convert\" onclick=\"convertToInteractive('df-745d20d4-c8aa-4e74-86e6-860b210be11c')\"\n",
              "              title=\"Convert this dataframe to an interactive table.\"\n",
              "              style=\"display:none;\">\n",
              "        \n",
              "  <svg xmlns=\"http://www.w3.org/2000/svg\" height=\"24px\"viewBox=\"0 0 24 24\"\n",
              "       width=\"24px\">\n",
              "    <path d=\"M0 0h24v24H0V0z\" fill=\"none\"/>\n",
              "    <path d=\"M18.56 5.44l.94 2.06.94-2.06 2.06-.94-2.06-.94-.94-2.06-.94 2.06-2.06.94zm-11 1L8.5 8.5l.94-2.06 2.06-.94-2.06-.94L8.5 2.5l-.94 2.06-2.06.94zm10 10l.94 2.06.94-2.06 2.06-.94-2.06-.94-.94-2.06-.94 2.06-2.06.94z\"/><path d=\"M17.41 7.96l-1.37-1.37c-.4-.4-.92-.59-1.43-.59-.52 0-1.04.2-1.43.59L10.3 9.45l-7.72 7.72c-.78.78-.78 2.05 0 2.83L4 21.41c.39.39.9.59 1.41.59.51 0 1.02-.2 1.41-.59l7.78-7.78 2.81-2.81c.8-.78.8-2.07 0-2.86zM5.41 20L4 18.59l7.72-7.72 1.47 1.35L5.41 20z\"/>\n",
              "  </svg>\n",
              "      </button>\n",
              "      \n",
              "  <style>\n",
              "    .colab-df-container {\n",
              "      display:flex;\n",
              "      flex-wrap:wrap;\n",
              "      gap: 12px;\n",
              "    }\n",
              "\n",
              "    .colab-df-convert {\n",
              "      background-color: #E8F0FE;\n",
              "      border: none;\n",
              "      border-radius: 50%;\n",
              "      cursor: pointer;\n",
              "      display: none;\n",
              "      fill: #1967D2;\n",
              "      height: 32px;\n",
              "      padding: 0 0 0 0;\n",
              "      width: 32px;\n",
              "    }\n",
              "\n",
              "    .colab-df-convert:hover {\n",
              "      background-color: #E2EBFA;\n",
              "      box-shadow: 0px 1px 2px rgba(60, 64, 67, 0.3), 0px 1px 3px 1px rgba(60, 64, 67, 0.15);\n",
              "      fill: #174EA6;\n",
              "    }\n",
              "\n",
              "    [theme=dark] .colab-df-convert {\n",
              "      background-color: #3B4455;\n",
              "      fill: #D2E3FC;\n",
              "    }\n",
              "\n",
              "    [theme=dark] .colab-df-convert:hover {\n",
              "      background-color: #434B5C;\n",
              "      box-shadow: 0px 1px 3px 1px rgba(0, 0, 0, 0.15);\n",
              "      filter: drop-shadow(0px 1px 2px rgba(0, 0, 0, 0.3));\n",
              "      fill: #FFFFFF;\n",
              "    }\n",
              "  </style>\n",
              "\n",
              "      <script>\n",
              "        const buttonEl =\n",
              "          document.querySelector('#df-745d20d4-c8aa-4e74-86e6-860b210be11c button.colab-df-convert');\n",
              "        buttonEl.style.display =\n",
              "          google.colab.kernel.accessAllowed ? 'block' : 'none';\n",
              "\n",
              "        async function convertToInteractive(key) {\n",
              "          const element = document.querySelector('#df-745d20d4-c8aa-4e74-86e6-860b210be11c');\n",
              "          const dataTable =\n",
              "            await google.colab.kernel.invokeFunction('convertToInteractive',\n",
              "                                                     [key], {});\n",
              "          if (!dataTable) return;\n",
              "\n",
              "          const docLinkHtml = 'Like what you see? Visit the ' +\n",
              "            '<a target=\"_blank\" href=https://colab.research.google.com/notebooks/data_table.ipynb>data table notebook</a>'\n",
              "            + ' to learn more about interactive tables.';\n",
              "          element.innerHTML = '';\n",
              "          dataTable['output_type'] = 'display_data';\n",
              "          await google.colab.output.renderOutput(dataTable, element);\n",
              "          const docLink = document.createElement('div');\n",
              "          docLink.innerHTML = docLinkHtml;\n",
              "          element.appendChild(docLink);\n",
              "        }\n",
              "      </script>\n",
              "    </div>\n",
              "  </div>\n",
              "  "
            ]
          },
          "metadata": {},
          "execution_count": 9
        }
      ]
    },
    {
      "cell_type": "code",
      "execution_count": 10,
      "metadata": {
        "id": "e7WmhBGJeUAO"
      },
      "outputs": [],
      "source": [
        "#We will store plazaid and date in separate varaibles and drop them in train and hold set as we don't need it in building our prediction model. We will also drop date because we have variables year, month and day. \n",
        "trn_plazaid = trn['plazaid']\n",
        "hold_plazaid = hold['plazaid']\n",
        "\n",
        "trn_date = trn['date']\n",
        "hold_date = hold['date']\n",
        "\n",
        "trn = trn.drop(['plazaid','date'], axis=1)\n",
        "hold = hold.drop(['plazaid','date'], axis=1)"
      ]
    },
    {
      "cell_type": "code",
      "execution_count": 11,
      "metadata": {
        "colab": {
          "base_uri": "https://localhost:8080/"
        },
        "id": "l4DCA8n-2qxH",
        "outputId": "17106b44-28cf-4f15-e919-5c7318827cc9"
      },
      "outputs": [
        {
          "output_type": "execute_result",
          "data": {
            "text/plain": [
              "ZoneID                   0\n",
              "CityID                   0\n",
              "CityLevel                0\n",
              "BusinessStartDate        0\n",
              "PlazaLevel2              0\n",
              "PlazaType                0\n",
              "BusiArea                 0\n",
              "TotalBuildingArea        0\n",
              "BusinessBuildingArea     0\n",
              "year                     0\n",
              "month                    0\n",
              "day                      0\n",
              "weekday                  0\n",
              "holiday1                 0\n",
              "holiday9                 0\n",
              "holiday5                 0\n",
              "holiday4                 0\n",
              "holiday2                 0\n",
              "holiday10                0\n",
              "holiday3                 0\n",
              "holiday11                0\n",
              "holiday6                 0\n",
              "holiday7                 0\n",
              "new_year_eve             0\n",
              "holiday8                 0\n",
              "workingday_makeup        0\n",
              "day_temp                13\n",
              "night_temp              13\n",
              "day_weather             13\n",
              "day_weather2            13\n",
              "day_wind                 0\n",
              "night_wind               0\n",
              "total_visit              5\n",
              "innum_1                  5\n",
              "innum_102                5\n",
              "innum_103                5\n",
              "innum_104                5\n",
              "innum_1000290            5\n",
              "innum                    0\n",
              "dtype: int64"
            ]
          },
          "metadata": {},
          "execution_count": 11
        }
      ],
      "source": [
        "#Check if there are any missing values\n",
        "trn.isnull().sum()"
      ]
    },
    {
      "cell_type": "code",
      "execution_count": 12,
      "metadata": {
        "colab": {
          "base_uri": "https://localhost:8080/"
        },
        "id": "Ow2jsUXG34wR",
        "outputId": "6f674cc6-ae19-40fc-d77c-7f6a0ec202d4"
      },
      "outputs": [
        {
          "output_type": "execute_result",
          "data": {
            "text/plain": [
              "ZoneID                  0\n",
              "CityID                  0\n",
              "CityLevel               0\n",
              "BusinessStartDate       0\n",
              "PlazaLevel2             0\n",
              "PlazaType               0\n",
              "BusiArea                0\n",
              "TotalBuildingArea       0\n",
              "BusinessBuildingArea    0\n",
              "year                    0\n",
              "month                   0\n",
              "day                     0\n",
              "weekday                 0\n",
              "holiday1                0\n",
              "holiday9                0\n",
              "holiday5                0\n",
              "holiday4                0\n",
              "holiday2                0\n",
              "holiday10               0\n",
              "holiday3                0\n",
              "holiday11               0\n",
              "holiday6                0\n",
              "holiday7                0\n",
              "new_year_eve            0\n",
              "holiday8                0\n",
              "workingday_makeup       0\n",
              "day_temp                0\n",
              "night_temp              0\n",
              "day_weather             0\n",
              "day_weather2            0\n",
              "day_wind                0\n",
              "night_wind              0\n",
              "dtype: int64"
            ]
          },
          "metadata": {},
          "execution_count": 12
        }
      ],
      "source": [
        "hold.isnull().sum()"
      ]
    },
    {
      "cell_type": "code",
      "execution_count": 13,
      "metadata": {
        "colab": {
          "base_uri": "https://localhost:8080/"
        },
        "id": "9bv-JdqR2xIe",
        "outputId": "24554cd6-ce2b-4249-abc3-07153c13eeec"
      },
      "outputs": [
        {
          "output_type": "execute_result",
          "data": {
            "text/plain": [
              "(18, 39)"
            ]
          },
          "metadata": {},
          "execution_count": 13
        }
      ],
      "source": [
        "#There are 18 rows with null values in train set\n",
        "trn_null_rows = trn[trn.isnull().any(axis=1)]\n",
        "trn_null_rows.shape"
      ]
    },
    {
      "cell_type": "code",
      "execution_count": 14,
      "metadata": {
        "colab": {
          "base_uri": "https://localhost:8080/"
        },
        "id": "MQBvZ2JP5XIj",
        "outputId": "80e86acb-5f00-49c7-e1ed-49ceaa1d0125"
      },
      "outputs": [
        {
          "output_type": "execute_result",
          "data": {
            "text/plain": [
              "(0, 32)"
            ]
          },
          "metadata": {},
          "execution_count": 14
        }
      ],
      "source": [
        "#There are 0 rows with null values in hold set\n",
        "hold_null_rows = hold[hold.isnull().any(axis=1)]\n",
        "hold_null_rows.shape"
      ]
    },
    {
      "cell_type": "markdown",
      "metadata": {
        "id": "GAYERCYq46-C"
      },
      "source": [
        "There is only a few rows with null values in train set. We will drop them since we have **37141** train observations which is sufficient to build our model. \n",
        "\n",
        "**Note**: Actual approach to dealing with null variables will depend on business objective. In the scope of this project, I will go ahead and remove rows with null values"
      ]
    },
    {
      "cell_type": "code",
      "execution_count": 15,
      "metadata": {
        "colab": {
          "base_uri": "https://localhost:8080/"
        },
        "id": "a_Urnhcb501p",
        "outputId": "c05be37f-8a1c-465a-aa59-e7b8781aad25"
      },
      "outputs": [
        {
          "output_type": "execute_result",
          "data": {
            "text/plain": [
              "ZoneID                  0\n",
              "CityID                  0\n",
              "CityLevel               0\n",
              "BusinessStartDate       0\n",
              "PlazaLevel2             0\n",
              "PlazaType               0\n",
              "BusiArea                0\n",
              "TotalBuildingArea       0\n",
              "BusinessBuildingArea    0\n",
              "year                    0\n",
              "month                   0\n",
              "day                     0\n",
              "weekday                 0\n",
              "holiday1                0\n",
              "holiday9                0\n",
              "holiday5                0\n",
              "holiday4                0\n",
              "holiday2                0\n",
              "holiday10               0\n",
              "holiday3                0\n",
              "holiday11               0\n",
              "holiday6                0\n",
              "holiday7                0\n",
              "new_year_eve            0\n",
              "holiday8                0\n",
              "workingday_makeup       0\n",
              "day_temp                0\n",
              "night_temp              0\n",
              "day_weather             0\n",
              "day_weather2            0\n",
              "day_wind                0\n",
              "night_wind              0\n",
              "total_visit             0\n",
              "innum_1                 0\n",
              "innum_102               0\n",
              "innum_103               0\n",
              "innum_104               0\n",
              "innum_1000290           0\n",
              "innum                   0\n",
              "dtype: int64"
            ]
          },
          "metadata": {},
          "execution_count": 15
        }
      ],
      "source": [
        "#Drop null values in train set\n",
        "trn.dropna(inplace=True)\n",
        "trn.isnull().sum()"
      ]
    },
    {
      "cell_type": "markdown",
      "metadata": {
        "id": "8IbMTKcn6GsW"
      },
      "source": [
        "# Exploratory data analysis"
      ]
    },
    {
      "cell_type": "code",
      "source": [
        "# Check out the 7 response variables' distribution\n",
        "# define the columns of interest\n",
        "cols_of_interest = ['total_visit', 'innum_1', 'innum_102', 'innum_103', 'innum_104', 'innum_1000290', 'innum']\n",
        "\n",
        "# create subplots\n",
        "fig, axs = plt.subplots(nrows=len(cols_of_interest), ncols=1, figsize=(4, 3*len(cols_of_interest)))\n",
        "\n",
        "# loop through the columns and generate histograms\n",
        "for i, col in enumerate(cols_of_interest):\n",
        "    axs[i].hist(trn[col], bins=30)\n",
        "    axs[i].set_xlabel(col)\n",
        "    axs[i].set_ylabel('Frequency')\n",
        "    axs[i].set_title(f'Histogram of {col}')\n",
        "\n",
        "plt.tight_layout()\n",
        "plt.show()"
      ],
      "metadata": {
        "colab": {
          "base_uri": "https://localhost:8080/",
          "height": 1000
        },
        "id": "4yl2WuOvdKsz",
        "outputId": "8424aff0-5389-483d-9daa-01d28ef63026"
      },
      "execution_count": 22,
      "outputs": [
        {
          "output_type": "display_data",
          "data": {
            "text/plain": [
              "<Figure size 400x2100 with 7 Axes>"
            ],
            "image/png": "[encoded data removed]"
          },
          "metadata": {}
        }
      ]
    },
    {
      "cell_type": "code",
      "source": [
        "# We will use boxplots to better visualize the outliers, median and the 25-75 quantile range\n",
        "cols_of_interest = ['total_visit', 'innum_1', 'innum_102', 'innum_103', 'innum_104', 'innum_1000290', 'innum']\n",
        "\n",
        "# create subplots\n",
        "fig, axs = plt.subplots(nrows=len(cols_of_interest), ncols=1, figsize=(4, 3*len(cols_of_interest)))\n",
        "\n",
        "# loop through the columns and generate histograms\n",
        "for i, col in enumerate(cols_of_interest):\n",
        "    axs[i].boxplot(trn[col])\n",
        "    axs[i].set_xlabel(col)\n",
        "    axs[i].set_ylabel('Frequency')\n",
        "    axs[i].set_title(f'Boxplot of {col}')\n",
        "\n",
        "plt.tight_layout()\n",
        "plt.show()"
      ],
      "metadata": {
        "colab": {
          "base_uri": "https://localhost:8080/",
          "height": 1000
        },
        "id": "7QPpCJHIdsr3",
        "outputId": "2ca83156-a6ee-4de3-f0f9-ec226cad81d6"
      },
      "execution_count": 28,
      "outputs": [
        {
          "output_type": "display_data",
          "data": {
            "text/plain": [
              "<Figure size 400x2100 with 7 Axes>"
            ],
            "image/png": "[encoded data removed]"
          },
          "metadata": {}
        }
      ]
    },
    {
      "cell_type": "markdown",
      "metadata": {
        "id": "tqkWtBhBNiwj"
      },
      "source": [
        "We can see that all response variables' distribution are right skewed with extreme outliers in the upper end. Using boxplot, we can see that these outliers are very prominent for each response variables "
      ]
    },
    {
      "cell_type": "code",
      "execution_count": 29,
      "metadata": {
        "colab": {
          "base_uri": "https://localhost:8080/"
        },
        "id": "dJbV1yAZ7-qc",
        "outputId": "139e1205-abb0-4ff2-db26-ab76f5797043"
      },
      "outputs": [
        {
          "output_type": "stream",
          "name": "stdout",
          "text": [
            "Index(['ZoneID', 'CityID', 'CityLevel', 'BusinessStartDate', 'PlazaLevel2',\n",
            "       'PlazaType', 'BusiArea', 'TotalBuildingArea', 'BusinessBuildingArea',\n",
            "       'year', 'month', 'day', 'weekday', 'holiday1', 'holiday9', 'holiday5',\n",
            "       'holiday4', 'holiday2', 'holiday10', 'holiday3', 'holiday11',\n",
            "       'holiday6', 'holiday7', 'new_year_eve', 'holiday8', 'workingday_makeup',\n",
            "       'day_temp', 'night_temp', 'day_weather', 'day_weather2', 'day_wind',\n",
            "       'night_wind', 'total_visit', 'innum_1', 'innum_102', 'innum_103',\n",
            "       'innum_104', 'innum_1000290', 'innum'],\n",
            "      dtype='object')\n"
          ]
        }
      ],
      "source": [
        "#Display the column names\n",
        "print(trn.columns)"
      ]
    },
    {
      "cell_type": "code",
      "execution_count": 48,
      "metadata": {
        "colab": {
          "base_uri": "https://localhost:8080/",
          "height": 889
        },
        "id": "n_S36Vjp6hVb",
        "outputId": "f9442998-a42d-43af-d7db-3c32a2d771d6"
      },
      "outputs": [
        {
          "output_type": "display_data",
          "data": {
            "text/plain": [
              "<Figure size 900x900 with 2 Axes>"
            ],
            "image/png": "[encoded data removed]"
          },
          "metadata": {}
        }
      ],
      "source": [
        "#Generate correlation matrix to see the relationship between each independent variable with our dependant variables\n",
        "numerical_cols = ['BusiArea', 'TotalBuildingArea', 'BusinessBuildingArea',\n",
        "       'day_temp', 'night_temp', 'day_wind', 'night_wind', 'total_visit', \n",
        "       'innum_1', 'innum_102', 'innum_103', 'innum_104', 'innum_1000290', 'innum']\n",
        " \n",
        "df_corr = trn[numerical_cols]\n",
        "corr_matrix = df_corr.corr()\n",
        "\n",
        "# create a mask to hide the upper triangle of the matrix\n",
        "mask = np.triu(np.ones_like(corr_matrix, dtype=bool))\n",
        "\n",
        "# create a heatmap of the lower triangle of the correlation matrix using seaborn\n",
        "plt.figure(figsize=(9,9))\n",
        "sns.heatmap(corr_matrix, mask=mask, annot=True, fmt=\".2f\", cmap='Blues', linewidths=0.5, annot_kws={\"size\": 8} )\n",
        "\n",
        "# show the plot\n",
        "plt.show()"
      ]
    },
    {
      "cell_type": "markdown",
      "metadata": {
        "id": "Tg0xZ4vn_RzY"
      },
      "source": [
        "No particular strong correlation were shown between our independent variables and our response variables. Moderate positive correlation was observed in **BusinessBuildingArea** and **BusiArea**. Slight positive correlation was observed in **TotalBuildingArea**. Based on this, we can infer that the size of malls is positively correlated with traffic.\n",
        "\n",
        "Of all the 7 response variables, **innum_1000290** (Service store category) came out to be the least correlated with the independent variables. Even its correlation with the other traffic response variables are particular low. We will keep this in mind as we build our model.\n"
      ]
    },
    {
      "cell_type": "markdown",
      "source": [
        "We can check to see if our correlation coefficients between each independent variables and our response variables are signiciant using pearson r test"
      ],
      "metadata": {
        "id": "CTD0szDHk42D"
      }
    },
    {
      "cell_type": "code",
      "source": [
        "# calculate the correlation coefficient and p-values corresponding to total_visit\n",
        "corr_matrix = df_corr.corr(method='pearson')\n",
        "p_values = df_corr.corr(method=lambda x, y: pearsonr(x, y)[1])\n",
        "\n",
        "# select the row of the correlation matrix that corresponds to total_visit\n",
        "corr_with_total_visit = corr_matrix['total_visit'].drop('total_visit')\n",
        "\n",
        "# combine the correlation values and p-values into a single dataframe\n",
        "corr_df = pd.DataFrame({'correlation': corr_with_total_visit, 'p-value': p_values['total_visit'].drop(['total_visit','innum_1','innum_102','innum_103','innum_104','innum_1000290','innum'])})\n",
        "\n",
        "# display the results where p-value are less than 0.05\n",
        "print(corr_df[corr_df['p-value']<0.05])"
      ],
      "metadata": {
        "colab": {
          "base_uri": "https://localhost:8080/"
        },
        "id": "fivza_bqq1Aw",
        "outputId": "76f58b3f-eb6b-4edd-b297-ed4025be4839"
      },
      "execution_count": 62,
      "outputs": [
        {
          "output_type": "stream",
          "name": "stdout",
          "text": [
            "                      correlation       p-value\n",
            "BusiArea                 0.275220  0.000000e+00\n",
            "BusinessBuildingArea     0.369860  0.000000e+00\n",
            "TotalBuildingArea        0.248530  0.000000e+00\n",
            "day_temp                 0.042903  1.341106e-16\n",
            "day_wind                -0.036446  2.153098e-12\n",
            "night_temp               0.059919  6.988910e-31\n",
            "night_wind              -0.033919  6.275283e-11\n"
          ]
        }
      ]
    },
    {
      "cell_type": "code",
      "execution_count": 63,
      "metadata": {
        "colab": {
          "base_uri": "https://localhost:8080/"
        },
        "id": "8NZRqO77E1oZ",
        "outputId": "5ed6acc0-73c9-4a9e-b32c-2344f25e955c"
      },
      "outputs": [
        {
          "output_type": "stream",
          "name": "stdout",
          "text": [
            "                      correlation        p-value\n",
            "BusiArea                 0.214610   0.000000e+00\n",
            "BusinessBuildingArea     0.308993   0.000000e+00\n",
            "TotalBuildingArea        0.135277  4.064396e-151\n",
            "day_temp                 0.045412   2.060901e-18\n",
            "day_wind                -0.026442   3.480245e-07\n",
            "night_temp               0.051023   7.805235e-23\n",
            "night_wind              -0.029076   2.104374e-08\n"
          ]
        }
      ],
      "source": [
        "# calculate the correlation coefficient and p-values corresponding to innum\n",
        "corr_matrix = df_corr.corr(method='pearson')\n",
        "p_values = df_corr.corr(method=lambda x, y: pearsonr(x, y)[1])\n",
        "\n",
        "# select the row of the correlation matrix that corresponds to innum\n",
        "corr_with_innum = corr_matrix['innum'].drop('innum')\n",
        "\n",
        "# combine the correlation values and p-values into a single dataframe\n",
        "corr_df = pd.DataFrame({'correlation': corr_with_innum, 'p-value': p_values['innum'].drop(['total_visit','innum_1','innum_102','innum_103','innum_104','innum_1000290','innum'])})\n",
        "\n",
        "# display the results where p-value are less than 0.05\n",
        "print(corr_df[corr_df['p-value']<0.05])"
      ]
    },
    {
      "cell_type": "markdown",
      "metadata": {
        "id": "mTIopnwGGyPg"
      },
      "source": [
        "The positive correlation between innum (traffic) and BusinessBuildingArea is significant and so is that for BusiArea. The correlation for every other numerical variables are significant as well but they all have relatively weak correlation compared to BusinessBuildingArea and BusiArea. Based on these results, we can infer that greater business building areas drives more traffic. Similarly for greater business area and total building area but the effects are less than that of business building area."
      ]
    },
    {
      "cell_type": "code",
      "source": [
        "# calculate the correlation coefficient and p-values corresponding to innum_1000290\n",
        "corr_matrix = df_corr.corr(method='pearson')\n",
        "p_values = df_corr.corr(method=lambda x, y: pearsonr(x, y)[1])\n",
        "\n",
        "# select the row of the correlation matrix that corresponds to innum\n",
        "corr_with_innum_1000290 = corr_matrix['innum_1000290'].drop('innum_1000290')\n",
        "\n",
        "# combine the correlation values and p-values into a single dataframe\n",
        "corr_df = pd.DataFrame({'correlation': corr_with_innum_1000290, 'p-value': p_values['innum_1000290'].drop(['total_visit','innum_1','innum_102','innum_103','innum_104','innum_1000290','innum'])})\n",
        "\n",
        "# display the results where p-value are less than 0.05\n",
        "print(corr_df[corr_df['p-value']<0.05])"
      ],
      "metadata": {
        "colab": {
          "base_uri": "https://localhost:8080/"
        },
        "id": "Zy3XgRtRq-EA",
        "outputId": "5bc1b8f6-69ae-4d4d-c5f0-93c153af8132"
      },
      "execution_count": 66,
      "outputs": [
        {
          "output_type": "stream",
          "name": "stdout",
          "text": [
            "                      correlation       p-value\n",
            "BusiArea                 0.053446  6.708632e-25\n",
            "BusinessBuildingArea     0.079979  9.656971e-54\n",
            "day_temp                -0.011256  3.011038e-02\n",
            "night_temp              -0.011583  2.563147e-02\n"
          ]
        }
      ]
    },
    {
      "cell_type": "markdown",
      "source": [
        "Regardless of the weak correlation innum_1000290 has with our numerical independent variables, the correlation coefficients still came out to be significant."
      ],
      "metadata": {
        "id": "9sml-3SrrWve"
      }
    },
    {
      "cell_type": "markdown",
      "metadata": {
        "id": "NAoZ2OevNmsi"
      },
      "source": [
        "# Data cleaning and transformation for train set"
      ]
    },
    {
      "cell_type": "code",
      "execution_count": 67,
      "metadata": {
        "colab": {
          "base_uri": "https://localhost:8080/",
          "height": 237
        },
        "id": "lNBl3B88O9WU",
        "outputId": "6b849ab4-89aa-4737-fb4a-efc1a7a6d7df"
      },
      "outputs": [
        {
          "output_type": "execute_result",
          "data": {
            "text/plain": [
              "   ZoneID  CityID  CityLevel BusinessStartDate PlazaLevel2  PlazaType  \\\n",
              "0       8     179       1498  27AUG11:00:00:00          A?          2   \n",
              "1       8     179       1498  27AUG11:00:00:00          A?          2   \n",
              "2       8     179       1498  27AUG11:00:00:00          A?          2   \n",
              "\n",
              "   BusiArea  TotalBuildingArea  BusinessBuildingArea  year  ...  day_weather2  \\\n",
              "0   84878.4           135315.2               69157.6  2014  ...          good   \n",
              "1   84878.4           135315.2               69157.6  2014  ...          good   \n",
              "2   84878.4           135315.2               69157.6  2014  ...          good   \n",
              "\n",
              "   day_wind  night_wind  total_visit  innum_1  innum_102  innum_103  \\\n",
              "0         1           1     164712.0  37559.0    43028.0    43766.0   \n",
              "1         1           1     139543.0  13929.0    99360.0    12081.0   \n",
              "2         1           1     162541.0  19748.0   115348.0    13329.0   \n",
              "\n",
              "   innum_104  innum_1000290  innum  \n",
              "0    26319.0         1371.0  41365  \n",
              "1     9025.0          719.0  29620  \n",
              "2     8029.0          858.0  33238  \n",
              "\n",
              "[3 rows x 39 columns]"
            ],
            "text/html": [
              "\n",
              "  <div id=\"df-8824951a-2b27-445e-a4a1-c1972ce4d2dc\">\n",
              "    <div class=\"colab-df-container\">\n",
              "      <div>\n",
              "<style scoped>\n",
              "    .dataframe tbody tr th:only-of-type {\n",
              "        vertical-align: middle;\n",
              "    }\n",
              "\n",
              "    .dataframe tbody tr th {\n",
              "        vertical-align: top;\n",
              "    }\n",
              "\n",
              "    .dataframe thead th {\n",
              "        text-align: right;\n",
              "    }\n",
              "</style>\n",
              "<table border=\"1\" class=\"dataframe\">\n",
              "  <thead>\n",
              "    <tr style=\"text-align: right;\">\n",
              "      <th></th>\n",
              "      <th>ZoneID</th>\n",
              "      <th>CityID</th>\n",
              "      <th>CityLevel</th>\n",
              "      <th>BusinessStartDate</th>\n",
              "      <th>PlazaLevel2</th>\n",
              "      <th>PlazaType</th>\n",
              "      <th>BusiArea</th>\n",
              "      <th>TotalBuildingArea</th>\n",
              "      <th>BusinessBuildingArea</th>\n",
              "      <th>year</th>\n",
              "      <th>...</th>\n",
              "      <th>day_weather2</th>\n",
              "      <th>day_wind</th>\n",
              "      <th>night_wind</th>\n",
              "      <th>total_visit</th>\n",
              "      <th>innum_1</th>\n",
              "      <th>innum_102</th>\n",
              "      <th>innum_103</th>\n",
              "      <th>innum_104</th>\n",
              "      <th>innum_1000290</th>\n",
              "      <th>innum</th>\n",
              "    </tr>\n",
              "  </thead>\n",
              "  <tbody>\n",
              "    <tr>\n",
              "      <th>0</th>\n",
              "      <td>8</td>\n",
              "      <td>179</td>\n",
              "      <td>1498</td>\n",
              "      <td>27AUG11:00:00:00</td>\n",
              "      <td>A?</td>\n",
              "      <td>2</td>\n",
              "      <td>84878.4</td>\n",
              "      <td>135315.2</td>\n",
              "      <td>69157.6</td>\n",
              "      <td>2014</td>\n",
              "      <td>...</td>\n",
              "      <td>good</td>\n",
              "      <td>1</td>\n",
              "      <td>1</td>\n",
              "      <td>164712.0</td>\n",
              "      <td>37559.0</td>\n",
              "      <td>43028.0</td>\n",
              "      <td>43766.0</td>\n",
              "      <td>26319.0</td>\n",
              "      <td>1371.0</td>\n",
              "      <td>41365</td>\n",
              "    </tr>\n",
              "    <tr>\n",
              "      <th>1</th>\n",
              "      <td>8</td>\n",
              "      <td>179</td>\n",
              "      <td>1498</td>\n",
              "      <td>27AUG11:00:00:00</td>\n",
              "      <td>A?</td>\n",
              "      <td>2</td>\n",
              "      <td>84878.4</td>\n",
              "      <td>135315.2</td>\n",
              "      <td>69157.6</td>\n",
              "      <td>2014</td>\n",
              "      <td>...</td>\n",
              "      <td>good</td>\n",
              "      <td>1</td>\n",
              "      <td>1</td>\n",
              "      <td>139543.0</td>\n",
              "      <td>13929.0</td>\n",
              "      <td>99360.0</td>\n",
              "      <td>12081.0</td>\n",
              "      <td>9025.0</td>\n",
              "      <td>719.0</td>\n",
              "      <td>29620</td>\n",
              "    </tr>\n",
              "    <tr>\n",
              "      <th>2</th>\n",
              "      <td>8</td>\n",
              "      <td>179</td>\n",
              "      <td>1498</td>\n",
              "      <td>27AUG11:00:00:00</td>\n",
              "      <td>A?</td>\n",
              "      <td>2</td>\n",
              "      <td>84878.4</td>\n",
              "      <td>135315.2</td>\n",
              "      <td>69157.6</td>\n",
              "      <td>2014</td>\n",
              "      <td>...</td>\n",
              "      <td>good</td>\n",
              "      <td>1</td>\n",
              "      <td>1</td>\n",
              "      <td>162541.0</td>\n",
              "      <td>19748.0</td>\n",
              "      <td>115348.0</td>\n",
              "      <td>13329.0</td>\n",
              "      <td>8029.0</td>\n",
              "      <td>858.0</td>\n",
              "      <td>33238</td>\n",
              "    </tr>\n",
              "  </tbody>\n",
              "</table>\n",
              "<p>3 rows × 39 columns</p>\n",
              "</div>\n",
              "      <button class=\"colab-df-convert\" onclick=\"convertToInteractive('df-8824951a-2b27-445e-a4a1-c1972ce4d2dc')\"\n",
              "              title=\"Convert this dataframe to an interactive table.\"\n",
              "              style=\"display:none;\">\n",
              "        \n",
              "  <svg xmlns=\"http://www.w3.org/2000/svg\" height=\"24px\"viewBox=\"0 0 24 24\"\n",
              "       width=\"24px\">\n",
              "    <path d=\"M0 0h24v24H0V0z\" fill=\"none\"/>\n",
              "    <path d=\"M18.56 5.44l.94 2.06.94-2.06 2.06-.94-2.06-.94-.94-2.06-.94 2.06-2.06.94zm-11 1L8.5 8.5l.94-2.06 2.06-.94-2.06-.94L8.5 2.5l-.94 2.06-2.06.94zm10 10l.94 2.06.94-2.06 2.06-.94-2.06-.94-.94-2.06-.94 2.06-2.06.94z\"/><path d=\"M17.41 7.96l-1.37-1.37c-.4-.4-.92-.59-1.43-.59-.52 0-1.04.2-1.43.59L10.3 9.45l-7.72 7.72c-.78.78-.78 2.05 0 2.83L4 21.41c.39.39.9.59 1.41.59.51 0 1.02-.2 1.41-.59l7.78-7.78 2.81-2.81c.8-.78.8-2.07 0-2.86zM5.41 20L4 18.59l7.72-7.72 1.47 1.35L5.41 20z\"/>\n",
              "  </svg>\n",
              "      </button>\n",
              "      \n",
              "  <style>\n",
              "    .colab-df-container {\n",
              "      display:flex;\n",
              "      flex-wrap:wrap;\n",
              "      gap: 12px;\n",
              "    }\n",
              "\n",
              "    .colab-df-convert {\n",
              "      background-color: #E8F0FE;\n",
              "      border: none;\n",
              "      border-radius: 50%;\n",
              "      cursor: pointer;\n",
              "      display: none;\n",
              "      fill: #1967D2;\n",
              "      height: 32px;\n",
              "      padding: 0 0 0 0;\n",
              "      width: 32px;\n",
              "    }\n",
              "\n",
              "    .colab-df-convert:hover {\n",
              "      background-color: #E2EBFA;\n",
              "      box-shadow: 0px 1px 2px rgba(60, 64, 67, 0.3), 0px 1px 3px 1px rgba(60, 64, 67, 0.15);\n",
              "      fill: #174EA6;\n",
              "    }\n",
              "\n",
              "    [theme=dark] .colab-df-convert {\n",
              "      background-color: #3B4455;\n",
              "      fill: #D2E3FC;\n",
              "    }\n",
              "\n",
              "    [theme=dark] .colab-df-convert:hover {\n",
              "      background-color: #434B5C;\n",
              "      box-shadow: 0px 1px 3px 1px rgba(0, 0, 0, 0.15);\n",
              "      filter: drop-shadow(0px 1px 2px rgba(0, 0, 0, 0.3));\n",
              "      fill: #FFFFFF;\n",
              "    }\n",
              "  </style>\n",
              "\n",
              "      <script>\n",
              "        const buttonEl =\n",
              "          document.querySelector('#df-8824951a-2b27-445e-a4a1-c1972ce4d2dc button.colab-df-convert');\n",
              "        buttonEl.style.display =\n",
              "          google.colab.kernel.accessAllowed ? 'block' : 'none';\n",
              "\n",
              "        async function convertToInteractive(key) {\n",
              "          const element = document.querySelector('#df-8824951a-2b27-445e-a4a1-c1972ce4d2dc');\n",
              "          const dataTable =\n",
              "            await google.colab.kernel.invokeFunction('convertToInteractive',\n",
              "                                                     [key], {});\n",
              "          if (!dataTable) return;\n",
              "\n",
              "          const docLinkHtml = 'Like what you see? Visit the ' +\n",
              "            '<a target=\"_blank\" href=https://colab.research.google.com/notebooks/data_table.ipynb>data table notebook</a>'\n",
              "            + ' to learn more about interactive tables.';\n",
              "          element.innerHTML = '';\n",
              "          dataTable['output_type'] = 'display_data';\n",
              "          await google.colab.output.renderOutput(dataTable, element);\n",
              "          const docLink = document.createElement('div');\n",
              "          docLink.innerHTML = docLinkHtml;\n",
              "          element.appendChild(docLink);\n",
              "        }\n",
              "      </script>\n",
              "    </div>\n",
              "  </div>\n",
              "  "
            ]
          },
          "metadata": {},
          "execution_count": 67
        }
      ],
      "source": [
        "trn.head(3)"
      ]
    },
    {
      "cell_type": "code",
      "execution_count": 68,
      "metadata": {
        "colab": {
          "base_uri": "https://localhost:8080/"
        },
        "id": "tkV22WGLaJG6",
        "outputId": "336971e0-d4d0-4dc9-e416-48bdb560620d"
      },
      "outputs": [
        {
          "output_type": "execute_result",
          "data": {
            "text/plain": [
              "ZoneID                    int64\n",
              "CityID                    int64\n",
              "CityLevel                 int64\n",
              "BusinessStartDate        object\n",
              "PlazaLevel2              object\n",
              "PlazaType                 int64\n",
              "BusiArea                float64\n",
              "TotalBuildingArea       float64\n",
              "BusinessBuildingArea    float64\n",
              "year                      int64\n",
              "month                     int64\n",
              "day                       int64\n",
              "weekday                   int64\n",
              "holiday1                  int64\n",
              "holiday9                  int64\n",
              "holiday5                  int64\n",
              "holiday4                  int64\n",
              "holiday2                  int64\n",
              "holiday10                 int64\n",
              "holiday3                  int64\n",
              "holiday11                 int64\n",
              "holiday6                  int64\n",
              "holiday7                  int64\n",
              "new_year_eve              int64\n",
              "holiday8                  int64\n",
              "workingday_makeup         int64\n",
              "day_temp                float64\n",
              "night_temp              float64\n",
              "day_weather              object\n",
              "day_weather2             object\n",
              "day_wind                  int64\n",
              "night_wind                int64\n",
              "total_visit             float64\n",
              "innum_1                 float64\n",
              "innum_102               float64\n",
              "innum_103               float64\n",
              "innum_104               float64\n",
              "innum_1000290           float64\n",
              "innum                     int64\n",
              "dtype: object"
            ]
          },
          "metadata": {},
          "execution_count": 68
        }
      ],
      "source": [
        "trn.dtypes"
      ]
    },
    {
      "cell_type": "code",
      "execution_count": 69,
      "metadata": {
        "colab": {
          "base_uri": "https://localhost:8080/",
          "height": 468
        },
        "id": "dbKGrLB9m6Ip",
        "outputId": "976bce45-816a-42eb-890e-ddd13442fc98"
      },
      "outputs": [
        {
          "output_type": "execute_result",
          "data": {
            "text/plain": [
              "       holiday1  holiday9  holiday5  holiday4  holiday2  holiday10  holiday3  \\\n",
              "0             0         1         0         0         0          0         0   \n",
              "1             0         0         0         0         0          0         0   \n",
              "2             0         0         0         0         0          0         0   \n",
              "3             0         0         0         0         0          0         0   \n",
              "4             0         0         0         0         0          0         0   \n",
              "...         ...       ...       ...       ...       ...        ...       ...   \n",
              "37136         0         0         0         0         0          0         0   \n",
              "37137         0         0         0         0         0          0         0   \n",
              "37138         0         0         0         0         0          0         0   \n",
              "37139         0         0         0         0         0          0         0   \n",
              "37140         0         0         0         0         0          0         0   \n",
              "\n",
              "       holiday11  holiday6  holiday7  new_year_eve  holiday8  \\\n",
              "0              0         0         0             0         0   \n",
              "1              0         0         0             0         0   \n",
              "2              0         0         0             0         0   \n",
              "3              0         0         0             0         0   \n",
              "4              0         0         0             0         0   \n",
              "...          ...       ...       ...           ...       ...   \n",
              "37136          0         0         0             0         0   \n",
              "37137          0         0         0             0         0   \n",
              "37138          0         0         0             0         0   \n",
              "37139          0         0         0             0         0   \n",
              "37140          0         0         0             1         0   \n",
              "\n",
              "       workingday_makeup  \n",
              "0                      0  \n",
              "1                      0  \n",
              "2                      0  \n",
              "3                      0  \n",
              "4                      0  \n",
              "...                  ...  \n",
              "37136                  0  \n",
              "37137                  0  \n",
              "37138                  0  \n",
              "37139                  0  \n",
              "37140                  0  \n",
              "\n",
              "[37123 rows x 13 columns]"
            ],
            "text/html": [
              "\n",
              "  <div id=\"df-b18ae16b-de6d-43d7-8f4a-7435b1cf0623\">\n",
              "    <div class=\"colab-df-container\">\n",
              "      <div>\n",
              "<style scoped>\n",
              "    .dataframe tbody tr th:only-of-type {\n",
              "        vertical-align: middle;\n",
              "    }\n",
              "\n",
              "    .dataframe tbody tr th {\n",
              "        vertical-align: top;\n",
              "    }\n",
              "\n",
              "    .dataframe thead th {\n",
              "        text-align: right;\n",
              "    }\n",
              "</style>\n",
              "<table border=\"1\" class=\"dataframe\">\n",
              "  <thead>\n",
              "    <tr style=\"text-align: right;\">\n",
              "      <th></th>\n",
              "      <th>holiday1</th>\n",
              "      <th>holiday9</th>\n",
              "      <th>holiday5</th>\n",
              "      <th>holiday4</th>\n",
              "      <th>holiday2</th>\n",
              "      <th>holiday10</th>\n",
              "      <th>holiday3</th>\n",
              "      <th>holiday11</th>\n",
              "      <th>holiday6</th>\n",
              "      <th>holiday7</th>\n",
              "      <th>new_year_eve</th>\n",
              "      <th>holiday8</th>\n",
              "      <th>workingday_makeup</th>\n",
              "    </tr>\n",
              "  </thead>\n",
              "  <tbody>\n",
              "    <tr>\n",
              "      <th>0</th>\n",
              "      <td>0</td>\n",
              "      <td>1</td>\n",
              "      <td>0</td>\n",
              "      <td>0</td>\n",
              "      <td>0</td>\n",
              "      <td>0</td>\n",
              "      <td>0</td>\n",
              "      <td>0</td>\n",
              "      <td>0</td>\n",
              "      <td>0</td>\n",
              "      <td>0</td>\n",
              "      <td>0</td>\n",
              "      <td>0</td>\n",
              "    </tr>\n",
              "    <tr>\n",
              "      <th>1</th>\n",
              "      <td>0</td>\n",
              "      <td>0</td>\n",
              "      <td>0</td>\n",
              "      <td>0</td>\n",
              "      <td>0</td>\n",
              "      <td>0</td>\n",
              "      <td>0</td>\n",
              "      <td>0</td>\n",
              "      <td>0</td>\n",
              "      <td>0</td>\n",
              "      <td>0</td>\n",
              "      <td>0</td>\n",
              "      <td>0</td>\n",
              "    </tr>\n",
              "    <tr>\n",
              "      <th>2</th>\n",
              "      <td>0</td>\n",
              "      <td>0</td>\n",
              "      <td>0</td>\n",
              "      <td>0</td>\n",
              "      <td>0</td>\n",
              "      <td>0</td>\n",
              "      <td>0</td>\n",
              "      <td>0</td>\n",
              "      <td>0</td>\n",
              "      <td>0</td>\n",
              "      <td>0</td>\n",
              "      <td>0</td>\n",
              "      <td>0</td>\n",
              "    </tr>\n",
              "    <tr>\n",
              "      <th>3</th>\n",
              "      <td>0</td>\n",
              "      <td>0</td>\n",
              "      <td>0</td>\n",
              "      <td>0</td>\n",
              "      <td>0</td>\n",
              "      <td>0</td>\n",
              "      <td>0</td>\n",
              "      <td>0</td>\n",
              "      <td>0</td>\n",
              "      <td>0</td>\n",
              "      <td>0</td>\n",
              "      <td>0</td>\n",
              "      <td>0</td>\n",
              "    </tr>\n",
              "    <tr>\n",
              "      <th>4</th>\n",
              "      <td>0</td>\n",
              "      <td>0</td>\n",
              "      <td>0</td>\n",
              "      <td>0</td>\n",
              "      <td>0</td>\n",
              "      <td>0</td>\n",
              "      <td>0</td>\n",
              "      <td>0</td>\n",
              "      <td>0</td>\n",
              "      <td>0</td>\n",
              "      <td>0</td>\n",
              "      <td>0</td>\n",
              "      <td>0</td>\n",
              "    </tr>\n",
              "    <tr>\n",
              "      <th>...</th>\n",
              "      <td>...</td>\n",
              "      <td>...</td>\n",
              "      <td>...</td>\n",
              "      <td>...</td>\n",
              "      <td>...</td>\n",
              "      <td>...</td>\n",
              "      <td>...</td>\n",
              "      <td>...</td>\n",
              "      <td>...</td>\n",
              "      <td>...</td>\n",
              "      <td>...</td>\n",
              "      <td>...</td>\n",
              "      <td>...</td>\n",
              "    </tr>\n",
              "    <tr>\n",
              "      <th>37136</th>\n",
              "      <td>0</td>\n",
              "      <td>0</td>\n",
              "      <td>0</td>\n",
              "      <td>0</td>\n",
              "      <td>0</td>\n",
              "      <td>0</td>\n",
              "      <td>0</td>\n",
              "      <td>0</td>\n",
              "      <td>0</td>\n",
              "      <td>0</td>\n",
              "      <td>0</td>\n",
              "      <td>0</td>\n",
              "      <td>0</td>\n",
              "    </tr>\n",
              "    <tr>\n",
              "      <th>37137</th>\n",
              "      <td>0</td>\n",
              "      <td>0</td>\n",
              "      <td>0</td>\n",
              "      <td>0</td>\n",
              "      <td>0</td>\n",
              "      <td>0</td>\n",
              "      <td>0</td>\n",
              "      <td>0</td>\n",
              "      <td>0</td>\n",
              "      <td>0</td>\n",
              "      <td>0</td>\n",
              "      <td>0</td>\n",
              "      <td>0</td>\n",
              "    </tr>\n",
              "    <tr>\n",
              "      <th>37138</th>\n",
              "      <td>0</td>\n",
              "      <td>0</td>\n",
              "      <td>0</td>\n",
              "      <td>0</td>\n",
              "      <td>0</td>\n",
              "      <td>0</td>\n",
              "      <td>0</td>\n",
              "      <td>0</td>\n",
              "      <td>0</td>\n",
              "      <td>0</td>\n",
              "      <td>0</td>\n",
              "      <td>0</td>\n",
              "      <td>0</td>\n",
              "    </tr>\n",
              "    <tr>\n",
              "      <th>37139</th>\n",
              "      <td>0</td>\n",
              "      <td>0</td>\n",
              "      <td>0</td>\n",
              "      <td>0</td>\n",
              "      <td>0</td>\n",
              "      <td>0</td>\n",
              "      <td>0</td>\n",
              "      <td>0</td>\n",
              "      <td>0</td>\n",
              "      <td>0</td>\n",
              "      <td>0</td>\n",
              "      <td>0</td>\n",
              "      <td>0</td>\n",
              "    </tr>\n",
              "    <tr>\n",
              "      <th>37140</th>\n",
              "      <td>0</td>\n",
              "      <td>0</td>\n",
              "      <td>0</td>\n",
              "      <td>0</td>\n",
              "      <td>0</td>\n",
              "      <td>0</td>\n",
              "      <td>0</td>\n",
              "      <td>0</td>\n",
              "      <td>0</td>\n",
              "      <td>0</td>\n",
              "      <td>1</td>\n",
              "      <td>0</td>\n",
              "      <td>0</td>\n",
              "    </tr>\n",
              "  </tbody>\n",
              "</table>\n",
              "<p>37123 rows × 13 columns</p>\n",
              "</div>\n",
              "      <button class=\"colab-df-convert\" onclick=\"convertToInteractive('df-b18ae16b-de6d-43d7-8f4a-7435b1cf0623')\"\n",
              "              title=\"Convert this dataframe to an interactive table.\"\n",
              "              style=\"display:none;\">\n",
              "        \n",
              "  <svg xmlns=\"http://www.w3.org/2000/svg\" height=\"24px\"viewBox=\"0 0 24 24\"\n",
              "       width=\"24px\">\n",
              "    <path d=\"M0 0h24v24H0V0z\" fill=\"none\"/>\n",
              "    <path d=\"M18.56 5.44l.94 2.06.94-2.06 2.06-.94-2.06-.94-.94-2.06-.94 2.06-2.06.94zm-11 1L8.5 8.5l.94-2.06 2.06-.94-2.06-.94L8.5 2.5l-.94 2.06-2.06.94zm10 10l.94 2.06.94-2.06 2.06-.94-2.06-.94-.94-2.06-.94 2.06-2.06.94z\"/><path d=\"M17.41 7.96l-1.37-1.37c-.4-.4-.92-.59-1.43-.59-.52 0-1.04.2-1.43.59L10.3 9.45l-7.72 7.72c-.78.78-.78 2.05 0 2.83L4 21.41c.39.39.9.59 1.41.59.51 0 1.02-.2 1.41-.59l7.78-7.78 2.81-2.81c.8-.78.8-2.07 0-2.86zM5.41 20L4 18.59l7.72-7.72 1.47 1.35L5.41 20z\"/>\n",
              "  </svg>\n",
              "      </button>\n",
              "      \n",
              "  <style>\n",
              "    .colab-df-container {\n",
              "      display:flex;\n",
              "      flex-wrap:wrap;\n",
              "      gap: 12px;\n",
              "    }\n",
              "\n",
              "    .colab-df-convert {\n",
              "      background-color: #E8F0FE;\n",
              "      border: none;\n",
              "      border-radius: 50%;\n",
              "      cursor: pointer;\n",
              "      display: none;\n",
              "      fill: #1967D2;\n",
              "      height: 32px;\n",
              "      padding: 0 0 0 0;\n",
              "      width: 32px;\n",
              "    }\n",
              "\n",
              "    .colab-df-convert:hover {\n",
              "      background-color: #E2EBFA;\n",
              "      box-shadow: 0px 1px 2px rgba(60, 64, 67, 0.3), 0px 1px 3px 1px rgba(60, 64, 67, 0.15);\n",
              "      fill: #174EA6;\n",
              "    }\n",
              "\n",
              "    [theme=dark] .colab-df-convert {\n",
              "      background-color: #3B4455;\n",
              "      fill: #D2E3FC;\n",
              "    }\n",
              "\n",
              "    [theme=dark] .colab-df-convert:hover {\n",
              "      background-color: #434B5C;\n",
              "      box-shadow: 0px 1px 3px 1px rgba(0, 0, 0, 0.15);\n",
              "      filter: drop-shadow(0px 1px 2px rgba(0, 0, 0, 0.3));\n",
              "      fill: #FFFFFF;\n",
              "    }\n",
              "  </style>\n",
              "\n",
              "      <script>\n",
              "        const buttonEl =\n",
              "          document.querySelector('#df-b18ae16b-de6d-43d7-8f4a-7435b1cf0623 button.colab-df-convert');\n",
              "        buttonEl.style.display =\n",
              "          google.colab.kernel.accessAllowed ? 'block' : 'none';\n",
              "\n",
              "        async function convertToInteractive(key) {\n",
              "          const element = document.querySelector('#df-b18ae16b-de6d-43d7-8f4a-7435b1cf0623');\n",
              "          const dataTable =\n",
              "            await google.colab.kernel.invokeFunction('convertToInteractive',\n",
              "                                                     [key], {});\n",
              "          if (!dataTable) return;\n",
              "\n",
              "          const docLinkHtml = 'Like what you see? Visit the ' +\n",
              "            '<a target=\"_blank\" href=https://colab.research.google.com/notebooks/data_table.ipynb>data table notebook</a>'\n",
              "            + ' to learn more about interactive tables.';\n",
              "          element.innerHTML = '';\n",
              "          dataTable['output_type'] = 'display_data';\n",
              "          await google.colab.output.renderOutput(dataTable, element);\n",
              "          const docLink = document.createElement('div');\n",
              "          docLink.innerHTML = docLinkHtml;\n",
              "          element.appendChild(docLink);\n",
              "        }\n",
              "      </script>\n",
              "    </div>\n",
              "  </div>\n",
              "  "
            ]
          },
          "metadata": {},
          "execution_count": 69
        }
      ],
      "source": [
        "trn.iloc[:,13:26]"
      ]
    },
    {
      "cell_type": "code",
      "execution_count": 70,
      "metadata": {
        "id": "nZvNdNA0ORTi"
      },
      "outputs": [],
      "source": [
        "#Convert columns to their desired data types\n",
        "trn.iloc[:,13:26] = trn.iloc[:,13:26].astype(\"bool\")"
      ]
    },
    {
      "cell_type": "code",
      "execution_count": 71,
      "metadata": {
        "id": "zEf_nHmGm3aI"
      },
      "outputs": [],
      "source": [
        "# perform one-hot encoding for PlazaType\n",
        "one_hot = pd.get_dummies(trn['PlazaType'])\n",
        "\n",
        "# add the one-hot encoded columns to the original dataframe\n",
        "trn = pd.concat([trn, one_hot],axis=1)\n",
        "\n",
        "# drop the original categorical column\n",
        "trn = trn.drop('PlazaType', axis=1)"
      ]
    },
    {
      "cell_type": "code",
      "execution_count": 72,
      "metadata": {
        "id": "gLyoOsPSw1h9"
      },
      "outputs": [],
      "source": [
        "# perform one-hot encoding for PlazaLevel2\n",
        "one_hot = pd.get_dummies(trn['PlazaLevel2'])\n",
        "\n",
        "# add the one-hot encoded columns to the original dataframe\n",
        "trn = pd.concat([trn, one_hot],axis=1)\n",
        "\n",
        "# drop the original categorical column\n",
        "trn = trn.drop('PlazaLevel2', axis=1)"
      ]
    },
    {
      "cell_type": "code",
      "execution_count": 73,
      "metadata": {
        "id": "KPYlqB4symxa"
      },
      "outputs": [],
      "source": [
        "# perform one-hot encoding for day_weather\n",
        "one_hot = pd.get_dummies(trn['day_weather'])\n",
        "\n",
        "# add the one-hot encoded columns to the original dataframe\n",
        "trn = pd.concat([trn, one_hot],axis=1)\n",
        "\n",
        "# drop the original categorical column\n",
        "trn = trn.drop('day_weather', axis=1)"
      ]
    },
    {
      "cell_type": "code",
      "execution_count": 74,
      "metadata": {
        "id": "B5HN5HQty4No"
      },
      "outputs": [],
      "source": [
        "# perform one-hot encoding for day_weather2\n",
        "one_hot = pd.get_dummies(trn['day_weather2'])\n",
        "\n",
        "# add the one-hot encoded columns to the original dataframe\n",
        "trn = pd.concat([trn, one_hot],axis=1)\n",
        "\n",
        "# drop the original categorical column\n",
        "trn = trn.drop('day_weather2', axis=1)"
      ]
    },
    {
      "cell_type": "code",
      "execution_count": 75,
      "metadata": {
        "id": "QXtZ8x-Vun40"
      },
      "outputs": [],
      "source": [
        "# Convert date strings to datetime objects\n",
        "trn['BusinessStartDate'] = pd.to_datetime(trn['BusinessStartDate'], format='%d%b%y:%H:%M:%S')\n",
        "\n",
        "# Extract year, month, day, hour, minute, second, and microsecond components\n",
        "trn['businessyear'] = trn['BusinessStartDate'].dt.year\n",
        "trn['businessmonth'] = trn['BusinessStartDate'].dt.month\n",
        "trn['businessday'] = trn['BusinessStartDate'].dt.day\n",
        "trn['businesshour'] = trn['BusinessStartDate'].dt.hour\n",
        "trn['businessminute'] = trn['BusinessStartDate'].dt.minute\n",
        "trn['businesssecond'] = trn['BusinessStartDate'].dt.second\n",
        "trn['businessmicrosecond'] = trn['BusinessStartDate'].dt.microsecond"
      ]
    },
    {
      "cell_type": "code",
      "execution_count": 76,
      "metadata": {
        "id": "fF10ORrDvQbN"
      },
      "outputs": [],
      "source": [
        "# Drop columns we do not need\n",
        "trn = trn.drop(['BusinessStartDate','businesshour','businessminute','businesssecond','businessmicrosecond'], axis=1)\n"
      ]
    },
    {
      "cell_type": "code",
      "execution_count": 77,
      "metadata": {
        "id": "H9vIM1sgexC3"
      },
      "outputs": [],
      "source": [
        "# Convert year, month, day and weekday to factor type\n",
        "trn['year'] = trn['year'].astype(object)\n",
        "trn['month'] = trn['month'].astype(object)\n",
        "trn['day'] = trn['day'].astype(object)\n",
        "trn['weekday'] = trn['weekday'].astype(object)\n",
        "trn['businessyear'] = trn['businessyear'].astype(object)\n",
        "trn['businessmonth'] = trn['businessmonth'].astype(object)\n",
        "trn['businessday'] = trn['businessday'].astype(object)"
      ]
    },
    {
      "cell_type": "code",
      "execution_count": 78,
      "metadata": {
        "colab": {
          "base_uri": "https://localhost:8080/"
        },
        "id": "g-EOoWdvv3cS",
        "outputId": "9c62ec9f-7262-48fb-abfa-4a203b659c95"
      },
      "outputs": [
        {
          "output_type": "execute_result",
          "data": {
            "text/plain": [
              "ZoneID                 int64\n",
              "CityID                 int64\n",
              "CityLevel              int64\n",
              "BusiArea             float64\n",
              "TotalBuildingArea    float64\n",
              "                      ...   \n",
              "small_trouble          uint8\n",
              "special                uint8\n",
              "businessyear          object\n",
              "businessmonth         object\n",
              "businessday           object\n",
              "Length: 68, dtype: object"
            ]
          },
          "metadata": {},
          "execution_count": 78
        }
      ],
      "source": [
        "trn.dtypes"
      ]
    },
    {
      "cell_type": "code",
      "execution_count": 79,
      "metadata": {
        "id": "HJNlQRAsqLRf"
      },
      "outputs": [],
      "source": [
        "# Convert all column to string type because the model we will build later only takes in string type\n",
        "trn.columns = trn.columns.astype(str)"
      ]
    },
    {
      "cell_type": "code",
      "execution_count": 80,
      "metadata": {
        "colab": {
          "base_uri": "https://localhost:8080/"
        },
        "id": "DbpkAgq2mj2g",
        "outputId": "09fde1a9-b54a-4668-c372-0ce4ac924ca8"
      },
      "outputs": [
        {
          "output_type": "execute_result",
          "data": {
            "text/plain": [
              "ZoneID                 int64\n",
              "CityID                 int64\n",
              "CityLevel              int64\n",
              "BusiArea             float64\n",
              "TotalBuildingArea    float64\n",
              "                      ...   \n",
              "small_trouble          uint8\n",
              "special                uint8\n",
              "businessyear          object\n",
              "businessmonth         object\n",
              "businessday           object\n",
              "Length: 68, dtype: object"
            ]
          },
          "metadata": {},
          "execution_count": 80
        }
      ],
      "source": [
        "trn.dtypes"
      ]
    },
    {
      "cell_type": "markdown",
      "metadata": {
        "id": "NASSxlTvcoqN"
      },
      "source": [
        "# Data cleaning and transformation for hold dataset"
      ]
    },
    {
      "cell_type": "code",
      "execution_count": 82,
      "metadata": {
        "colab": {
          "base_uri": "https://localhost:8080/",
          "height": 468
        },
        "id": "9CEXMch-cxP-",
        "outputId": "81fe1bab-c286-4270-b5ae-12cad9f99cea"
      },
      "outputs": [
        {
          "output_type": "execute_result",
          "data": {
            "text/plain": [
              "      holiday1  holiday9  holiday5  holiday4  holiday2  holiday10  holiday3  \\\n",
              "0            0         0         0         0         0          0         0   \n",
              "1            0         0         0         0         0          0         0   \n",
              "2            0         0         0         0         0          0         0   \n",
              "3            0         0         0         0         0          0         0   \n",
              "4            0         0         0         0         0          0         0   \n",
              "...        ...       ...       ...       ...       ...        ...       ...   \n",
              "4406         0         0         0         0         0          0         0   \n",
              "4407         0         0         0         0         0          0         0   \n",
              "4408         0         0         0         0         0          0         0   \n",
              "4409         0         0         0         0         0          0         0   \n",
              "4410         0         1         0         0         0          0         0   \n",
              "\n",
              "      holiday11  holiday6  holiday7  new_year_eve  holiday8  workingday_makeup  \n",
              "0             0         0         0             0         0                  0  \n",
              "1             0         0         0             0         0                  0  \n",
              "2             0         0         0             0         0                  0  \n",
              "3             0         0         0             0         0                  0  \n",
              "4             0         0         0             0         0                  0  \n",
              "...         ...       ...       ...           ...       ...                ...  \n",
              "4406          0         0         0             0         0                  0  \n",
              "4407          0         0         0             0         0                  0  \n",
              "4408          0         0         0             0         0                  0  \n",
              "4409          0         0         0             0         0                  0  \n",
              "4410          0         0         0             1         0                  0  \n",
              "\n",
              "[4411 rows x 13 columns]"
            ],
            "text/html": [
              "\n",
              "  <div id=\"df-45dcede6-8b7b-41ff-a716-222c55cbfda2\">\n",
              "    <div class=\"colab-df-container\">\n",
              "      <div>\n",
              "<style scoped>\n",
              "    .dataframe tbody tr th:only-of-type {\n",
              "        vertical-align: middle;\n",
              "    }\n",
              "\n",
              "    .dataframe tbody tr th {\n",
              "        vertical-align: top;\n",
              "    }\n",
              "\n",
              "    .dataframe thead th {\n",
              "        text-align: right;\n",
              "    }\n",
              "</style>\n",
              "<table border=\"1\" class=\"dataframe\">\n",
              "  <thead>\n",
              "    <tr style=\"text-align: right;\">\n",
              "      <th></th>\n",
              "      <th>holiday1</th>\n",
              "      <th>holiday9</th>\n",
              "      <th>holiday5</th>\n",
              "      <th>holiday4</th>\n",
              "      <th>holiday2</th>\n",
              "      <th>holiday10</th>\n",
              "      <th>holiday3</th>\n",
              "      <th>holiday11</th>\n",
              "      <th>holiday6</th>\n",
              "      <th>holiday7</th>\n",
              "      <th>new_year_eve</th>\n",
              "      <th>holiday8</th>\n",
              "      <th>workingday_makeup</th>\n",
              "    </tr>\n",
              "  </thead>\n",
              "  <tbody>\n",
              "    <tr>\n",
              "      <th>0</th>\n",
              "      <td>0</td>\n",
              "      <td>0</td>\n",
              "      <td>0</td>\n",
              "      <td>0</td>\n",
              "      <td>0</td>\n",
              "      <td>0</td>\n",
              "      <td>0</td>\n",
              "      <td>0</td>\n",
              "      <td>0</td>\n",
              "      <td>0</td>\n",
              "      <td>0</td>\n",
              "      <td>0</td>\n",
              "      <td>0</td>\n",
              "    </tr>\n",
              "    <tr>\n",
              "      <th>1</th>\n",
              "      <td>0</td>\n",
              "      <td>0</td>\n",
              "      <td>0</td>\n",
              "      <td>0</td>\n",
              "      <td>0</td>\n",
              "      <td>0</td>\n",
              "      <td>0</td>\n",
              "      <td>0</td>\n",
              "      <td>0</td>\n",
              "      <td>0</td>\n",
              "      <td>0</td>\n",
              "      <td>0</td>\n",
              "      <td>0</td>\n",
              "    </tr>\n",
              "    <tr>\n",
              "      <th>2</th>\n",
              "      <td>0</td>\n",
              "      <td>0</td>\n",
              "      <td>0</td>\n",
              "      <td>0</td>\n",
              "      <td>0</td>\n",
              "      <td>0</td>\n",
              "      <td>0</td>\n",
              "      <td>0</td>\n",
              "      <td>0</td>\n",
              "      <td>0</td>\n",
              "      <td>0</td>\n",
              "      <td>0</td>\n",
              "      <td>0</td>\n",
              "    </tr>\n",
              "    <tr>\n",
              "      <th>3</th>\n",
              "      <td>0</td>\n",
              "      <td>0</td>\n",
              "      <td>0</td>\n",
              "      <td>0</td>\n",
              "      <td>0</td>\n",
              "      <td>0</td>\n",
              "      <td>0</td>\n",
              "      <td>0</td>\n",
              "      <td>0</td>\n",
              "      <td>0</td>\n",
              "      <td>0</td>\n",
              "      <td>0</td>\n",
              "      <td>0</td>\n",
              "    </tr>\n",
              "    <tr>\n",
              "      <th>4</th>\n",
              "      <td>0</td>\n",
              "      <td>0</td>\n",
              "      <td>0</td>\n",
              "      <td>0</td>\n",
              "      <td>0</td>\n",
              "      <td>0</td>\n",
              "      <td>0</td>\n",
              "      <td>0</td>\n",
              "      <td>0</td>\n",
              "      <td>0</td>\n",
              "      <td>0</td>\n",
              "      <td>0</td>\n",
              "      <td>0</td>\n",
              "    </tr>\n",
              "    <tr>\n",
              "      <th>...</th>\n",
              "      <td>...</td>\n",
              "      <td>...</td>\n",
              "      <td>...</td>\n",
              "      <td>...</td>\n",
              "      <td>...</td>\n",
              "      <td>...</td>\n",
              "      <td>...</td>\n",
              "      <td>...</td>\n",
              "      <td>...</td>\n",
              "      <td>...</td>\n",
              "      <td>...</td>\n",
              "      <td>...</td>\n",
              "      <td>...</td>\n",
              "    </tr>\n",
              "    <tr>\n",
              "      <th>4406</th>\n",
              "      <td>0</td>\n",
              "      <td>0</td>\n",
              "      <td>0</td>\n",
              "      <td>0</td>\n",
              "      <td>0</td>\n",
              "      <td>0</td>\n",
              "      <td>0</td>\n",
              "      <td>0</td>\n",
              "      <td>0</td>\n",
              "      <td>0</td>\n",
              "      <td>0</td>\n",
              "      <td>0</td>\n",
              "      <td>0</td>\n",
              "    </tr>\n",
              "    <tr>\n",
              "      <th>4407</th>\n",
              "      <td>0</td>\n",
              "      <td>0</td>\n",
              "      <td>0</td>\n",
              "      <td>0</td>\n",
              "      <td>0</td>\n",
              "      <td>0</td>\n",
              "      <td>0</td>\n",
              "      <td>0</td>\n",
              "      <td>0</td>\n",
              "      <td>0</td>\n",
              "      <td>0</td>\n",
              "      <td>0</td>\n",
              "      <td>0</td>\n",
              "    </tr>\n",
              "    <tr>\n",
              "      <th>4408</th>\n",
              "      <td>0</td>\n",
              "      <td>0</td>\n",
              "      <td>0</td>\n",
              "      <td>0</td>\n",
              "      <td>0</td>\n",
              "      <td>0</td>\n",
              "      <td>0</td>\n",
              "      <td>0</td>\n",
              "      <td>0</td>\n",
              "      <td>0</td>\n",
              "      <td>0</td>\n",
              "      <td>0</td>\n",
              "      <td>0</td>\n",
              "    </tr>\n",
              "    <tr>\n",
              "      <th>4409</th>\n",
              "      <td>0</td>\n",
              "      <td>0</td>\n",
              "      <td>0</td>\n",
              "      <td>0</td>\n",
              "      <td>0</td>\n",
              "      <td>0</td>\n",
              "      <td>0</td>\n",
              "      <td>0</td>\n",
              "      <td>0</td>\n",
              "      <td>0</td>\n",
              "      <td>0</td>\n",
              "      <td>0</td>\n",
              "      <td>0</td>\n",
              "    </tr>\n",
              "    <tr>\n",
              "      <th>4410</th>\n",
              "      <td>0</td>\n",
              "      <td>1</td>\n",
              "      <td>0</td>\n",
              "      <td>0</td>\n",
              "      <td>0</td>\n",
              "      <td>0</td>\n",
              "      <td>0</td>\n",
              "      <td>0</td>\n",
              "      <td>0</td>\n",
              "      <td>0</td>\n",
              "      <td>1</td>\n",
              "      <td>0</td>\n",
              "      <td>0</td>\n",
              "    </tr>\n",
              "  </tbody>\n",
              "</table>\n",
              "<p>4411 rows × 13 columns</p>\n",
              "</div>\n",
              "      <button class=\"colab-df-convert\" onclick=\"convertToInteractive('df-45dcede6-8b7b-41ff-a716-222c55cbfda2')\"\n",
              "              title=\"Convert this dataframe to an interactive table.\"\n",
              "              style=\"display:none;\">\n",
              "        \n",
              "  <svg xmlns=\"http://www.w3.org/2000/svg\" height=\"24px\"viewBox=\"0 0 24 24\"\n",
              "       width=\"24px\">\n",
              "    <path d=\"M0 0h24v24H0V0z\" fill=\"none\"/>\n",
              "    <path d=\"M18.56 5.44l.94 2.06.94-2.06 2.06-.94-2.06-.94-.94-2.06-.94 2.06-2.06.94zm-11 1L8.5 8.5l.94-2.06 2.06-.94-2.06-.94L8.5 2.5l-.94 2.06-2.06.94zm10 10l.94 2.06.94-2.06 2.06-.94-2.06-.94-.94-2.06-.94 2.06-2.06.94z\"/><path d=\"M17.41 7.96l-1.37-1.37c-.4-.4-.92-.59-1.43-.59-.52 0-1.04.2-1.43.59L10.3 9.45l-7.72 7.72c-.78.78-.78 2.05 0 2.83L4 21.41c.39.39.9.59 1.41.59.51 0 1.02-.2 1.41-.59l7.78-7.78 2.81-2.81c.8-.78.8-2.07 0-2.86zM5.41 20L4 18.59l7.72-7.72 1.47 1.35L5.41 20z\"/>\n",
              "  </svg>\n",
              "      </button>\n",
              "      \n",
              "  <style>\n",
              "    .colab-df-container {\n",
              "      display:flex;\n",
              "      flex-wrap:wrap;\n",
              "      gap: 12px;\n",
              "    }\n",
              "\n",
              "    .colab-df-convert {\n",
              "      background-color: #E8F0FE;\n",
              "      border: none;\n",
              "      border-radius: 50%;\n",
              "      cursor: pointer;\n",
              "      display: none;\n",
              "      fill: #1967D2;\n",
              "      height: 32px;\n",
              "      padding: 0 0 0 0;\n",
              "      width: 32px;\n",
              "    }\n",
              "\n",
              "    .colab-df-convert:hover {\n",
              "      background-color: #E2EBFA;\n",
              "      box-shadow: 0px 1px 2px rgba(60, 64, 67, 0.3), 0px 1px 3px 1px rgba(60, 64, 67, 0.15);\n",
              "      fill: #174EA6;\n",
              "    }\n",
              "\n",
              "    [theme=dark] .colab-df-convert {\n",
              "      background-color: #3B4455;\n",
              "      fill: #D2E3FC;\n",
              "    }\n",
              "\n",
              "    [theme=dark] .colab-df-convert:hover {\n",
              "      background-color: #434B5C;\n",
              "      box-shadow: 0px 1px 3px 1px rgba(0, 0, 0, 0.15);\n",
              "      filter: drop-shadow(0px 1px 2px rgba(0, 0, 0, 0.3));\n",
              "      fill: #FFFFFF;\n",
              "    }\n",
              "  </style>\n",
              "\n",
              "      <script>\n",
              "        const buttonEl =\n",
              "          document.querySelector('#df-45dcede6-8b7b-41ff-a716-222c55cbfda2 button.colab-df-convert');\n",
              "        buttonEl.style.display =\n",
              "          google.colab.kernel.accessAllowed ? 'block' : 'none';\n",
              "\n",
              "        async function convertToInteractive(key) {\n",
              "          const element = document.querySelector('#df-45dcede6-8b7b-41ff-a716-222c55cbfda2');\n",
              "          const dataTable =\n",
              "            await google.colab.kernel.invokeFunction('convertToInteractive',\n",
              "                                                     [key], {});\n",
              "          if (!dataTable) return;\n",
              "\n",
              "          const docLinkHtml = 'Like what you see? Visit the ' +\n",
              "            '<a target=\"_blank\" href=https://colab.research.google.com/notebooks/data_table.ipynb>data table notebook</a>'\n",
              "            + ' to learn more about interactive tables.';\n",
              "          element.innerHTML = '';\n",
              "          dataTable['output_type'] = 'display_data';\n",
              "          await google.colab.output.renderOutput(dataTable, element);\n",
              "          const docLink = document.createElement('div');\n",
              "          docLink.innerHTML = docLinkHtml;\n",
              "          element.appendChild(docLink);\n",
              "        }\n",
              "      </script>\n",
              "    </div>\n",
              "  </div>\n",
              "  "
            ]
          },
          "metadata": {},
          "execution_count": 82
        }
      ],
      "source": [
        "hold.iloc[:,13:26]"
      ]
    },
    {
      "cell_type": "code",
      "execution_count": 83,
      "metadata": {
        "id": "qaRObgnac1k3"
      },
      "outputs": [],
      "source": [
        "#Convert columns to their desired data types\n",
        "hold.iloc[:,13:26] = hold.iloc[:,13:26].astype(\"bool\")"
      ]
    },
    {
      "cell_type": "code",
      "execution_count": 84,
      "metadata": {
        "id": "M-DDBd27c8Si"
      },
      "outputs": [],
      "source": [
        "# perform one-hot encoding for PlazaType\n",
        "one_hot = pd.get_dummies(hold['PlazaType'])\n",
        "\n",
        "# add the one-hot encoded columns to the original dataframe\n",
        "hold = pd.concat([hold, one_hot],axis=1)\n",
        "\n",
        "# drop the original categorical column\n",
        "hold = hold.drop('PlazaType', axis=1)"
      ]
    },
    {
      "cell_type": "code",
      "execution_count": 85,
      "metadata": {
        "id": "QH5QFpHoc_CM"
      },
      "outputs": [],
      "source": [
        "# perform one-hot encoding for PlazaLevel2\n",
        "one_hot = pd.get_dummies(hold['PlazaLevel2'])\n",
        "\n",
        "# add the one-hot encoded columns to the original dataframe\n",
        "hold = pd.concat([hold, one_hot],axis=1)\n",
        "\n",
        "# drop the original categorical column\n",
        "hold = hold.drop('PlazaLevel2', axis=1)"
      ]
    },
    {
      "cell_type": "code",
      "execution_count": 86,
      "metadata": {
        "id": "fqk5LNUYdBmP"
      },
      "outputs": [],
      "source": [
        "# perform one-hot encoding for day_weather\n",
        "one_hot = pd.get_dummies(hold['day_weather'])\n",
        "\n",
        "# add the one-hot encoded columns to the original dataframe\n",
        "hold = pd.concat([hold, one_hot],axis=1)\n",
        "\n",
        "# drop the original categorical column\n",
        "hold = hold.drop('day_weather', axis=1)"
      ]
    },
    {
      "cell_type": "code",
      "execution_count": 87,
      "metadata": {
        "id": "YsUVMX04dD3k"
      },
      "outputs": [],
      "source": [
        "# perform one-hot encoding for day_weather2\n",
        "one_hot = pd.get_dummies(hold['day_weather2'])\n",
        "\n",
        "# add the one-hot encoded columns to the original dataframe\n",
        "hold = pd.concat([hold, one_hot],axis=1)\n",
        "\n",
        "# drop the original categorical column\n",
        "hold = hold.drop('day_weather2', axis=1)"
      ]
    },
    {
      "cell_type": "code",
      "execution_count": 88,
      "metadata": {
        "id": "l2g6U_pHdF4p"
      },
      "outputs": [],
      "source": [
        "# Convert date strings to datetime objects\n",
        "hold['BusinessStartDate'] = pd.to_datetime(hold['BusinessStartDate'], format='%d%b%y:%H:%M:%S')\n",
        "\n",
        "# Extract year, month, day, hour, minute, second, and microsecond components\n",
        "hold['businessyear'] = hold['BusinessStartDate'].dt.year\n",
        "hold['businessmonth'] = hold['BusinessStartDate'].dt.month\n",
        "hold['businessday'] = hold['BusinessStartDate'].dt.day\n",
        "hold['businesshour'] = hold['BusinessStartDate'].dt.hour\n",
        "hold['businessminute'] = hold['BusinessStartDate'].dt.minute\n",
        "hold['businesssecond'] = hold['BusinessStartDate'].dt.second\n",
        "hold['businessmicrosecond'] = hold['BusinessStartDate'].dt.microsecond"
      ]
    },
    {
      "cell_type": "code",
      "execution_count": 89,
      "metadata": {
        "id": "SPZC4IZNdLuJ"
      },
      "outputs": [],
      "source": [
        "hold = hold.drop(['BusinessStartDate','businesshour','businessminute','businesssecond','businessmicrosecond'], axis=1)"
      ]
    },
    {
      "cell_type": "code",
      "execution_count": 90,
      "metadata": {
        "id": "FvBnfOuAp7X6"
      },
      "outputs": [],
      "source": [
        "# Convert year, month, day and weekday to factor type\n",
        "hold['year'] = hold['year'].astype(object)\n",
        "hold['month'] = hold['month'].astype(object)\n",
        "hold['day'] = hold['day'].astype(object)\n",
        "hold['weekday'] = hold['weekday'].astype(object)\n",
        "hold['businessyear'] = hold['businessyear'].astype(object)\n",
        "hold['businessmonth'] = hold['businessmonth'].astype(object)\n",
        "hold['businessday'] = hold['businessday'].astype(object)"
      ]
    },
    {
      "cell_type": "code",
      "execution_count": 91,
      "metadata": {
        "id": "uczcZPG1pZ1z"
      },
      "outputs": [],
      "source": [
        "hold.columns = hold.columns.astype(str)"
      ]
    },
    {
      "cell_type": "markdown",
      "metadata": {
        "id": "ZnCiUVqeqyxL"
      },
      "source": [
        "### Check to see that after transformation, train and test datasets have same column indices other than the 7 response variables"
      ]
    },
    {
      "cell_type": "code",
      "execution_count": 92,
      "metadata": {
        "colab": {
          "base_uri": "https://localhost:8080/"
        },
        "id": "tBWY296iBkKW",
        "outputId": "5ab9f06e-b540-4c52-e39b-a1fc1f3d4bc9"
      },
      "outputs": [
        {
          "output_type": "stream",
          "name": "stdout",
          "text": [
            "Index(['ZoneID', 'CityID', 'CityLevel', 'BusiArea', 'TotalBuildingArea',\n",
            "       'BusinessBuildingArea', 'year', 'month', 'day', 'weekday', 'holiday1',\n",
            "       'holiday9', 'holiday5', 'holiday4', 'holiday2', 'holiday10', 'holiday3',\n",
            "       'holiday11', 'holiday6', 'holiday7', 'new_year_eve', 'holiday8',\n",
            "       'workingday_makeup', 'day_temp', 'night_temp', 'day_wind', 'night_wind',\n",
            "       'total_visit', 'innum_1', 'innum_102', 'innum_103', 'innum_104',\n",
            "       'innum_1000290', 'innum', '1', '2', '3', '4', 'A?', 'B?', 'C?',\n",
            "       'Overcast', 'Thunder', 'cloudy', 'dust', 'foggy', 'haze', 'heavy_rain',\n",
            "       'heavy_snow', 'med_rain', 'med_snow', 'rain_storm', 'small_rain',\n",
            "       'small_snow', 'snow_rain', 'snow_storm', 'sunny', 'big_trouble', 'fair',\n",
            "       'good', 'huge_trouble', 'little_trouble', 'med_trouble',\n",
            "       'small_trouble', 'special', 'businessyear', 'businessmonth',\n",
            "       'businessday'],\n",
            "      dtype='object')\n",
            "Index(['ZoneID', 'CityID', 'CityLevel', 'BusiArea', 'TotalBuildingArea',\n",
            "       'BusinessBuildingArea', 'year', 'month', 'day', 'weekday', 'holiday1',\n",
            "       'holiday9', 'holiday5', 'holiday4', 'holiday2', 'holiday10', 'holiday3',\n",
            "       'holiday11', 'holiday6', 'holiday7', 'new_year_eve', 'holiday8',\n",
            "       'workingday_makeup', 'day_temp', 'night_temp', 'day_wind', 'night_wind',\n",
            "       '1', '2', '3', '4', 'A?', 'B?', 'C?', 'Overcast', 'Thunder', 'cloudy',\n",
            "       'foggy', 'haze', 'heavy_rain', 'heavy_snow', 'med_rain', 'med_snow',\n",
            "       'rain_storm', 'small_rain', 'small_snow', 'snow_rain', 'sunny',\n",
            "       'big_trouble', 'fair', 'good', 'little_trouble', 'med_trouble',\n",
            "       'small_trouble', 'special', 'businessyear', 'businessmonth',\n",
            "       'businessday'],\n",
            "      dtype='object')\n"
          ]
        }
      ],
      "source": [
        "print(trn.columns)\n",
        "print(hold.columns)"
      ]
    },
    {
      "cell_type": "code",
      "execution_count": 93,
      "metadata": {
        "id": "cC_I5clPp83X",
        "colab": {
          "base_uri": "https://localhost:8080/"
        },
        "outputId": "f35f7823-5ba9-454a-c7d6-b63aa90d49df"
      },
      "outputs": [
        {
          "output_type": "stream",
          "name": "stdout",
          "text": [
            "{'huge_trouble', 'innum_102', 'dust', 'snow_storm', 'total_visit', 'innum', 'innum_103', 'innum_1000290', 'innum_1', 'innum_104'}\n"
          ]
        }
      ],
      "source": [
        "# get column names as sets\n",
        "trn_colnames = set(trn.columns)\n",
        "hold_colnames = set(hold.columns)\n",
        "\n",
        "# find non-duplicate column names\n",
        "non_dup_cols = trn_colnames.symmetric_difference(hold_colnames)\n",
        "\n",
        "print(non_dup_cols)"
      ]
    },
    {
      "cell_type": "markdown",
      "metadata": {
        "id": "T_iwid7XrCN6"
      },
      "source": [
        "We see that there are 10 different columns between train and test dataset. 7 of those will be our response variable used to build our model. **\"dust\"**, **\"snow_storm\"**, **\"hug_trouble\"** are the 3 columns that are missing from test set after performing one-hot encoding. We will manually create 3 columns for each of these 3 variables with value of 0 since there are no records for them."
      ]
    },
    {
      "cell_type": "code",
      "execution_count": 94,
      "metadata": {
        "colab": {
          "base_uri": "https://localhost:8080/"
        },
        "id": "nYArRmcZr2lT",
        "outputId": "3f682ee2-99e2-4462-b961-ac4dc78b4dad"
      },
      "outputs": [
        {
          "output_type": "stream",
          "name": "stdout",
          "text": [
            "(37123, 68)\n",
            "(4411, 61)\n"
          ]
        }
      ],
      "source": [
        "#Column sequence needs to be the same for both training and testing set in order for our model to process\n",
        "hold.insert(loc=37, column='dust', value=0)\n",
        "hold.insert(loc=48, column='snow_storm', value=0)\n",
        "hold.insert(loc=53, column='huge_trouble', value=0)\n",
        "\n",
        "print(trn.shape)\n",
        "print(hold.shape)"
      ]
    },
    {
      "cell_type": "code",
      "execution_count": 98,
      "metadata": {
        "colab": {
          "base_uri": "https://localhost:8080/"
        },
        "id": "SfTJOTfO_MAT",
        "outputId": "c2bd22e6-39dd-49ac-8095-2c2d35db70c3"
      },
      "outputs": [
        {
          "output_type": "stream",
          "name": "stdout",
          "text": [
            "Index(['ZoneID', 'CityID', 'CityLevel', 'BusiArea', 'TotalBuildingArea',\n",
            "       'BusinessBuildingArea', 'year', 'month', 'day', 'weekday', 'holiday1',\n",
            "       'holiday9', 'holiday5', 'holiday4', 'holiday2', 'holiday10', 'holiday3',\n",
            "       'holiday11', 'holiday6', 'holiday7', 'new_year_eve', 'holiday8',\n",
            "       'workingday_makeup', 'day_temp', 'night_temp', 'day_wind', 'night_wind',\n",
            "       'total_visit', 'innum_1', 'innum_102', 'innum_103', 'innum_104',\n",
            "       'innum_1000290', 'innum', '1', '2', '3', '4', 'A?', 'B?', 'C?',\n",
            "       'Overcast', 'Thunder', 'cloudy', 'dust', 'foggy', 'haze', 'heavy_rain',\n",
            "       'heavy_snow', 'med_rain', 'med_snow', 'rain_storm', 'small_rain',\n",
            "       'small_snow', 'snow_rain', 'snow_storm', 'sunny', 'big_trouble', 'fair',\n",
            "       'good', 'huge_trouble', 'little_trouble', 'med_trouble',\n",
            "       'small_trouble', 'special', 'businessyear', 'businessmonth',\n",
            "       'businessday'],\n",
            "      dtype='object')\n",
            "Index(['ZoneID', 'CityID', 'CityLevel', 'BusiArea', 'TotalBuildingArea',\n",
            "       'BusinessBuildingArea', 'year', 'month', 'day', 'weekday', 'holiday1',\n",
            "       'holiday9', 'holiday5', 'holiday4', 'holiday2', 'holiday10', 'holiday3',\n",
            "       'holiday11', 'holiday6', 'holiday7', 'new_year_eve', 'holiday8',\n",
            "       'workingday_makeup', 'day_temp', 'night_temp', 'day_wind', 'night_wind',\n",
            "       '1', '2', '3', '4', 'A?', 'B?', 'C?', 'Overcast', 'Thunder', 'cloudy',\n",
            "       'dust', 'foggy', 'haze', 'heavy_rain', 'heavy_snow', 'med_rain',\n",
            "       'med_snow', 'rain_storm', 'small_rain', 'small_snow', 'snow_rain',\n",
            "       'snow_storm', 'sunny', 'big_trouble', 'fair', 'good', 'huge_trouble',\n",
            "       'little_trouble', 'med_trouble', 'small_trouble', 'special',\n",
            "       'businessyear', 'businessmonth', 'businessday'],\n",
            "      dtype='object')\n"
          ]
        }
      ],
      "source": [
        "#Check column sequence\n",
        "print(trn.columns)\n",
        "print(hold.columns)"
      ]
    },
    {
      "cell_type": "markdown",
      "metadata": {
        "id": "OfBMXQuagELE"
      },
      "source": [
        "# Building random forest regression models (Part 1)"
      ]
    },
    {
      "cell_type": "markdown",
      "metadata": {
        "id": "uxBYyHsjbpQ1"
      },
      "source": [
        "### Create training and testing set for response variable **innum**. Build a random forest model to predict **innum** for our test dataset \"CASE_GROUP_PREDICT_HOLD_DATA.csv\""
      ]
    },
    {
      "cell_type": "code",
      "execution_count": 148,
      "metadata": {
        "colab": {
          "base_uri": "https://localhost:8080/"
        },
        "id": "hCB19ESesvzE",
        "outputId": "0aafb3cf-97c5-4436-879e-0b8c9a35fa8b"
      },
      "outputs": [
        {
          "output_type": "stream",
          "name": "stdout",
          "text": [
            "Shape of X_train: (29698, 61)\n",
            "Shape of X_test: (7425, 61)\n",
            "Shape of y_train: (29698,)\n",
            "Shape of y_test: (7425,)\n"
          ]
        }
      ],
      "source": [
        "# Prepare data for training and testing model\n",
        "X = trn.drop(['total_visit','innum_1','innum_102','innum_103','innum_104','innum_1000290','innum'], axis=1)  # Independent variables\n",
        "y = trn['innum']  # Response variable\n",
        "\n",
        "# Splitting the dataset into 80% train and 20% test\n",
        "X_train, X_test, y_train, y_test = train_test_split(X, y, test_size=0.2, random_state=42)\n",
        "\n",
        "# Verify the shapes of the training and testing sets\n",
        "print('Shape of X_train:', X_train.shape)\n",
        "print('Shape of X_test:', X_test.shape)\n",
        "print('Shape of y_train:', y_train.shape)\n",
        "print('Shape of y_test:', y_test.shape)"
      ]
    },
    {
      "cell_type": "code",
      "execution_count": null,
      "metadata": {
        "id": "-y0mCDIlMY15"
      },
      "outputs": [],
      "source": [
        "\"\"\"\n",
        "# Use rolling window method to split train and test time series data. This could potential capture seasonality and accounts for pattern and trends based on the window size specified.\n",
        "# We have daily data in each row that spans across 5 years. Here we set window size to 60 meaning the prediction is based on patterns and trends over the past 2 months.\n",
        "\n",
        "# Set the window size\n",
        "window_size = 60\n",
        "\n",
        "# Initialize lists to store the training and testing sets\n",
        "X_train, X_test, y_train, y_test = [], [], [], []\n",
        "\n",
        "# Loop through the data to create the training and testing sets\n",
        "for i in range(window_size, len(trn)):\n",
        "    # Split the data into the current training and testing sets\n",
        "    X_train_curr = trn.iloc[i-window_size:i, :]\n",
        "    X_test_curr = trn.iloc[i:i+1, :]\n",
        "    y_train_curr = trn.iloc[i-window_size:i, :]['innum']\n",
        "    y_test_curr = trn.iloc[i:i+1, :]['innum']\n",
        "    \n",
        "    # Append the current sets to the overall sets\n",
        "    X_train.append(X_train_curr)\n",
        "    X_test.append(X_test_curr)\n",
        "    y_train.append(y_train_curr)\n",
        "    y_test.append(y_test_curr)\n",
        "\n",
        "# Concatenate the training and testing sets\n",
        "X_train = pd.concat(X_train)\n",
        "X_test = pd.concat(X_test)\n",
        "y_train = pd.concat(y_train)\n",
        "y_test = pd.concat(y_test)\n",
        "\"\"\""
      ]
    },
    {
      "cell_type": "markdown",
      "source": [
        "Before we building our random forest model, we will first identify the optimal number of trees using cross-validation scores"
      ],
      "metadata": {
        "id": "-w0L2CG19zw8"
      }
    },
    {
      "cell_type": "code",
      "source": [
        "# Define a range of values for the number of trees to explore\n",
        "n_trees_range = np.arange(1, 251, 10)\n",
        "\n",
        "# Calculate the cross-validation scores for each value of n_trees using a random forest regressor\n",
        "cv_scores = []\n",
        "for n_trees in n_trees_range:\n",
        "    rf_model = RandomForestRegressor(n_estimators=n_trees)\n",
        "    scores = cross_val_score(rf_model, X_train, y_train, cv=5)\n",
        "    cv_scores.append(np.mean(scores))\n",
        "\n",
        "# Find the index of the highest score\n",
        "best_idx = np.argmax(cv_scores)\n",
        "\n",
        "# Plot the mean cross-validation score as a function of the number of trees\n",
        "plt.plot(n_trees_range, cv_scores)\n",
        "plt.xlabel('Number of trees')\n",
        "plt.ylabel('Mean cross-validation score')\n",
        "\n",
        "# Add an annotation for the highest point\n",
        "best_n_trees = n_trees_range[best_idx]\n",
        "best_score = cv_scores[best_idx]\n",
        "plt.annotate(f'Best score\\n({best_n_trees}, {best_score:.3f})',\n",
        "             xy=(best_n_trees, best_score), xycoords='data',\n",
        "             xytext=(-50, 20), textcoords='offset points',\n",
        "             arrowprops=dict(arrowstyle=\"->\", connectionstyle=\"arc3\"))\n",
        "\n",
        "plt.show()"
      ],
      "metadata": {
        "colab": {
          "base_uri": "https://localhost:8080/",
          "height": 488
        },
        "id": "ihXQmnb8uNTi",
        "outputId": "df7ed5fa-9f03-4112-be20-3b5736e4d51e"
      },
      "execution_count": 97,
      "outputs": [
        {
          "output_type": "display_data",
          "data": {
            "text/plain": [
              "<Figure size 640x480 with 1 Axes>"
            ],
            "image/png": "[encoded data removed]"
          },
          "metadata": {}
        }
      ]
    },
    {
      "cell_type": "markdown",
      "source": [
        "The optimal number of estimators (trees) for our train data is **191**."
      ],
      "metadata": {
        "id": "N5lQps7ts7x1"
      }
    },
    {
      "cell_type": "code",
      "execution_count": 149,
      "metadata": {
        "id": "YzbJnI1DYfu8"
      },
      "outputs": [],
      "source": [
        "# Create a random forest model with 191 trees, the optimal number of trees based on mean cross validation score\n",
        "rf_model = RandomForestRegressor(n_estimators=191, random_state=42)\n",
        "\n",
        "# Fit the model on the training data\n",
        "rf_model.fit(X_train, y_train)\n",
        "\n",
        "# Make predictions on the test data\n",
        "y_pred = rf_model.predict(X_test)"
      ]
    },
    {
      "cell_type": "code",
      "execution_count": 150,
      "metadata": {
        "colab": {
          "base_uri": "https://localhost:8080/"
        },
        "id": "1Xhqw1JiVRFj",
        "outputId": "057c344c-d65d-4876-d6fe-7202caf74ec3"
      },
      "outputs": [
        {
          "output_type": "stream",
          "name": "stdout",
          "text": [
            "R-squared: 0.8434428388369322\n",
            "Root mean squared error 6285.4069221398795\n",
            "Mean Absolute Error: 3766.6881858726883\n"
          ]
        }
      ],
      "source": [
        "# Calculate the R-squared value of the predictions\n",
        "r_squared = r2_score(y_test, y_pred)\n",
        "\n",
        "# Calculate the mean squared error of the predictions\n",
        "mse = mean_squared_error(y_test, y_pred)\n",
        "\n",
        "# Calculate the root mean squared error of the predictions\n",
        "rmse = np.sqrt(mse)\n",
        "\n",
        "# Calculate the MAE on the test data\n",
        "mae = mean_absolute_error(y_test, y_pred)\n",
        "\n",
        "print('R-squared:', r_squared)\n",
        "print('Root mean squared error', rmse)\n",
        "print('Mean Absolute Error:', mae)"
      ]
    },
    {
      "cell_type": "code",
      "execution_count": 151,
      "metadata": {
        "colab": {
          "base_uri": "https://localhost:8080/"
        },
        "id": "5a7UGMY2agPH",
        "outputId": "ddb42412-4e17-4d98-84ce-8e562733d71d"
      },
      "outputs": [
        {
          "output_type": "execute_result",
          "data": {
            "text/plain": [
              "9.545255395447088"
            ]
          },
          "metadata": {},
          "execution_count": 151
        }
      ],
      "source": [
        "# We can validate the performance of our RF model by calculating MAE%. By standard, a MAE% of <20% is a indicator of a good model.\n",
        "# Calculate MAE%\n",
        "mae_pct = (mae/np.mean(y_test))*100\n",
        "mae_pct"
      ]
    },
    {
      "cell_type": "code",
      "source": [
        "# Store performance metrics for model comparison later\n",
        "innum_r_squared_1 = r_squared\n",
        "innum_rmse_1 = rmse\n",
        "innum_mae_pct_1 = mae_pct"
      ],
      "metadata": {
        "id": "YL7n5HLUPojf"
      },
      "execution_count": 152,
      "outputs": []
    },
    {
      "cell_type": "code",
      "execution_count": 153,
      "metadata": {
        "colab": {
          "base_uri": "https://localhost:8080/"
        },
        "id": "IH0A2275Q4st",
        "outputId": "9d9e36fb-9a02-4c0d-a4ef-793d6729080b"
      },
      "outputs": [
        {
          "output_type": "stream",
          "name": "stdout",
          "text": [
            "Index(['ZoneID', 'CityID', 'CityLevel', 'BusiArea', 'TotalBuildingArea',\n",
            "       'BusinessBuildingArea', 'year', 'month', 'day', 'weekday', 'holiday1',\n",
            "       'holiday9', 'holiday5', 'holiday4', 'holiday2', 'holiday10', 'holiday3',\n",
            "       'holiday11', 'holiday6', 'holiday7', 'new_year_eve', 'holiday8',\n",
            "       'workingday_makeup', 'day_temp', 'night_temp', 'day_wind', 'night_wind',\n",
            "       '1', '2', '3', '4', 'A?', 'B?', 'C?', 'Overcast', 'Thunder', 'cloudy',\n",
            "       'dust', 'foggy', 'haze', 'heavy_rain', 'heavy_snow', 'med_rain',\n",
            "       'med_snow', 'rain_storm', 'small_rain', 'small_snow', 'snow_rain',\n",
            "       'snow_storm', 'sunny', 'big_trouble', 'fair', 'good', 'huge_trouble',\n",
            "       'little_trouble', 'med_trouble', 'small_trouble', 'special',\n",
            "       'businessyear', 'businessmonth', 'businessday'],\n",
            "      dtype='object')\n",
            "Index(['ZoneID', 'CityID', 'CityLevel', 'BusiArea', 'TotalBuildingArea',\n",
            "       'BusinessBuildingArea', 'year', 'month', 'day', 'weekday', 'holiday1',\n",
            "       'holiday9', 'holiday5', 'holiday4', 'holiday2', 'holiday10', 'holiday3',\n",
            "       'holiday11', 'holiday6', 'holiday7', 'new_year_eve', 'holiday8',\n",
            "       'workingday_makeup', 'day_temp', 'night_temp', 'day_wind', 'night_wind',\n",
            "       '1', '2', '3', '4', 'A?', 'B?', 'C?', 'Overcast', 'Thunder', 'cloudy',\n",
            "       'dust', 'foggy', 'haze', 'heavy_rain', 'heavy_snow', 'med_rain',\n",
            "       'med_snow', 'rain_storm', 'small_rain', 'small_snow', 'snow_rain',\n",
            "       'snow_storm', 'sunny', 'big_trouble', 'fair', 'good', 'huge_trouble',\n",
            "       'little_trouble', 'med_trouble', 'small_trouble', 'special',\n",
            "       'businessyear', 'businessmonth', 'businessday'],\n",
            "      dtype='object')\n"
          ]
        }
      ],
      "source": [
        "#Check to see column index in both train and test data are in the same order\n",
        "print(X_train.columns)\n",
        "print(hold.columns)"
      ]
    },
    {
      "cell_type": "code",
      "execution_count": null,
      "metadata": {
        "id": "PuJPpyVL6JFY"
      },
      "outputs": [],
      "source": [
        "'''\n",
        "#If column index order are dissimilar, we can rearrange column index in our test dataset to match what we passed in the model\n",
        "print(X_train.columns)\n",
        "print(hold.columns)\n",
        "\n",
        "new_order = ['ZoneID', 'CityID', 'CityLevel', 'BusiArea', 'TotalBuildingArea',\n",
        "       'BusinessBuildingArea', 'year', 'month', 'day', 'weekday', 'holiday1',\n",
        "       'holiday9', 'holiday5', 'holiday4', 'holiday2', 'holiday10', 'holiday3',\n",
        "       'holiday11', 'holiday6', 'holiday7', 'new_year_eve', 'holiday8',\n",
        "       'workingday_makeup', 'day_temp', 'night_temp', 'day_wind', 'night_wind',\n",
        "       '1', '2', '3', '4', 'A?', 'B?', 'C?', 'Overcast', 'Thunder', 'cloudy',\n",
        "       'dust', 'foggy', 'haze', 'heavy_rain', 'heavy_snow', 'med_rain',\n",
        "       'med_snow', 'rain_storm', 'small_rain', 'small_snow', 'snow_rain',\n",
        "       'snow_storm', 'sunny', 'big_trouble', 'fair', 'good', 'huge_trouble',\n",
        "       'little_trouble', 'med_trouble', 'small_trouble', 'special',\n",
        "       'businessyear', 'businessmonth', 'businessday']\n",
        "\n",
        "hold = hold.reindex(columns=new_order)\n",
        "'''"
      ]
    },
    {
      "cell_type": "code",
      "execution_count": 155,
      "metadata": {
        "colab": {
          "base_uri": "https://localhost:8080/"
        },
        "id": "_4YsxoufpGoR",
        "outputId": "2bf13405-1d31-4302-844d-d3688fe24a30"
      },
      "outputs": [
        {
          "output_type": "stream",
          "name": "stdout",
          "text": [
            "[40519.11518325 53809.4921466  55351.61780105 ... 23669.48691099\n",
            " 30980.18324607 43892.45026178]\n",
            "4411\n"
          ]
        }
      ],
      "source": [
        "#store prediction for innum\n",
        "innumpred = rf_model.predict(hold)\n",
        "print(innumpred)\n",
        "print(len(innumpred))"
      ]
    },
    {
      "cell_type": "markdown",
      "metadata": {
        "id": "OfWoo_XFfyJd"
      },
      "source": [
        "### Create training and testing set for response variable **total_visit**. Build a random forest model to predict **total_visit** for our test dataset \"CASE_GROUP_PREDICT_HOLD_DATA.csv\""
      ]
    },
    {
      "cell_type": "code",
      "source": [
        "# Prepare data for training and testing model\n",
        "X = trn.drop(['total_visit','innum_1','innum_102','innum_103','innum_104','innum_1000290','innum'], axis=1)  # Independent variables\n",
        "y = trn['total_visit']  # Response variable\n",
        "\n",
        "# Splitting the dataset into 80% train and 20% test\n",
        "X_train, X_test, y_train, y_test = train_test_split(X, y, test_size=0.2, random_state=42)\n",
        "\n",
        "# Verify the shapes of the training and testing sets\n",
        "print('Shape of X_train:', X_train.shape)\n",
        "print('Shape of X_test:', X_test.shape)\n",
        "print('Shape of y_train:', y_train.shape)\n",
        "print('Shape of y_test:', y_test.shape)"
      ],
      "metadata": {
        "colab": {
          "base_uri": "https://localhost:8080/"
        },
        "id": "o6AgR4S7_D3S",
        "outputId": "15cc3c50-a87d-4430-9706-eed55211d11e"
      },
      "execution_count": 156,
      "outputs": [
        {
          "output_type": "stream",
          "name": "stdout",
          "text": [
            "Shape of X_train: (29698, 61)\n",
            "Shape of X_test: (7425, 61)\n",
            "Shape of y_train: (29698,)\n",
            "Shape of y_test: (7425,)\n"
          ]
        }
      ]
    },
    {
      "cell_type": "code",
      "execution_count": 157,
      "metadata": {
        "id": "dcLgMhrJRhWL"
      },
      "outputs": [],
      "source": [
        "# Create a random forest model with 191 trees\n",
        "rf_model = RandomForestRegressor(n_estimators=191, random_state=42)\n",
        "\n",
        "# Fit the model on the training data\n",
        "rf_model.fit(X_train, y_train)\n",
        "\n",
        "# Make predictions on the test data\n",
        "y_pred = rf_model.predict(X_test)"
      ]
    },
    {
      "cell_type": "code",
      "execution_count": 158,
      "metadata": {
        "colab": {
          "base_uri": "https://localhost:8080/"
        },
        "id": "WIhPpNdqRjms",
        "outputId": "04995262-dc28-4b5c-cfd0-02ace1dc15ed"
      },
      "outputs": [
        {
          "output_type": "stream",
          "name": "stdout",
          "text": [
            "R-squared: 0.8635982671098092\n",
            "Root mean squared error 15726.973401090445\n",
            "Mean Absolute Error: 8874.75511555344\n"
          ]
        }
      ],
      "source": [
        "# Calculate the R-squared value of the predictions\n",
        "r_squared = r2_score(y_test, y_pred)\n",
        "\n",
        "# Calculate the mean squared error of the predictions\n",
        "mse = mean_squared_error(y_test, y_pred)\n",
        "\n",
        "# Calculate the root mean squared error of the predictions\n",
        "rmse = np.sqrt(mse)\n",
        "\n",
        "# Calculate the MAE on the test data\n",
        "mae = mean_absolute_error(y_test, y_pred)\n",
        "\n",
        "print('R-squared:', r_squared)\n",
        "print('Root mean squared error', rmse)\n",
        "print('Mean Absolute Error:', mae)"
      ]
    },
    {
      "cell_type": "code",
      "execution_count": 159,
      "metadata": {
        "id": "cm9zBWLXJ0iD",
        "colab": {
          "base_uri": "https://localhost:8080/"
        },
        "outputId": "5249dd5b-5760-466b-f5c3-e1d068d1911f"
      },
      "outputs": [
        {
          "output_type": "execute_result",
          "data": {
            "text/plain": [
              "10.733756281623787"
            ]
          },
          "metadata": {},
          "execution_count": 159
        }
      ],
      "source": [
        "#Calculate MAE%\n",
        "mae_pct = (mae/np.mean(y_test))*100\n",
        "mae_pct"
      ]
    },
    {
      "cell_type": "code",
      "source": [
        "# Store performance metrics for model comparison later\n",
        "total_visit_r_squared_1 = r_squared\n",
        "total_visit_rmse_1 = rmse\n",
        "total_visit_mae_pct_1 = mae_pct"
      ],
      "metadata": {
        "id": "hOjBq6HEQH5I"
      },
      "execution_count": 160,
      "outputs": []
    },
    {
      "cell_type": "code",
      "source": [
        "#Check to see column index in both train and test data are in the same order\n",
        "print(X_train.columns)\n",
        "print(hold.columns)"
      ],
      "metadata": {
        "colab": {
          "base_uri": "https://localhost:8080/"
        },
        "id": "VFdhRKy5zwuC",
        "outputId": "1f1ffbf8-383a-47c6-bf57-2d9c2bccf564"
      },
      "execution_count": 161,
      "outputs": [
        {
          "output_type": "stream",
          "name": "stdout",
          "text": [
            "Index(['ZoneID', 'CityID', 'CityLevel', 'BusiArea', 'TotalBuildingArea',\n",
            "       'BusinessBuildingArea', 'year', 'month', 'day', 'weekday', 'holiday1',\n",
            "       'holiday9', 'holiday5', 'holiday4', 'holiday2', 'holiday10', 'holiday3',\n",
            "       'holiday11', 'holiday6', 'holiday7', 'new_year_eve', 'holiday8',\n",
            "       'workingday_makeup', 'day_temp', 'night_temp', 'day_wind', 'night_wind',\n",
            "       '1', '2', '3', '4', 'A?', 'B?', 'C?', 'Overcast', 'Thunder', 'cloudy',\n",
            "       'dust', 'foggy', 'haze', 'heavy_rain', 'heavy_snow', 'med_rain',\n",
            "       'med_snow', 'rain_storm', 'small_rain', 'small_snow', 'snow_rain',\n",
            "       'snow_storm', 'sunny', 'big_trouble', 'fair', 'good', 'huge_trouble',\n",
            "       'little_trouble', 'med_trouble', 'small_trouble', 'special',\n",
            "       'businessyear', 'businessmonth', 'businessday'],\n",
            "      dtype='object')\n",
            "Index(['ZoneID', 'CityID', 'CityLevel', 'BusiArea', 'TotalBuildingArea',\n",
            "       'BusinessBuildingArea', 'year', 'month', 'day', 'weekday', 'holiday1',\n",
            "       'holiday9', 'holiday5', 'holiday4', 'holiday2', 'holiday10', 'holiday3',\n",
            "       'holiday11', 'holiday6', 'holiday7', 'new_year_eve', 'holiday8',\n",
            "       'workingday_makeup', 'day_temp', 'night_temp', 'day_wind', 'night_wind',\n",
            "       '1', '2', '3', '4', 'A?', 'B?', 'C?', 'Overcast', 'Thunder', 'cloudy',\n",
            "       'dust', 'foggy', 'haze', 'heavy_rain', 'heavy_snow', 'med_rain',\n",
            "       'med_snow', 'rain_storm', 'small_rain', 'small_snow', 'snow_rain',\n",
            "       'snow_storm', 'sunny', 'big_trouble', 'fair', 'good', 'huge_trouble',\n",
            "       'little_trouble', 'med_trouble', 'small_trouble', 'special',\n",
            "       'businessyear', 'businessmonth', 'businessday'],\n",
            "      dtype='object')\n"
          ]
        }
      ]
    },
    {
      "cell_type": "code",
      "execution_count": 162,
      "metadata": {
        "colab": {
          "base_uri": "https://localhost:8080/"
        },
        "id": "kapSFopbRpcJ",
        "outputId": "aebb216c-fd0c-4188-c5a7-30309946f844"
      },
      "outputs": [
        {
          "output_type": "stream",
          "name": "stdout",
          "text": [
            "[ 84296.71727749 103599.53926702 109376.28272251 ...  40145.03664921\n",
            "  54013.45026178  86795.27748691]\n",
            "4411\n"
          ]
        }
      ],
      "source": [
        "#store prediction for total_visit\n",
        "total_visit_pred = rf_model.predict(hold)\n",
        "print(total_visit_pred)\n",
        "print(len(total_visit_pred))"
      ]
    },
    {
      "cell_type": "markdown",
      "metadata": {
        "id": "ZhdgmStuhfE7"
      },
      "source": [
        "### Create training and testing set for response variable **innum_1**. Build a random forest model to predict **innum_1** for our test dataset \"CASE_GROUP_PREDICT_HOLD_DATA.csv\""
      ]
    },
    {
      "cell_type": "code",
      "execution_count": 163,
      "metadata": {
        "id": "4BHB5JwEheFo",
        "colab": {
          "base_uri": "https://localhost:8080/"
        },
        "outputId": "1e6da8c7-25ab-4bb0-f862-9b9102029778"
      },
      "outputs": [
        {
          "output_type": "stream",
          "name": "stdout",
          "text": [
            "Shape of X_train: (29698, 61)\n",
            "Shape of X_test: (7425, 61)\n",
            "Shape of y_train: (29698,)\n",
            "Shape of y_test: (7425,)\n"
          ]
        }
      ],
      "source": [
        "# Prepare data for training and testing model\n",
        "X = trn.drop(['total_visit','innum_1','innum_102','innum_103','innum_104','innum_1000290','innum'], axis=1)  # Independent variables\n",
        "y = trn['innum_1']  # Response variable\n",
        "\n",
        "# Splitting the dataset into 80% train and 20% test\n",
        "X_train, X_test, y_train, y_test = train_test_split(X, y, test_size=0.2, random_state=42)\n",
        "\n",
        "# Verify the shapes of the training and testing sets\n",
        "print('Shape of X_train:', X_train.shape)\n",
        "print('Shape of X_test:', X_test.shape)\n",
        "print('Shape of y_train:', y_train.shape)\n",
        "print('Shape of y_test:', y_test.shape)\n"
      ]
    },
    {
      "cell_type": "code",
      "execution_count": 164,
      "metadata": {
        "id": "w8-08PXzhy8Q"
      },
      "outputs": [],
      "source": [
        "# Create a random forest model with 191 trees\n",
        "rf_model = RandomForestRegressor(n_estimators=191, random_state=42)\n",
        "\n",
        "# Fit the model on the training data\n",
        "rf_model.fit(X_train, y_train)\n",
        "\n",
        "# Make predictions on the test data\n",
        "y_pred = rf_model.predict(X_test)"
      ]
    },
    {
      "cell_type": "code",
      "execution_count": 165,
      "metadata": {
        "colab": {
          "base_uri": "https://localhost:8080/"
        },
        "id": "d0nmprCBh2p2",
        "outputId": "52951813-3a5e-41a8-f628-198bdf2502a1"
      },
      "outputs": [
        {
          "output_type": "stream",
          "name": "stdout",
          "text": [
            "R-squared: 0.8989542977010949\n",
            "Root mean squared error 4907.221851272183\n",
            "Mean Absolute Error: 2650.4706957886015\n"
          ]
        }
      ],
      "source": [
        "# Calculate the R-squared value of the predictions\n",
        "r_squared = r2_score(y_test, y_pred)\n",
        "\n",
        "# Calculate the mean squared error of the predictions\n",
        "mse = mean_squared_error(y_test, y_pred)\n",
        "\n",
        "# Calculate the root mean squared error of the predictions\n",
        "rmse = np.sqrt(mse)\n",
        "\n",
        "# Calculate the MAE on the test data\n",
        "mae = mean_absolute_error(y_test, y_pred)\n",
        "\n",
        "print('R-squared:', r_squared)\n",
        "print('Root mean squared error', rmse)\n",
        "print('Mean Absolute Error:', mae)"
      ]
    },
    {
      "cell_type": "code",
      "execution_count": 166,
      "metadata": {
        "id": "uHT1aClWaVCm",
        "colab": {
          "base_uri": "https://localhost:8080/"
        },
        "outputId": "9659df3f-9560-4797-cd12-817a00fd4750"
      },
      "outputs": [
        {
          "output_type": "execute_result",
          "data": {
            "text/plain": [
              "12.036520620166744"
            ]
          },
          "metadata": {},
          "execution_count": 166
        }
      ],
      "source": [
        "#Calculate MAE%\n",
        "mae_pct = (mae/np.mean(y_test))*100\n",
        "mae_pct"
      ]
    },
    {
      "cell_type": "code",
      "source": [
        "# Store performance metrics for model comparison later\n",
        "innum_1_r_squared_1 = r_squared\n",
        "innum_1_rmse_1 = rmse\n",
        "innum_1_mae_pct_1 = mae_pct"
      ],
      "metadata": {
        "id": "0DKebbwRQQe_"
      },
      "execution_count": 167,
      "outputs": []
    },
    {
      "cell_type": "code",
      "source": [
        "#Check to see column index in both train and test data are in the same order\n",
        "print(X_train.columns)\n",
        "print(hold.columns)"
      ],
      "metadata": {
        "colab": {
          "base_uri": "https://localhost:8080/"
        },
        "id": "67PaTQ2P0fNG",
        "outputId": "cdf180ec-e2e4-478f-abd5-8211327cf959"
      },
      "execution_count": 168,
      "outputs": [
        {
          "output_type": "stream",
          "name": "stdout",
          "text": [
            "Index(['ZoneID', 'CityID', 'CityLevel', 'BusiArea', 'TotalBuildingArea',\n",
            "       'BusinessBuildingArea', 'year', 'month', 'day', 'weekday', 'holiday1',\n",
            "       'holiday9', 'holiday5', 'holiday4', 'holiday2', 'holiday10', 'holiday3',\n",
            "       'holiday11', 'holiday6', 'holiday7', 'new_year_eve', 'holiday8',\n",
            "       'workingday_makeup', 'day_temp', 'night_temp', 'day_wind', 'night_wind',\n",
            "       '1', '2', '3', '4', 'A?', 'B?', 'C?', 'Overcast', 'Thunder', 'cloudy',\n",
            "       'dust', 'foggy', 'haze', 'heavy_rain', 'heavy_snow', 'med_rain',\n",
            "       'med_snow', 'rain_storm', 'small_rain', 'small_snow', 'snow_rain',\n",
            "       'snow_storm', 'sunny', 'big_trouble', 'fair', 'good', 'huge_trouble',\n",
            "       'little_trouble', 'med_trouble', 'small_trouble', 'special',\n",
            "       'businessyear', 'businessmonth', 'businessday'],\n",
            "      dtype='object')\n",
            "Index(['ZoneID', 'CityID', 'CityLevel', 'BusiArea', 'TotalBuildingArea',\n",
            "       'BusinessBuildingArea', 'year', 'month', 'day', 'weekday', 'holiday1',\n",
            "       'holiday9', 'holiday5', 'holiday4', 'holiday2', 'holiday10', 'holiday3',\n",
            "       'holiday11', 'holiday6', 'holiday7', 'new_year_eve', 'holiday8',\n",
            "       'workingday_makeup', 'day_temp', 'night_temp', 'day_wind', 'night_wind',\n",
            "       '1', '2', '3', '4', 'A?', 'B?', 'C?', 'Overcast', 'Thunder', 'cloudy',\n",
            "       'dust', 'foggy', 'haze', 'heavy_rain', 'heavy_snow', 'med_rain',\n",
            "       'med_snow', 'rain_storm', 'small_rain', 'small_snow', 'snow_rain',\n",
            "       'snow_storm', 'sunny', 'big_trouble', 'fair', 'good', 'huge_trouble',\n",
            "       'little_trouble', 'med_trouble', 'small_trouble', 'special',\n",
            "       'businessyear', 'businessmonth', 'businessday'],\n",
            "      dtype='object')\n"
          ]
        }
      ]
    },
    {
      "cell_type": "code",
      "execution_count": 169,
      "metadata": {
        "colab": {
          "base_uri": "https://localhost:8080/"
        },
        "id": "mKgDy-Djh5rj",
        "outputId": "d08f93d6-0479-4ce4-98d8-309d377b8830"
      },
      "outputs": [
        {
          "output_type": "stream",
          "name": "stdout",
          "text": [
            "[ 8940.61780105 13921.56020942 18761.97382199 ...  6623.4973822\n",
            "  8381.41361257 13315.31413613]\n",
            "4411\n"
          ]
        }
      ],
      "source": [
        "#store prediction for innum_1\n",
        "innum_1_pred = rf_model.predict(hold)\n",
        "print(innum_1_pred)\n",
        "print(len(innum_1_pred))"
      ]
    },
    {
      "cell_type": "markdown",
      "metadata": {
        "id": "O7YBSbecrrKw"
      },
      "source": [
        "### Create training and testing set for response variable **innum_102**. Build a random forest model to predict **innum_102** for our test dataset \"CASE_GROUP_PREDICT_HOLD_DATA.csv\""
      ]
    },
    {
      "cell_type": "code",
      "execution_count": 170,
      "metadata": {
        "id": "LV2DjKiWrtVy",
        "colab": {
          "base_uri": "https://localhost:8080/"
        },
        "outputId": "5ea22776-0baa-46ce-82b5-9f45e321ada6"
      },
      "outputs": [
        {
          "output_type": "stream",
          "name": "stdout",
          "text": [
            "Shape of X_train: (29698, 61)\n",
            "Shape of X_test: (7425, 61)\n",
            "Shape of y_train: (29698,)\n",
            "Shape of y_test: (7425,)\n"
          ]
        }
      ],
      "source": [
        "# Prepare data for training and testing model\n",
        "X = trn.drop(['total_visit','innum_1','innum_102','innum_103','innum_104','innum_1000290','innum'], axis=1)  # Independent variables\n",
        "y = trn['innum_102']  # Response variable\n",
        "\n",
        "# Splitting the dataset into 80% train and 20% test\n",
        "X_train, X_test, y_train, y_test = train_test_split(X, y, test_size=0.2, random_state=42)\n",
        "\n",
        "# Verify the shapes of the training and testing sets\n",
        "print('Shape of X_train:', X_train.shape)\n",
        "print('Shape of X_test:', X_test.shape)\n",
        "print('Shape of y_train:', y_train.shape)\n",
        "print('Shape of y_test:', y_test.shape)\n"
      ]
    },
    {
      "cell_type": "code",
      "execution_count": 171,
      "metadata": {
        "id": "UoQGTzOGsksd"
      },
      "outputs": [],
      "source": [
        "# Create a random forest model with 191 trees\n",
        "rf_model = RandomForestRegressor(n_estimators=191, random_state=42)\n",
        "\n",
        "# Fit the model on the training data\n",
        "rf_model.fit(X_train, y_train)\n",
        "\n",
        "# Make predictions on the test data\n",
        "y_pred = rf_model.predict(X_test)"
      ]
    },
    {
      "cell_type": "code",
      "execution_count": 172,
      "metadata": {
        "colab": {
          "base_uri": "https://localhost:8080/"
        },
        "id": "8YfHXTV8st9c",
        "outputId": "8fabd5cd-391d-45e8-e8a4-cc8b82808751"
      },
      "outputs": [
        {
          "output_type": "stream",
          "name": "stdout",
          "text": [
            "R-squared: 0.8086999181002594\n",
            "Root mean squared error 5633.493167420051\n",
            "Mean Absolute Error: 2665.4770462037477\n"
          ]
        }
      ],
      "source": [
        "# Calculate the R-squared value of the predictions\n",
        "r_squared = r2_score(y_test, y_pred)\n",
        "\n",
        "# Calculate the mean squared error of the predictions\n",
        "mse = mean_squared_error(y_test, y_pred)\n",
        "\n",
        "# Calculate the root mean squared error of the predictions\n",
        "rmse = np.sqrt(mse)\n",
        "\n",
        "# Calculate the MAE on the test data\n",
        "mae = mean_absolute_error(y_test, y_pred)\n",
        "\n",
        "print('R-squared:', r_squared)\n",
        "print('Root mean squared error', rmse)\n",
        "print('Mean Absolute Error:', mae)"
      ]
    },
    {
      "cell_type": "code",
      "execution_count": 173,
      "metadata": {
        "id": "SwMpxOFgaTc6",
        "colab": {
          "base_uri": "https://localhost:8080/"
        },
        "outputId": "e1c9fbe5-ebca-4c04-b0f0-e25a4b031576"
      },
      "outputs": [
        {
          "output_type": "execute_result",
          "data": {
            "text/plain": [
              "11.597410991742919"
            ]
          },
          "metadata": {},
          "execution_count": 173
        }
      ],
      "source": [
        "#Calculate MAE%\n",
        "mae_pct = (mae/np.mean(y_test))*100\n",
        "mae_pct"
      ]
    },
    {
      "cell_type": "code",
      "source": [
        "# Store performance metrics for model comparison later\n",
        "innum_102_r_squared_1 = r_squared\n",
        "innum_102_rmse_1 = rmse\n",
        "innum_102_mae_pct_1 = mae_pct"
      ],
      "metadata": {
        "id": "aDwp5fiOQi-p"
      },
      "execution_count": 174,
      "outputs": []
    },
    {
      "cell_type": "code",
      "source": [
        "#Check to see column index in both train and test data are in the same order\n",
        "print(X_train.columns)\n",
        "print(hold.columns)"
      ],
      "metadata": {
        "colab": {
          "base_uri": "https://localhost:8080/"
        },
        "id": "YsrQfqpk0knh",
        "outputId": "a270939f-c572-48e8-d111-7960f2bbdae2"
      },
      "execution_count": 175,
      "outputs": [
        {
          "output_type": "stream",
          "name": "stdout",
          "text": [
            "Index(['ZoneID', 'CityID', 'CityLevel', 'BusiArea', 'TotalBuildingArea',\n",
            "       'BusinessBuildingArea', 'year', 'month', 'day', 'weekday', 'holiday1',\n",
            "       'holiday9', 'holiday5', 'holiday4', 'holiday2', 'holiday10', 'holiday3',\n",
            "       'holiday11', 'holiday6', 'holiday7', 'new_year_eve', 'holiday8',\n",
            "       'workingday_makeup', 'day_temp', 'night_temp', 'day_wind', 'night_wind',\n",
            "       '1', '2', '3', '4', 'A?', 'B?', 'C?', 'Overcast', 'Thunder', 'cloudy',\n",
            "       'dust', 'foggy', 'haze', 'heavy_rain', 'heavy_snow', 'med_rain',\n",
            "       'med_snow', 'rain_storm', 'small_rain', 'small_snow', 'snow_rain',\n",
            "       'snow_storm', 'sunny', 'big_trouble', 'fair', 'good', 'huge_trouble',\n",
            "       'little_trouble', 'med_trouble', 'small_trouble', 'special',\n",
            "       'businessyear', 'businessmonth', 'businessday'],\n",
            "      dtype='object')\n",
            "Index(['ZoneID', 'CityID', 'CityLevel', 'BusiArea', 'TotalBuildingArea',\n",
            "       'BusinessBuildingArea', 'year', 'month', 'day', 'weekday', 'holiday1',\n",
            "       'holiday9', 'holiday5', 'holiday4', 'holiday2', 'holiday10', 'holiday3',\n",
            "       'holiday11', 'holiday6', 'holiday7', 'new_year_eve', 'holiday8',\n",
            "       'workingday_makeup', 'day_temp', 'night_temp', 'day_wind', 'night_wind',\n",
            "       '1', '2', '3', '4', 'A?', 'B?', 'C?', 'Overcast', 'Thunder', 'cloudy',\n",
            "       'dust', 'foggy', 'haze', 'heavy_rain', 'heavy_snow', 'med_rain',\n",
            "       'med_snow', 'rain_storm', 'small_rain', 'small_snow', 'snow_rain',\n",
            "       'snow_storm', 'sunny', 'big_trouble', 'fair', 'good', 'huge_trouble',\n",
            "       'little_trouble', 'med_trouble', 'small_trouble', 'special',\n",
            "       'businessyear', 'businessmonth', 'businessday'],\n",
            "      dtype='object')\n"
          ]
        }
      ]
    },
    {
      "cell_type": "code",
      "execution_count": 176,
      "metadata": {
        "colab": {
          "base_uri": "https://localhost:8080/"
        },
        "id": "-YcGVl80s7dw",
        "outputId": "558b8438-16db-4a55-ce9e-21960f1531aa"
      },
      "outputs": [
        {
          "output_type": "stream",
          "name": "stdout",
          "text": [
            "[22789.61256545 32517.18848168 34820.71727749 ... 12756.45549738\n",
            " 15829.85340314 20792.28795812]\n",
            "4411\n"
          ]
        }
      ],
      "source": [
        "#store prediction for innum_102\n",
        "innum_102_pred = rf_model.predict(hold)\n",
        "print(innum_102_pred)\n",
        "print(len(innum_102_pred))"
      ]
    },
    {
      "cell_type": "markdown",
      "metadata": {
        "id": "rrmjUNdkrzHE"
      },
      "source": [
        "### Create training and testing set for response variable **innum_103**. Build a random forest model to predict **innum_103** for our test dataset \"CASE_GROUP_PREDICT_HOLD_DATA.csv\""
      ]
    },
    {
      "cell_type": "code",
      "execution_count": 177,
      "metadata": {
        "id": "fUA0q3I4r2O0",
        "colab": {
          "base_uri": "https://localhost:8080/"
        },
        "outputId": "81298ba4-bb7a-4807-b1ff-6878f183fb58"
      },
      "outputs": [
        {
          "output_type": "stream",
          "name": "stdout",
          "text": [
            "Shape of X_train: (29698, 61)\n",
            "Shape of X_test: (7425, 61)\n",
            "Shape of y_train: (29698,)\n",
            "Shape of y_test: (7425,)\n"
          ]
        }
      ],
      "source": [
        "# Prepare data for training and testing model\n",
        "X = trn.drop(['total_visit','innum_1','innum_102','innum_103','innum_104','innum_1000290','innum'], axis=1)  # Independent variables\n",
        "y = trn['innum_103']  # Response variable\n",
        "\n",
        "# Splitting the dataset into 80% train and 20% test\n",
        "X_train, X_test, y_train, y_test = train_test_split(X, y, test_size=0.2, random_state=42)\n",
        "\n",
        "# Verify the shapes of the training and testing sets\n",
        "print('Shape of X_train:', X_train.shape)\n",
        "print('Shape of X_test:', X_test.shape)\n",
        "print('Shape of y_train:', y_train.shape)\n",
        "print('Shape of y_test:', y_test.shape)\n"
      ]
    },
    {
      "cell_type": "code",
      "execution_count": 178,
      "metadata": {
        "id": "GoiKzQm4snj8"
      },
      "outputs": [],
      "source": [
        "# Create a random forest model with 191 trees\n",
        "rf_model = RandomForestRegressor(n_estimators=191, random_state=42)\n",
        "\n",
        "# Fit the model on the training data\n",
        "rf_model.fit(X_train, y_train)\n",
        "\n",
        "# Make predictions on the test data\n",
        "y_pred = rf_model.predict(X_test)"
      ]
    },
    {
      "cell_type": "code",
      "execution_count": 179,
      "metadata": {
        "colab": {
          "base_uri": "https://localhost:8080/"
        },
        "id": "1XDNk-yCsvYz",
        "outputId": "c0d2eb0b-2ff4-4bc7-e66a-5eabb3b16bf8"
      },
      "outputs": [
        {
          "output_type": "stream",
          "name": "stdout",
          "text": [
            "R-squared: 0.8047497647275947\n",
            "Root mean squared error 3866.3566468351596\n",
            "Mean Absolute Error: 1803.4922763410723\n"
          ]
        }
      ],
      "source": [
        "# Calculate the R-squared value of the predictions\n",
        "r_squared = r2_score(y_test, y_pred)\n",
        "\n",
        "# Calculate the mean squared error of the predictions\n",
        "mse = mean_squared_error(y_test, y_pred)\n",
        "\n",
        "# Calculate the root mean squared error of the predictions\n",
        "rmse = np.sqrt(mse)\n",
        "\n",
        "# Calculate the MAE on the test data\n",
        "mae = mean_absolute_error(y_test, y_pred)\n",
        "\n",
        "print('R-squared:', r_squared)\n",
        "print('Root mean squared error', rmse)\n",
        "print('Mean Absolute Error:', mae)"
      ]
    },
    {
      "cell_type": "code",
      "execution_count": 180,
      "metadata": {
        "id": "x_QJqKJxaRT8",
        "colab": {
          "base_uri": "https://localhost:8080/"
        },
        "outputId": "d31a2fda-0c80-41fb-fbc7-bc754d641a3e"
      },
      "outputs": [
        {
          "output_type": "execute_result",
          "data": {
            "text/plain": [
              "14.623366575392325"
            ]
          },
          "metadata": {},
          "execution_count": 180
        }
      ],
      "source": [
        "#Calculate MAE%\n",
        "mae_pct = (mae/np.mean(y_test))*100\n",
        "mae_pct"
      ]
    },
    {
      "cell_type": "code",
      "source": [
        "# Store performance metrics for model comparison later\n",
        "innum_103_r_squared_1 = r_squared\n",
        "innum_103_rmse_1 = rmse\n",
        "innum_103_mae_pct_1 = mae_pct"
      ],
      "metadata": {
        "id": "O8E2gJBnQnOe"
      },
      "execution_count": 181,
      "outputs": []
    },
    {
      "cell_type": "code",
      "source": [
        "#Check to see column index in both train and test data are in the same order\n",
        "print(X_train.columns)\n",
        "print(hold.columns)"
      ],
      "metadata": {
        "colab": {
          "base_uri": "https://localhost:8080/"
        },
        "id": "XspgN-fP1GKe",
        "outputId": "cf87162a-1efa-421d-d17f-d74ecb51873a"
      },
      "execution_count": 182,
      "outputs": [
        {
          "output_type": "stream",
          "name": "stdout",
          "text": [
            "Index(['ZoneID', 'CityID', 'CityLevel', 'BusiArea', 'TotalBuildingArea',\n",
            "       'BusinessBuildingArea', 'year', 'month', 'day', 'weekday', 'holiday1',\n",
            "       'holiday9', 'holiday5', 'holiday4', 'holiday2', 'holiday10', 'holiday3',\n",
            "       'holiday11', 'holiday6', 'holiday7', 'new_year_eve', 'holiday8',\n",
            "       'workingday_makeup', 'day_temp', 'night_temp', 'day_wind', 'night_wind',\n",
            "       '1', '2', '3', '4', 'A?', 'B?', 'C?', 'Overcast', 'Thunder', 'cloudy',\n",
            "       'dust', 'foggy', 'haze', 'heavy_rain', 'heavy_snow', 'med_rain',\n",
            "       'med_snow', 'rain_storm', 'small_rain', 'small_snow', 'snow_rain',\n",
            "       'snow_storm', 'sunny', 'big_trouble', 'fair', 'good', 'huge_trouble',\n",
            "       'little_trouble', 'med_trouble', 'small_trouble', 'special',\n",
            "       'businessyear', 'businessmonth', 'businessday'],\n",
            "      dtype='object')\n",
            "Index(['ZoneID', 'CityID', 'CityLevel', 'BusiArea', 'TotalBuildingArea',\n",
            "       'BusinessBuildingArea', 'year', 'month', 'day', 'weekday', 'holiday1',\n",
            "       'holiday9', 'holiday5', 'holiday4', 'holiday2', 'holiday10', 'holiday3',\n",
            "       'holiday11', 'holiday6', 'holiday7', 'new_year_eve', 'holiday8',\n",
            "       'workingday_makeup', 'day_temp', 'night_temp', 'day_wind', 'night_wind',\n",
            "       '1', '2', '3', '4', 'A?', 'B?', 'C?', 'Overcast', 'Thunder', 'cloudy',\n",
            "       'dust', 'foggy', 'haze', 'heavy_rain', 'heavy_snow', 'med_rain',\n",
            "       'med_snow', 'rain_storm', 'small_rain', 'small_snow', 'snow_rain',\n",
            "       'snow_storm', 'sunny', 'big_trouble', 'fair', 'good', 'huge_trouble',\n",
            "       'little_trouble', 'med_trouble', 'small_trouble', 'special',\n",
            "       'businessyear', 'businessmonth', 'businessday'],\n",
            "      dtype='object')\n"
          ]
        }
      ]
    },
    {
      "cell_type": "code",
      "execution_count": 183,
      "metadata": {
        "colab": {
          "base_uri": "https://localhost:8080/"
        },
        "id": "PH7vjV9ws8a9",
        "outputId": "5f46dbd1-450a-4843-e001-3d4240f6a85a"
      },
      "outputs": [
        {
          "output_type": "stream",
          "name": "stdout",
          "text": [
            "[14552.70157068 19588.17801047 19651.52356021 ...  6980.56544503\n",
            "  8040.7591623  12709.46073298]\n",
            "4411\n"
          ]
        }
      ],
      "source": [
        "#store prediction for innum_103\n",
        "innum_103_pred = rf_model.predict(hold)\n",
        "print(innum_103_pred)\n",
        "print(len(innum_103_pred))"
      ]
    },
    {
      "cell_type": "markdown",
      "metadata": {
        "id": "e0puKE61r2gi"
      },
      "source": [
        "### Create training and testing set for response variable **innum_104**. Build a random forest model to predict **innum_104** for our test dataset \"CASE_GROUP_PREDICT_HOLD_DATA.csv\""
      ]
    },
    {
      "cell_type": "code",
      "execution_count": 184,
      "metadata": {
        "id": "O8_SjrX9r4VX",
        "colab": {
          "base_uri": "https://localhost:8080/"
        },
        "outputId": "aa2af306-4ed3-443f-de50-6f6ba0eba053"
      },
      "outputs": [
        {
          "output_type": "stream",
          "name": "stdout",
          "text": [
            "Shape of X_train: (29698, 61)\n",
            "Shape of X_test: (7425, 61)\n",
            "Shape of y_train: (29698,)\n",
            "Shape of y_test: (7425,)\n"
          ]
        }
      ],
      "source": [
        "# Prepare data for training and testing model\n",
        "X = trn.drop(['total_visit','innum_1','innum_102','innum_103','innum_104','innum_1000290','innum'], axis=1)  # Independent variables\n",
        "y = trn['innum_104']  # Response variable\n",
        "\n",
        "# Splitting the dataset into 80% train and 20% test\n",
        "X_train, X_test, y_train, y_test = train_test_split(X, y, test_size=0.2, random_state=42)\n",
        "\n",
        "# Verify the shapes of the training and testing sets\n",
        "print('Shape of X_train:', X_train.shape)\n",
        "print('Shape of X_test:', X_test.shape)\n",
        "print('Shape of y_train:', y_train.shape)\n",
        "print('Shape of y_test:', y_test.shape)\n"
      ]
    },
    {
      "cell_type": "code",
      "execution_count": 185,
      "metadata": {
        "id": "8tzBxgr9soTK"
      },
      "outputs": [],
      "source": [
        "# Create a random forest model with 191 trees\n",
        "rf_model = RandomForestRegressor(n_estimators=191, random_state=42)\n",
        "\n",
        "# Fit the model on the training data\n",
        "rf_model.fit(X_train, y_train)\n",
        "\n",
        "# Make predictions on the test data\n",
        "y_pred = rf_model.predict(X_test)"
      ]
    },
    {
      "cell_type": "code",
      "execution_count": 186,
      "metadata": {
        "colab": {
          "base_uri": "https://localhost:8080/"
        },
        "id": "O6uMjMtmsweQ",
        "outputId": "6afd79b0-d601-4b75-a6e6-d3ac314b817f"
      },
      "outputs": [
        {
          "output_type": "stream",
          "name": "stdout",
          "text": [
            "R-squared: 0.8306739385264335\n",
            "Root mean squared error 3992.945999812899\n",
            "Mean Absolute Error: 1968.0268500008813\n"
          ]
        }
      ],
      "source": [
        "# Calculate the R-squared value of the predictions\n",
        "r_squared = r2_score(y_test, y_pred)\n",
        "\n",
        "# Calculate the mean squared error of the predictions\n",
        "mse = mean_squared_error(y_test, y_pred)\n",
        "\n",
        "# Calculate the root mean squared error of the predictions\n",
        "rmse = np.sqrt(mse)\n",
        "\n",
        "# Calculate the MAE on the test data\n",
        "mae = mean_absolute_error(y_test, y_pred)\n",
        "\n",
        "print('R-squared:', r_squared)\n",
        "print('Root mean squared error', rmse)\n",
        "print('Mean Absolute Error:', mae)"
      ]
    },
    {
      "cell_type": "code",
      "execution_count": 187,
      "metadata": {
        "id": "4aipG98cKUOS",
        "colab": {
          "base_uri": "https://localhost:8080/"
        },
        "outputId": "5095af38-67ab-4161-9be4-ebd3426e6696"
      },
      "outputs": [
        {
          "output_type": "execute_result",
          "data": {
            "text/plain": [
              "13.571510723544206"
            ]
          },
          "metadata": {},
          "execution_count": 187
        }
      ],
      "source": [
        "#Calculate MAE%\n",
        "mae_pct = (mae/np.mean(y_test))*100\n",
        "mae_pct"
      ]
    },
    {
      "cell_type": "code",
      "source": [
        "# Store performance metrics for model comparison later\n",
        "innum_104_r_squared_1 = r_squared\n",
        "innum_104_rmse_1 = rmse\n",
        "innum_104_mae_pct_1 = mae_pct"
      ],
      "metadata": {
        "id": "o1H53LbGQrCJ"
      },
      "execution_count": 188,
      "outputs": []
    },
    {
      "cell_type": "code",
      "execution_count": 189,
      "metadata": {
        "colab": {
          "base_uri": "https://localhost:8080/"
        },
        "id": "L54cUyRss9XJ",
        "outputId": "2d4e335f-2a1c-4f5d-bed8-28d7a6003dd8"
      },
      "outputs": [
        {
          "output_type": "stream",
          "name": "stdout",
          "text": [
            "[13906.48691099 20233.63874346 20806.02094241 ...  8203.94240838\n",
            " 10996.13612565 16561.14659686]\n",
            "4411\n"
          ]
        }
      ],
      "source": [
        "#store prediction for innum_104\n",
        "innum_104_pred = rf_model.predict(hold)\n",
        "print(innum_104_pred)\n",
        "print(len(innum_104_pred))"
      ]
    },
    {
      "cell_type": "markdown",
      "metadata": {
        "id": "aHx4LlD3r6lH"
      },
      "source": [
        "### Create training and testing set for response variable **innum_1000290**. Build a random forest model to predict **innum_1000290** for our test dataset \"CASE_GROUP_PREDICT_HOLD_DATA.csv\""
      ]
    },
    {
      "cell_type": "code",
      "execution_count": 190,
      "metadata": {
        "id": "B_K-EpR2r9r-",
        "colab": {
          "base_uri": "https://localhost:8080/"
        },
        "outputId": "13f50391-9aa8-476e-f480-3a6ca2ae57ec"
      },
      "outputs": [
        {
          "output_type": "stream",
          "name": "stdout",
          "text": [
            "Shape of X_train: (29698, 61)\n",
            "Shape of X_test: (7425, 61)\n",
            "Shape of y_train: (29698,)\n",
            "Shape of y_test: (7425,)\n"
          ]
        }
      ],
      "source": [
        "# Prepare data for training and testing model\n",
        "X = trn.drop(['total_visit','innum_1','innum_102','innum_103','innum_104','innum_1000290','innum'], axis=1)  # Independent variables\n",
        "y = trn['innum_1000290']  # Response variable\n",
        "\n",
        "# Splitting the dataset into 80% train and 20% test\n",
        "X_train, X_test, y_train, y_test = train_test_split(X, y, test_size=0.2, random_state=42)\n",
        "\n",
        "# Verify the shapes of the training and testing sets\n",
        "print('Shape of X_train:', X_train.shape)\n",
        "print('Shape of X_test:', X_test.shape)\n",
        "print('Shape of y_train:', y_train.shape)\n",
        "print('Shape of y_test:', y_test.shape)\n"
      ]
    },
    {
      "cell_type": "code",
      "execution_count": 191,
      "metadata": {
        "id": "_hUngFuFspGg"
      },
      "outputs": [],
      "source": [
        "# Create a random forest model with 191 trees\n",
        "rf_model = RandomForestRegressor(n_estimators=191, random_state=42)\n",
        "\n",
        "# Fit the model on the training data\n",
        "rf_model.fit(X_train, y_train)\n",
        "\n",
        "# Make predictions on the test data\n",
        "y_pred = rf_model.predict(X_test)"
      ]
    },
    {
      "cell_type": "code",
      "execution_count": 192,
      "metadata": {
        "colab": {
          "base_uri": "https://localhost:8080/"
        },
        "id": "fZu4KEYEsx_W",
        "outputId": "af2ab1ee-cc7e-4ab1-beb8-474b9c811720"
      },
      "outputs": [
        {
          "output_type": "stream",
          "name": "stdout",
          "text": [
            "R-squared: 0.27821740327525935\n",
            "Root mean squared error 1665.973487202673\n",
            "Mean Absolute Error: 235.50116099917147\n"
          ]
        }
      ],
      "source": [
        "# Calculate the R-squared value of the predictions\n",
        "r_squared = r2_score(y_test, y_pred)\n",
        "\n",
        "# Calculate the mean squared error of the predictions\n",
        "mse = mean_squared_error(y_test, y_pred)\n",
        "\n",
        "# Calculate the root mean squared error of the predictions\n",
        "rmse = np.sqrt(mse)\n",
        "\n",
        "# Calculate the MAE on the test data\n",
        "mae = mean_absolute_error(y_test, y_pred)\n",
        "\n",
        "print('R-squared:', r_squared)\n",
        "print('Root mean squared error', rmse)\n",
        "print('Mean Absolute Error:', mae)"
      ]
    },
    {
      "cell_type": "markdown",
      "source": [
        "Note the R-squared for **innum_1000290** is very low"
      ],
      "metadata": {
        "id": "wYNnLf8qILfh"
      }
    },
    {
      "cell_type": "code",
      "execution_count": 193,
      "metadata": {
        "colab": {
          "base_uri": "https://localhost:8080/"
        },
        "id": "QjlimaMga_Kd",
        "outputId": "75f1accc-5a5b-4213-82bb-5769af9781da"
      },
      "outputs": [
        {
          "output_type": "execute_result",
          "data": {
            "text/plain": [
              "20.30681546153685"
            ]
          },
          "metadata": {},
          "execution_count": 193
        }
      ],
      "source": [
        "#Calculate MAE%\n",
        "mae_pct = (mae/np.mean(y_test))*100\n",
        "mae_pct"
      ]
    },
    {
      "cell_type": "code",
      "source": [
        "# Store performance metrics for model comparison later\n",
        "innum_1000290_r_squared_1 = r_squared\n",
        "innum_1000290_rmse_1 = rmse\n",
        "innum_1000290_mae_pct_1 = mae_pct"
      ],
      "metadata": {
        "id": "gia6pCmkQuuI"
      },
      "execution_count": 194,
      "outputs": []
    },
    {
      "cell_type": "markdown",
      "source": [
        "MAE% for our model in predicting **innum_1000290** does not meet the criteria. Referring back to earlier correlation matrix, we found that **innum_1000290** which is the Service stores category has basically no correlation with our numerical independent variable. This might explain why the model is having bad performance in predicting this traffic response variable. Based on earlier histogram and boxplot, **innum_1000290** was seen to have the most prominent outliers among all response variables. We will consider a log transformation for all reponse variables later on in **Part** 2 to see if it will improve our model performance"
      ],
      "metadata": {
        "id": "_NWBTFg7IXFs"
      }
    },
    {
      "cell_type": "code",
      "execution_count": 195,
      "metadata": {
        "colab": {
          "base_uri": "https://localhost:8080/"
        },
        "id": "VLE8nIwTs-kw",
        "outputId": "cc3bd8c3-302b-42f2-c619-aa2cf091f14b"
      },
      "outputs": [
        {
          "output_type": "stream",
          "name": "stdout",
          "text": [
            "[ 951.4973822  1137.36649215 4018.94240838 ...  698.29842932  843.57068063\n",
            " 1415.65968586]\n",
            "4411\n"
          ]
        }
      ],
      "source": [
        "#store prediction for innum_1000290\n",
        "innum_1000290_pred = rf_model.predict(hold)\n",
        "print(innum_1000290_pred)\n",
        "print(len(innum_1000290_pred))"
      ]
    },
    {
      "cell_type": "markdown",
      "metadata": {
        "id": "Z1WPbe2ft_g8"
      },
      "source": [
        "# Merge all prediction results for submission"
      ]
    },
    {
      "cell_type": "code",
      "execution_count": 196,
      "metadata": {
        "id": "qkYSHQCFuOkg",
        "colab": {
          "base_uri": "https://localhost:8080/"
        },
        "outputId": "e5464a64-e4c5-4c2c-c961-5b8be3d248bc"
      },
      "outputs": [
        {
          "output_type": "stream",
          "name": "stdout",
          "text": [
            "[40519.11518325 53809.4921466  55351.61780105 ... 23669.48691099\n",
            " 30980.18324607 43892.45026178]\n",
            "4411\n",
            "[ 84296.71727749 103599.53926702 109376.28272251 ...  40145.03664921\n",
            "  54013.45026178  86795.27748691]\n",
            "4411\n",
            "[ 8940.61780105 13921.56020942 18761.97382199 ...  6623.4973822\n",
            "  8381.41361257 13315.31413613]\n",
            "4411\n",
            "[22789.61256545 32517.18848168 34820.71727749 ... 12756.45549738\n",
            " 15829.85340314 20792.28795812]\n",
            "4411\n",
            "[14552.70157068 19588.17801047 19651.52356021 ...  6980.56544503\n",
            "  8040.7591623  12709.46073298]\n",
            "4411\n",
            "[13906.48691099 20233.63874346 20806.02094241 ...  8203.94240838\n",
            " 10996.13612565 16561.14659686]\n",
            "4411\n",
            "[ 951.4973822  1137.36649215 4018.94240838 ...  698.29842932  843.57068063\n",
            " 1415.65968586]\n",
            "4411\n"
          ]
        }
      ],
      "source": [
        "#Verify results from each of the 7 response variables\n",
        "print(innumpred)\n",
        "print(len(innumpred))\n",
        "\n",
        "print(total_visit_pred)\n",
        "print(len(total_visit_pred))\n",
        "\n",
        "print(innum_1_pred)\n",
        "print(len(innum_1_pred))\n",
        "\n",
        "print(innum_102_pred)\n",
        "print(len(innum_102_pred))\n",
        "\n",
        "print(innum_103_pred)\n",
        "print(len(innum_103_pred))\n",
        "\n",
        "print(innum_104_pred)\n",
        "print(len(innum_104_pred))\n",
        "\n",
        "print(innum_1000290_pred)\n",
        "print(len(innum_1000290_pred))"
      ]
    },
    {
      "cell_type": "code",
      "execution_count": 197,
      "metadata": {
        "id": "EuV5A_QcuoOd"
      },
      "outputs": [],
      "source": [
        "# Convert the arrays to dataframes\n",
        "hold_plazaid = pd.DataFrame(hold_plazaid, columns=['plazaid'])\n",
        "hold_date = pd.DataFrame(hold_date, columns=['date'])\n",
        "total_visit_pred = pd.DataFrame(total_visit_pred, columns=['total_visit_pred'])\n",
        "innum_1_pred = pd.DataFrame(innum_1_pred, columns=['innum_1_pred'])\n",
        "innum_102_pred = pd.DataFrame(innum_102_pred, columns=['innum_102_pred'])\n",
        "innum_103_pred = pd.DataFrame(innum_103_pred, columns=['innum_103_pred'])\n",
        "innum_104_pred = pd.DataFrame(innum_104_pred, columns=['innum_104_pred'])\n",
        "innum_1000290_pred = pd.DataFrame(innum_1000290_pred, columns=['innum_1000290_pred'])\n",
        "innumpred = pd.DataFrame(innumpred, columns=['innumpred'])\n",
        "\n",
        "# Concatenate the dataframes in the desired order\n",
        "final_output = pd.concat([hold_plazaid, hold_date, total_visit_pred, innum_1_pred, innum_102_pred, innum_103_pred, innum_104_pred, innum_1000290_pred, innumpred], axis=1)"
      ]
    },
    {
      "cell_type": "code",
      "execution_count": 198,
      "metadata": {
        "id": "xsJHgtjfbzwz",
        "colab": {
          "base_uri": "https://localhost:8080/",
          "height": 206
        },
        "outputId": "c0ec9f33-0a2e-46c0-83fc-43aaa9472c6d"
      },
      "outputs": [
        {
          "output_type": "execute_result",
          "data": {
            "text/plain": [
              "  plazaid      date  total_visit_pred  innum_1_pred  innum_102_pred  \\\n",
              "0      45  7/1/2016      84296.717277   8940.617801    22789.612565   \n",
              "1      45  7/2/2016     103599.539267  13921.560209    32517.188482   \n",
              "2      45  7/3/2016     109376.282723  18761.973822    34820.717277   \n",
              "3      45  7/4/2016      65319.204188   7129.324607    17672.319372   \n",
              "4      45  7/5/2016      64842.759162   6720.853403    18265.591623   \n",
              "\n",
              "   innum_103_pred  innum_104_pred  innum_1000290_pred     innumpred  \n",
              "0    14552.701571    13906.486911          951.497382  40519.115183  \n",
              "1    19588.178010    20233.638743         1137.366492  53809.492147  \n",
              "2    19651.523560    20806.020942         4018.942408  55351.617801  \n",
              "3    10813.303665    10995.638743          601.340314  31148.628272  \n",
              "4    11136.005236    10759.225131          612.685864  31300.827225  "
            ],
            "text/html": [
              "\n",
              "  <div id=\"df-ba011784-73f4-48cc-aa09-35b80664dd6b\">\n",
              "    <div class=\"colab-df-container\">\n",
              "      <div>\n",
              "<style scoped>\n",
              "    .dataframe tbody tr th:only-of-type {\n",
              "        vertical-align: middle;\n",
              "    }\n",
              "\n",
              "    .dataframe tbody tr th {\n",
              "        vertical-align: top;\n",
              "    }\n",
              "\n",
              "    .dataframe thead th {\n",
              "        text-align: right;\n",
              "    }\n",
              "</style>\n",
              "<table border=\"1\" class=\"dataframe\">\n",
              "  <thead>\n",
              "    <tr style=\"text-align: right;\">\n",
              "      <th></th>\n",
              "      <th>plazaid</th>\n",
              "      <th>date</th>\n",
              "      <th>total_visit_pred</th>\n",
              "      <th>innum_1_pred</th>\n",
              "      <th>innum_102_pred</th>\n",
              "      <th>innum_103_pred</th>\n",
              "      <th>innum_104_pred</th>\n",
              "      <th>innum_1000290_pred</th>\n",
              "      <th>innumpred</th>\n",
              "    </tr>\n",
              "  </thead>\n",
              "  <tbody>\n",
              "    <tr>\n",
              "      <th>0</th>\n",
              "      <td>45</td>\n",
              "      <td>7/1/2016</td>\n",
              "      <td>84296.717277</td>\n",
              "      <td>8940.617801</td>\n",
              "      <td>22789.612565</td>\n",
              "      <td>14552.701571</td>\n",
              "      <td>13906.486911</td>\n",
              "      <td>951.497382</td>\n",
              "      <td>40519.115183</td>\n",
              "    </tr>\n",
              "    <tr>\n",
              "      <th>1</th>\n",
              "      <td>45</td>\n",
              "      <td>7/2/2016</td>\n",
              "      <td>103599.539267</td>\n",
              "      <td>13921.560209</td>\n",
              "      <td>32517.188482</td>\n",
              "      <td>19588.178010</td>\n",
              "      <td>20233.638743</td>\n",
              "      <td>1137.366492</td>\n",
              "      <td>53809.492147</td>\n",
              "    </tr>\n",
              "    <tr>\n",
              "      <th>2</th>\n",
              "      <td>45</td>\n",
              "      <td>7/3/2016</td>\n",
              "      <td>109376.282723</td>\n",
              "      <td>18761.973822</td>\n",
              "      <td>34820.717277</td>\n",
              "      <td>19651.523560</td>\n",
              "      <td>20806.020942</td>\n",
              "      <td>4018.942408</td>\n",
              "      <td>55351.617801</td>\n",
              "    </tr>\n",
              "    <tr>\n",
              "      <th>3</th>\n",
              "      <td>45</td>\n",
              "      <td>7/4/2016</td>\n",
              "      <td>65319.204188</td>\n",
              "      <td>7129.324607</td>\n",
              "      <td>17672.319372</td>\n",
              "      <td>10813.303665</td>\n",
              "      <td>10995.638743</td>\n",
              "      <td>601.340314</td>\n",
              "      <td>31148.628272</td>\n",
              "    </tr>\n",
              "    <tr>\n",
              "      <th>4</th>\n",
              "      <td>45</td>\n",
              "      <td>7/5/2016</td>\n",
              "      <td>64842.759162</td>\n",
              "      <td>6720.853403</td>\n",
              "      <td>18265.591623</td>\n",
              "      <td>11136.005236</td>\n",
              "      <td>10759.225131</td>\n",
              "      <td>612.685864</td>\n",
              "      <td>31300.827225</td>\n",
              "    </tr>\n",
              "  </tbody>\n",
              "</table>\n",
              "</div>\n",
              "      <button class=\"colab-df-convert\" onclick=\"convertToInteractive('df-ba011784-73f4-48cc-aa09-35b80664dd6b')\"\n",
              "              title=\"Convert this dataframe to an interactive table.\"\n",
              "              style=\"display:none;\">\n",
              "        \n",
              "  <svg xmlns=\"http://www.w3.org/2000/svg\" height=\"24px\"viewBox=\"0 0 24 24\"\n",
              "       width=\"24px\">\n",
              "    <path d=\"M0 0h24v24H0V0z\" fill=\"none\"/>\n",
              "    <path d=\"M18.56 5.44l.94 2.06.94-2.06 2.06-.94-2.06-.94-.94-2.06-.94 2.06-2.06.94zm-11 1L8.5 8.5l.94-2.06 2.06-.94-2.06-.94L8.5 2.5l-.94 2.06-2.06.94zm10 10l.94 2.06.94-2.06 2.06-.94-2.06-.94-.94-2.06-.94 2.06-2.06.94z\"/><path d=\"M17.41 7.96l-1.37-1.37c-.4-.4-.92-.59-1.43-.59-.52 0-1.04.2-1.43.59L10.3 9.45l-7.72 7.72c-.78.78-.78 2.05 0 2.83L4 21.41c.39.39.9.59 1.41.59.51 0 1.02-.2 1.41-.59l7.78-7.78 2.81-2.81c.8-.78.8-2.07 0-2.86zM5.41 20L4 18.59l7.72-7.72 1.47 1.35L5.41 20z\"/>\n",
              "  </svg>\n",
              "      </button>\n",
              "      \n",
              "  <style>\n",
              "    .colab-df-container {\n",
              "      display:flex;\n",
              "      flex-wrap:wrap;\n",
              "      gap: 12px;\n",
              "    }\n",
              "\n",
              "    .colab-df-convert {\n",
              "      background-color: #E8F0FE;\n",
              "      border: none;\n",
              "      border-radius: 50%;\n",
              "      cursor: pointer;\n",
              "      display: none;\n",
              "      fill: #1967D2;\n",
              "      height: 32px;\n",
              "      padding: 0 0 0 0;\n",
              "      width: 32px;\n",
              "    }\n",
              "\n",
              "    .colab-df-convert:hover {\n",
              "      background-color: #E2EBFA;\n",
              "      box-shadow: 0px 1px 2px rgba(60, 64, 67, 0.3), 0px 1px 3px 1px rgba(60, 64, 67, 0.15);\n",
              "      fill: #174EA6;\n",
              "    }\n",
              "\n",
              "    [theme=dark] .colab-df-convert {\n",
              "      background-color: #3B4455;\n",
              "      fill: #D2E3FC;\n",
              "    }\n",
              "\n",
              "    [theme=dark] .colab-df-convert:hover {\n",
              "      background-color: #434B5C;\n",
              "      box-shadow: 0px 1px 3px 1px rgba(0, 0, 0, 0.15);\n",
              "      filter: drop-shadow(0px 1px 2px rgba(0, 0, 0, 0.3));\n",
              "      fill: #FFFFFF;\n",
              "    }\n",
              "  </style>\n",
              "\n",
              "      <script>\n",
              "        const buttonEl =\n",
              "          document.querySelector('#df-ba011784-73f4-48cc-aa09-35b80664dd6b button.colab-df-convert');\n",
              "        buttonEl.style.display =\n",
              "          google.colab.kernel.accessAllowed ? 'block' : 'none';\n",
              "\n",
              "        async function convertToInteractive(key) {\n",
              "          const element = document.querySelector('#df-ba011784-73f4-48cc-aa09-35b80664dd6b');\n",
              "          const dataTable =\n",
              "            await google.colab.kernel.invokeFunction('convertToInteractive',\n",
              "                                                     [key], {});\n",
              "          if (!dataTable) return;\n",
              "\n",
              "          const docLinkHtml = 'Like what you see? Visit the ' +\n",
              "            '<a target=\"_blank\" href=https://colab.research.google.com/notebooks/data_table.ipynb>data table notebook</a>'\n",
              "            + ' to learn more about interactive tables.';\n",
              "          element.innerHTML = '';\n",
              "          dataTable['output_type'] = 'display_data';\n",
              "          await google.colab.output.renderOutput(dataTable, element);\n",
              "          const docLink = document.createElement('div');\n",
              "          docLink.innerHTML = docLinkHtml;\n",
              "          element.appendChild(docLink);\n",
              "        }\n",
              "      </script>\n",
              "    </div>\n",
              "  </div>\n",
              "  "
            ]
          },
          "metadata": {},
          "execution_count": 198
        }
      ],
      "source": [
        "final_output.head()"
      ]
    },
    {
      "cell_type": "code",
      "execution_count": 199,
      "metadata": {
        "id": "_pzXBhF9caUx"
      },
      "outputs": [],
      "source": [
        "# Write dataframe to Excel file\n",
        "final_output.to_excel('output_file.xlsx', index=False)"
      ]
    },
    {
      "cell_type": "markdown",
      "source": [
        "# Summary of model performance in Part 1\n",
        "Random forest model with 191 estimators (No log transformation on response variables)"
      ],
      "metadata": {
        "id": "N9S0Eh0uQ3i-"
      }
    },
    {
      "cell_type": "code",
      "source": [
        "print('model performance for innum:', '\\n', 'r_squared:', innum_r_squared_1, 'rmse:', innum_rmse_1, 'mae%:', innum_mae_pct_1)\n",
        "print()\n",
        "print('model performance for innum_1:', '\\n', 'r_squared:', innum_1_r_squared_1, 'rmse:', innum_1_rmse_1, 'mae%:', innum_1_mae_pct_1)\n",
        "print()\n",
        "print('model performance for innum_102:', '\\n', 'r_squared:', innum_102_r_squared_1, 'rmse:', innum_102_rmse_1, 'mae%:', innum_102_mae_pct_1)\n",
        "print()\n",
        "print('model performance for innum_103:', '\\n', 'r_squared:', innum_103_r_squared_1, 'rmse:', innum_103_rmse_1, 'mae%:', innum_103_mae_pct_1)\n",
        "print()\n",
        "print('model performance for innum_104:', '\\n', 'r_squared:', innum_104_r_squared_1, 'rmse:', innum_104_rmse_1, 'mae%:', innum_104_mae_pct_1)\n",
        "print()\n",
        "print('model performance for innum_1000290:', '\\n', 'r_squared:', innum_1000290_r_squared_1, 'rmse:', innum_1000290_rmse_1, 'mae%:', innum_1000290_mae_pct_1)\n",
        "print()\n",
        "print('model performance for total_visit:', '\\n', 'r_squared:', total_visit_r_squared_1, 'rmse:', total_visit_rmse_1, 'mae%:', total_visit_mae_pct_1)"
      ],
      "metadata": {
        "colab": {
          "base_uri": "https://localhost:8080/"
        },
        "id": "c6vZ4ShXQ9mQ",
        "outputId": "4b60a19e-952a-4190-f0ce-f747323d67f5"
      },
      "execution_count": 209,
      "outputs": [
        {
          "output_type": "stream",
          "name": "stdout",
          "text": [
            "model performance for innum: \n",
            " r_squared: 0.8434428388369322 rmse: 6285.4069221398795 mae%: 9.545255395447088\n",
            "\n",
            "model performance for innum_1: \n",
            " r_squared: 0.8989542977010949 rmse: 4907.221851272183 mae%: 12.036520620166744\n",
            "\n",
            "model performance for innum_102: \n",
            " r_squared: 0.8086999181002594 rmse: 5633.493167420051 mae%: 11.597410991742919\n",
            "\n",
            "model performance for innum_103: \n",
            " r_squared: 0.8047497647275947 rmse: 3866.3566468351596 mae%: 14.623366575392325\n",
            "\n",
            "model performance for innum_104: \n",
            " r_squared: 0.8306739385264335 rmse: 3992.945999812899 mae%: 13.571510723544206\n",
            "\n",
            "model performance for innum_1000290: \n",
            " r_squared: 0.27821740327525935 rmse: 1665.973487202673 mae%: 20.30681546153685\n",
            "\n",
            "model performance for total_visit: \n",
            " r_squared: 0.8635982671098092 rmse: 15726.973401090445 mae%: 10.733756281623787\n"
          ]
        }
      ]
    }
  ],
  "metadata": {
    "colab": {
      "provenance": [],
      "authorship_tag": "ABX9TyNvT92D0GjbFfHA3402wTt+",
      "include_colab_link": true
    },
    "kernelspec": {
      "display_name": "Python 3",
      "name": "python3"
    },
    "language_info": {
      "name": "python"
    }
  },
  "nbformat": 4,
  "nbformat_minor": 0
}